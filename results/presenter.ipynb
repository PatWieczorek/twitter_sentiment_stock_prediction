{
 "cells": [
  {
   "cell_type": "code",
   "execution_count": 219,
   "metadata": {},
   "outputs": [],
   "source": [
    "import pandas as pd\n",
    "import numpy as np\n",
    "import matplotlib.pyplot as plt\n",
    "import re\n",
    "import json"
   ]
  },
  {
   "cell_type": "code",
   "execution_count": 210,
   "metadata": {},
   "outputs": [],
   "source": [
    "\n",
    "file_names = [\n",
    "    \"DT_BASE.txt\",\n",
    "    \"DT_no_w.txt\",\n",
    "]"
   ]
  },
  {
   "cell_type": "code",
   "execution_count": 211,
   "metadata": {},
   "outputs": [],
   "source": [
    "def read_txt(file_name):\n",
    "    path = r\"../results/v3/\"\n",
    "    \n",
    "    with open(path + file_name, \"r\") as file:\n",
    "        x = file.read()\n",
    "        x = x.replace(\"\\\\n\", \"\").replace(\"\\\\\", \"\").replace(\"\\n\", \"\")\n",
    "        y = re.split(\"[AFR]\\w+:\", x)[1:]\n",
    "        y[2] = y[2].replace(r'}}\"', \"}}\")\n",
    "\n",
    "        acc = json.loads(y[0])\n",
    "        f1 = json.loads(y[1])\n",
    "        roc = json.loads(y[2])\n",
    "    \n",
    "    return acc, f1, roc\n"
   ]
  },
  {
   "cell_type": "code",
   "execution_count": 212,
   "metadata": {},
   "outputs": [],
   "source": [
    "dt_acc, dt_f1, dt_roc = read_txt(\"DT_BASE.txt\")\n",
    "dt2_acc, dt2_f1, dt2_roc = read_txt(\"DT_no_w.txt\")"
   ]
  },
  {
   "cell_type": "code",
   "execution_count": 213,
   "metadata": {},
   "outputs": [],
   "source": [
    "def combine_dicts(dict1, dict2):\n",
    "    companies = [\"amzn\", \"aapl\", \"msft\", \"tsla\", \"goog\", \"googl\"]\n",
    "    lag = [\"1\", \"2\", \"3\", \"8\"]*len(companies)\n",
    "\n",
    "    new_dict = {}\n",
    "    for company in companies:\n",
    "        new_dict[company] = {}\n",
    "        for lag in [\"1\", \"2\", \"3\", \"8\"]:\n",
    "            new_dict[company][lag] = (dict1[company][lag], dict2[company][lag])\n",
    "\n",
    "    return new_dict"
   ]
  },
  {
   "cell_type": "code",
   "execution_count": 229,
   "metadata": {},
   "outputs": [
    {
     "data": {
      "text/plain": [
       "dict_values([0.372, 0.496, 0.409, 0.418, 0.443])"
      ]
     },
     "execution_count": 229,
     "metadata": {},
     "output_type": "execute_result"
    }
   ],
   "source": [
    "index = [\"1\", \"2\", \"3\", \"6\", \"8\"]\n",
    "dt_acc[\"amzn\"].values()"
   ]
  },
  {
   "cell_type": "code",
   "execution_count": 262,
   "metadata": {},
   "outputs": [],
   "source": [
    "def plot_company_comparison(company):\n",
    "\n",
    "    dt_acc, dt_f1, dt_roc = read_txt(\"SVM_base.txt\")\n",
    "    dt2_acc, dt2_f1, dt2_roc = read_txt(\"SVM_all.txt\")\n",
    "    # create plot\n",
    "    fig, ax = plt.subplots()\n",
    "    index = np.arange(5)\n",
    "    bar_width = 0.35\n",
    "    opacity = 0.8\n",
    "\n",
    "    rects1 = plt.bar(index, dt_acc[company].values(), bar_width,\n",
    "    alpha=opacity,\n",
    "    color='b',\n",
    "    label='baseline')\n",
    "\n",
    "    rects2 = plt.bar(index + bar_width, dt2_acc[company].values(), bar_width,\n",
    "    alpha=opacity,\n",
    "    color='g',\n",
    "    label='all')\n",
    "\n",
    "    plt.xlabel('Lag')\n",
    "    plt.ylabel('Accuracy')\n",
    "    plt.title(f'Decision Tree - {str(company).upper()}')\n",
    "    plt.xticks(index + bar_width/2, ('s1', '2', '3', '6', '8'))\n",
    "    plt.legend(loc=\"lower right\")\n",
    "\n",
    "    plt.tight_layout()\n",
    "    plt.show()"
   ]
  },
  {
   "cell_type": "code",
   "execution_count": 269,
   "metadata": {},
   "outputs": [
    {
     "data": {
      "image/png": "[encoded data removed]",
      "text/plain": [
       "<Figure size 432x288 with 1 Axes>"
      ]
     },
     "metadata": {
      "needs_background": "light"
     },
     "output_type": "display_data"
    }
   ],
   "source": [
    "plot_company_comparison(\"googl\")"
   ]
  }
 ],
 "metadata": {
  "kernelspec": {
   "display_name": "Python 3.10.0 64-bit",
   "language": "python",
   "name": "python3"
  },
  "language_info": {
   "codemirror_mode": {
    "name": "ipython",
    "version": 3
   },
   "file_extension": ".py",
   "mimetype": "text/x-python",
   "name": "python",
   "nbconvert_exporter": "python",
   "pygments_lexer": "ipython3",
   "version": "3.10.0"
  },
  "orig_nbformat": 4,
  "vscode": {
   "interpreter": {
    "hash": "1dd0381d1fc2fb15dda0c9601b2866ce5a466e54b3f253773e8ed097d13694fa"
   }
  }
 },
 "nbformat": 4,
 "nbformat_minor": 2
}
