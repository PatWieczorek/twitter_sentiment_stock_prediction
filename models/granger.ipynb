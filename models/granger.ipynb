{
 "cells": [
  {
   "cell_type": "code",
   "execution_count": 67,
   "metadata": {},
   "outputs": [],
   "source": [
    "import pandas as pd\n",
    "import seaborn as sns\n",
    "import re\n",
    "import matplotlib.pyplot as plt\n",
    "from statsmodels.tsa.stattools import adfuller, kpss, grangercausalitytests"
   ]
  },
  {
   "cell_type": "markdown",
   "metadata": {},
   "source": [
    "Testy stacjonarności i przyczynowości Grangera"
   ]
  },
  {
   "cell_type": "code",
   "execution_count": 68,
   "metadata": {},
   "outputs": [],
   "source": [
    "def is_stationary(ts):\n",
    "    p_val = adfuller(ts)[1]\n",
    "    return p_val <= 0.05\n",
    "\n",
    "\n",
    "def is_relevant(granger_result):\n",
    "    tests = \"ssr_ftest\", \"ssr_chi2test\", \"lrtest\", \"params_ftest\"\n",
    "    p_val = []\n",
    "    for i in tests:\n",
    "        p_val.append(granger_result[3][0][i][1])\n",
    "    p_val = round(sum(p_val) / len(p_val), 2)\n",
    "    return p_val <= 0.05\n",
    "\n",
    "def get_F(granger_result):\n",
    "    tests = \"ssr_ftest\", \"params_ftest\"\n",
    "    f_val = []\n",
    "    for i in tests:\n",
    "        f_val.append(granger_result[3][0][i][0])\n",
    "    f_val = round(sum(f_val) / len(f_val), 2)\n",
    "    return f_val\n",
    "\n",
    "def granger_test(df, main_col, cols):\n",
    "    relevant = []\n",
    "    for col in cols:\n",
    "        try:\n",
    "            x = grangercausalitytests(df[[main_col, col]], maxlag=[3], verbose=False)\n",
    "            if is_relevant(x):\n",
    "                f_val = get_F(x)\n",
    "                relevant.append((col, f_val))\n",
    "        except:\n",
    "            print(\"There was an issue with: \", col)\n",
    "    return relevant\n",
    "\n",
    "def kpss_test(timeseries):\n",
    "    print(\"Results of KPSS Test:\")\n",
    "    kpsstest = kpss(timeseries, regression=\"c\", nlags=\"auto\")\n",
    "    kpss_output = pd.Series(\n",
    "        kpsstest[0:3], index=[\"Test Statistic\", \"p-value\", \"Lags Used\"]\n",
    "    )\n",
    "    for key, value in kpsstest[3].items():\n",
    "        kpss_output[\"Critical Value (%s)\" % key] = value\n",
    "    print(kpss_output)\n",
    "\n",
    "def check_stationarity_all():\n",
    "    # check stationarity of close and if it's not stationary check diffs\n",
    "    for company in [\"amzn\", \"aapl\", \"tsla\", \"msft\", \"goog\", \"googl\"]:\n",
    "        df = pd.read_csv(f\"../datasets/v3/binned/{company}.csv\")\n",
    "        if not is_stationary(df[\"close\"]):\n",
    "            print(f\"{company} 'close' isn't stationary\")\n",
    "            print(\"After pct_change():\", is_stationary(df[\"diffs\"]))"
   ]
  },
  {
   "cell_type": "code",
   "execution_count": 69,
   "metadata": {},
   "outputs": [],
   "source": [
    "def simplify_name(name):\n",
    "\n",
    "    pat = r\"negative\"\n",
    "    pat2 = r\"neutral\"\n",
    "    pat3 = r\"positive\"\n",
    "    pat4 = r\"num_sum\"\n",
    "    pat5 = r\"relative\"\n",
    "    pat6 = r\"comment\"\n",
    "    pat7 = r\"retweet\"\n",
    "    name = re.sub(pat, \"neg\", name)\n",
    "    name = re.sub(pat2, \"neu\", name)\n",
    "    name = re.sub(pat3, \"pos\", name)\n",
    "    name = re.sub(pat4, \"count\", name)\n",
    "    name = re.sub(pat5, \"rel\", name)\n",
    "    name = re.sub(pat6, \"comm\", name)\n",
    "    name = re.sub(pat7, \"rtwt\", name)\n",
    "\n",
    "    return name"
   ]
  },
  {
   "cell_type": "code",
   "execution_count": 70,
   "metadata": {},
   "outputs": [],
   "source": [
    "def plot_F(f_vals, title, save_name):\n",
    "    x = [i[1] for i in f_vals]\n",
    "    y = [simplify_name(i[0]) for i in f_vals]\n",
    "    fig, ax = plt.subplots()\n",
    "\n",
    "    sns.barplot(x=x, y=y).set_title(title)\n",
    "\n",
    "    plt.yticks(fontsize=7)\n",
    "    plt.savefig(f'../plots/granger/{save_name}.pdf')\n",
    "    plt.show()"
   ]
  },
  {
   "cell_type": "code",
   "execution_count": null,
   "metadata": {},
   "outputs": [],
   "source": [
    "for company in [\"amzn\", \"aapl\", \"tsla\", \"msft\", \"goog\", \"googl\"]:\n",
    "    df = pd.read_csv(f\"../datasets/v3/binned/{company}.csv\")\n",
    "    kpss_test(df[\"diffs\"])\n",
    "\n",
    "\n"
   ]
  },
  {
   "cell_type": "code",
   "execution_count": 5,
   "metadata": {},
   "outputs": [
    {
     "name": "stdout",
     "output_type": "stream",
     "text": [
      "amzn 'close' isn't stationary\n",
      "After pct_change(): True\n",
      "aapl 'close' isn't stationary\n",
      "After pct_change(): True\n",
      "tsla 'close' isn't stationary\n",
      "After pct_change(): True\n",
      "msft 'close' isn't stationary\n",
      "After pct_change(): True\n",
      "goog 'close' isn't stationary\n",
      "After pct_change(): True\n",
      "googl 'close' isn't stationary\n",
      "After pct_change(): True\n"
     ]
    }
   ],
   "source": [
    "check_stationarity_all()"
   ]
  },
  {
   "cell_type": "code",
   "execution_count": 71,
   "metadata": {},
   "outputs": [
    {
     "name": "stdout",
     "output_type": "stream",
     "text": [
      "amzn: [('low', 3.18), ('vol', 9.83), ('comment_num_sum', 12.29), ('comp_mean', 9.97), ('comp_median', 4.36), ('is_negative_sum', 12.49), ('is_positive_sum', 5.85), ('like_num_sum', 11.48), ('neg_mean', 16.46), ('neg_std', 7.32), ('count', 55.39), ('pos_max', 8.01), ('pos_mean', 5.71), ('pos_std', 8.84), ('retweet_num_sum', 55.56), ('relative_count', 11.23)]\n"
     ]
    },
    {
     "data": {
      "image/png": "[encoded data removed]",
      "text/plain": [
       "<Figure size 432x288 with 1 Axes>"
      ]
     },
     "metadata": {
      "needs_background": "light"
     },
     "output_type": "display_data"
    },
    {
     "name": "stdout",
     "output_type": "stream",
     "text": [
      "There was an issue with:  neg_min\n",
      "There was an issue with:  pos_min\n",
      "aapl: [('high', 4.52), ('vol', 4.04), ('comment_num_sum', 4.14), ('comp_max', 3.91), ('comp_mean', 13.88), ('comp_median', 2.65), ('is_negative_sum', 20.51), ('is_positive_sum', 6.5), ('like_num_sum', 2.78), ('neg_max', 10.92), ('neg_mean', 39.1), ('neg_std', 26.24), ('neu_mean', 4.08), ('count', 4.79), ('pos_max', 6.0), ('pos_mean', 4.94), ('pos_std', 8.77), ('retweet_num_sum', 9.02)]\n"
     ]
    },
    {
     "data": {
      "image/png": "[encoded data removed]",
      "text/plain": [
       "<Figure size 432x288 with 1 Axes>"
      ]
     },
     "metadata": {
      "needs_background": "light"
     },
     "output_type": "display_data"
    },
    {
     "name": "stdout",
     "output_type": "stream",
     "text": [
      "tsla: [('comp_mean', 10.43), ('is_negative_sum', 9.33), ('is_positive_sum', 4.02), ('neg_max', 3.56), ('neg_mean', 17.43), ('neg_std', 12.19), ('pos_max', 5.35), ('pos_mean', 3.96), ('pos_std', 7.76)]\n"
     ]
    },
    {
     "data": {
      "image/png": "[encoded data removed]",
      "text/plain": [
       "<Figure size 432x288 with 1 Axes>"
      ]
     },
     "metadata": {
      "needs_background": "light"
     },
     "output_type": "display_data"
    },
    {
     "name": "stdout",
     "output_type": "stream",
     "text": [
      "msft: [('vol', 8.72), ('comment_num_sum', 44.01), ('comp_mean', 4.6), ('is_negative_sum', 6.03), ('is_positive_sum', 4.61), ('like_num_sum', 50.14), ('neg_mean', 7.48), ('neg_median', 2.93), ('neg_min', 4.29), ('neg_std', 4.23), ('neu_min', 4.5), ('count', 71.71), ('pos_max', 14.25), ('pos_mean', 5.2), ('pos_std', 6.36), ('retweet_num_sum', 14.75), ('relative_count', 16.83)]\n"
     ]
    },
    {
     "data": {
      "image/png": "[encoded data removed]",
      "text/plain": [
       "<Figure size 432x288 with 1 Axes>"
      ]
     },
     "metadata": {
      "needs_background": "light"
     },
     "output_type": "display_data"
    },
    {
     "name": "stdout",
     "output_type": "stream",
     "text": [
      "goog: [('vol', 5.58), ('comment_num_sum', 5.16), ('comp_mean', 2.95), ('is_negative_sum', 2.75), ('like_num_sum', 9.85), ('count', 20.85), ('pos_max', 5.89), ('retweet_num_sum', 5.51)]\n"
     ]
    },
    {
     "data": {
      "image/png": "[encoded data removed]",
      "text/plain": [
       "<Figure size 432x288 with 1 Axes>"
      ]
     },
     "metadata": {
      "needs_background": "light"
     },
     "output_type": "display_data"
    },
    {
     "name": "stdout",
     "output_type": "stream",
     "text": [
      "googl: [('high', 3.19), ('vol', 6.85), ('comment_num_sum', 6.07), ('is_negative_sum', 4.49), ('like_num_sum', 7.42), ('neg_mean', 7.38), ('neg_std', 5.07), ('neu_min', 6.7), ('count', 37.1), ('pos_max', 16.31), ('pos_mean', 2.84), ('pos_std', 6.68), ('retweet_num_sum', 24.53), ('relative_count', 9.4)]\n"
     ]
    },
    {
     "data": {
      "image/png": "[encoded data removed]",
      "text/plain": [
       "<Figure size 432x288 with 1 Axes>"
      ]
     },
     "metadata": {
      "needs_background": "light"
     },
     "output_type": "display_data"
    }
   ],
   "source": [
    "full_names = {\n",
    "    \"amzn\": \"Amazon\",\n",
    "    \"aapl\": \"Apple\",\n",
    "    \"msft\": \"Microsoft\",\n",
    "    \"tsla\": \"Tesla\",\n",
    "    \"goog\": \"Google (GOOG)\",\n",
    "    \"googl\": \"Google (GOOGL)\",\n",
    "}\n",
    "rel = {}\n",
    "for company in [\"amzn\", \"aapl\", \"tsla\", \"msft\", \"goog\", \"googl\"]:\n",
    "    df = pd.read_csv(f\"../datasets/v3/binned/{company}.csv\")\n",
    "\n",
    "    vital_columns = [\"post_date\", \"ticker\", \"close\", \"diffs\", \"bin_2\", \"bin_3\", \"bin_5\"]\n",
    "    cols = [i for i in df.columns if i not in vital_columns]\n",
    "\n",
    "    relevant = granger_test(df, \"diffs\", cols)\n",
    "    rel[company] = relevant\n",
    "\n",
    "    print(f\"{company}: {relevant}\")\n",
    "    plot_F(relevant, f\"{full_names[company]} - Granger\", company)"
   ]
  },
  {
   "cell_type": "code",
   "execution_count": null,
   "metadata": {},
   "outputs": [],
   "source": [
    "grangercausalitytests(df[[\"close\", \"comp_mean\"]], maxlag=3)"
   ]
  },
  {
   "cell_type": "code",
   "execution_count": 17,
   "metadata": {},
   "outputs": [
    {
     "data": {
      "text/plain": [
       "{'amzn': [('low', 3.18),\n",
       "  ('vol', 9.83),\n",
       "  ('comment_num_sum', 12.29),\n",
       "  ('comp_mean', 9.97),\n",
       "  ('comp_median', 4.36),\n",
       "  ('is_negative_sum', 12.49),\n",
       "  ('is_positive_sum', 5.85),\n",
       "  ('like_num_sum', 11.48),\n",
       "  ('neg_mean', 16.46),\n",
       "  ('neg_std', 7.32),\n",
       "  ('count', 55.39),\n",
       "  ('pos_max', 8.01),\n",
       "  ('pos_mean', 5.71),\n",
       "  ('pos_std', 8.84),\n",
       "  ('retweet_num_sum', 55.56),\n",
       "  ('relative_count', 11.23)],\n",
       " 'aapl': [('high', 4.52),\n",
       "  ('vol', 4.04),\n",
       "  ('comment_num_sum', 4.14),\n",
       "  ('comp_max', 3.91),\n",
       "  ('comp_mean', 13.88),\n",
       "  ('comp_median', 2.65),\n",
       "  ('is_negative_sum', 20.51),\n",
       "  ('is_positive_sum', 6.5),\n",
       "  ('like_num_sum', 2.78),\n",
       "  ('neg_max', 10.92),\n",
       "  ('neg_mean', 39.1),\n",
       "  ('neg_std', 26.24),\n",
       "  ('neu_mean', 4.08),\n",
       "  ('count', 4.79),\n",
       "  ('pos_max', 6.0),\n",
       "  ('pos_mean', 4.94),\n",
       "  ('pos_std', 8.77),\n",
       "  ('retweet_num_sum', 9.02)],\n",
       " 'tsla': [('comp_mean', 10.43),\n",
       "  ('is_negative_sum', 9.33),\n",
       "  ('is_positive_sum', 4.02),\n",
       "  ('neg_max', 3.56),\n",
       "  ('neg_mean', 17.43),\n",
       "  ('neg_std', 12.19),\n",
       "  ('pos_max', 5.35),\n",
       "  ('pos_mean', 3.96),\n",
       "  ('pos_std', 7.76)],\n",
       " 'msft': [('vol', 8.72),\n",
       "  ('comment_num_sum', 44.01),\n",
       "  ('comp_mean', 4.6),\n",
       "  ('is_negative_sum', 6.03),\n",
       "  ('is_positive_sum', 4.61),\n",
       "  ('like_num_sum', 50.14),\n",
       "  ('neg_mean', 7.48),\n",
       "  ('neg_median', 2.93),\n",
       "  ('neg_min', 4.29),\n",
       "  ('neg_std', 4.23),\n",
       "  ('neu_min', 4.5),\n",
       "  ('count', 71.71),\n",
       "  ('pos_max', 14.25),\n",
       "  ('pos_mean', 5.2),\n",
       "  ('pos_std', 6.36),\n",
       "  ('retweet_num_sum', 14.75),\n",
       "  ('relative_count', 16.83)],\n",
       " 'goog': [('vol', 5.58),\n",
       "  ('comment_num_sum', 5.16),\n",
       "  ('comp_mean', 2.95),\n",
       "  ('is_negative_sum', 2.75),\n",
       "  ('like_num_sum', 9.85),\n",
       "  ('count', 20.85),\n",
       "  ('pos_max', 5.89),\n",
       "  ('retweet_num_sum', 5.51)],\n",
       " 'googl': [('high', 3.19),\n",
       "  ('vol', 6.85),\n",
       "  ('comment_num_sum', 6.07),\n",
       "  ('is_negative_sum', 4.49),\n",
       "  ('like_num_sum', 7.42),\n",
       "  ('neg_mean', 7.38),\n",
       "  ('neg_std', 5.07),\n",
       "  ('neu_min', 6.7),\n",
       "  ('count', 37.1),\n",
       "  ('pos_max', 16.31),\n",
       "  ('pos_mean', 2.84),\n",
       "  ('pos_std', 6.68),\n",
       "  ('retweet_num_sum', 24.53),\n",
       "  ('relative_count', 9.4)]}"
      ]
     },
     "execution_count": 17,
     "metadata": {},
     "output_type": "execute_result"
    }
   ],
   "source": [
    "rel"
   ]
  }
 ],
 "metadata": {
  "kernelspec": {
   "display_name": "Python 3.10.0 64-bit",
   "language": "python",
   "name": "python3"
  },
  "language_info": {
   "codemirror_mode": {
    "name": "ipython",
    "version": 3
   },
   "file_extension": ".py",
   "mimetype": "text/x-python",
   "name": "python",
   "nbconvert_exporter": "python",
   "pygments_lexer": "ipython3",
   "version": "3.10.0"
  },
  "orig_nbformat": 4,
  "vscode": {
   "interpreter": {
    "hash": "1dd0381d1fc2fb15dda0c9601b2866ce5a466e54b3f253773e8ed097d13694fa"
   }
  }
 },
 "nbformat": 4,
 "nbformat_minor": 2
}
