{
    "cells": [
        {
            "cell_type": "markdown",
            "metadata": {},
            "source": [
                "## SVM"
            ]
        },
        {
            "cell_type": "markdown",
            "metadata": {},
            "source": [
                "### For all companies measure acc, f1 for different lags using different columns"
            ]
        },
        {
            "cell_type": "code",
            "execution_count": 1,
            "metadata": {},
            "outputs": [],
            "source": [
                "import pandas as pd\n",
                "from sklearn.svm import SVC\n",
                "from sklearn.preprocessing import StandardScaler, MinMaxScaler\n",
                "from sklearn.metrics import f1_score, accuracy_score\n",
                "from sklearn.model_selection import TimeSeriesSplit, cross_val_score, cross_validate, GridSearchCV\n",
                "from sklearn.pipeline import make_pipeline\n",
                "from sklearn.metrics import confusion_matrix, ConfusionMatrixDisplay\n",
                "import matplotlib.pyplot as plt\n",
                "from tools import create_vectors, create_x_y"
            ]
        },
        {
            "cell_type": "code",
            "execution_count": 2,
            "metadata": {},
            "outputs": [],
            "source": [
                "VITAL_COLS = [\"date_\", \"ticker\", \"close\", \"diffs\", \"bin_2\", \"bin_3\", \"bin_5\"]\n",
                "LAGS = [3, 6, 10, 16]\n",
                "COMPANIES = [\"amzn\", \"aapl\", \"tsla\", \"msft\", \"goog\", \"googl\"]"
            ]
        },
        {
            "cell_type": "code",
            "execution_count": 26,
            "metadata": {},
            "outputs": [],
            "source": [
                "def measure(x, y):\n",
                "    clf = SVC()\n",
                "\n",
                "    params = {\n",
                "        'max_depth': [2, 3, 5, 10, 20, 50, 100, 200],\n",
                "        'min_samples_leaf': [2, 3, 5, 10],\n",
                "        'criterion': [\"gini\", \"entropy\"]\n",
                "    }\n",
                "    time_split = TimeSeriesSplit(n_splits=5)\n",
                "\n",
                "    tree_search = GridSearchCV(\n",
                "        clf,\n",
                "        param_grid=params,\n",
                "        cv=time_split,\n",
                "        verbose=1,\n",
                "        n_jobs=4,\n",
                "    )\n",
                "    split = int(0.8 * len(x))\n",
                "    tree_search.fit(x[:split], y[:split])\n",
                "    y_pred = tree_search.predict(x[split:])\n",
                "    \n",
                "    acc = accuracy_score(y[split:], y_pred)\n",
                "    f1 = f1_score(y[split:], y_pred, average=\"weighted\")\n",
                "    \n",
                "    return f1, acc"
            ]
        },
        {
            "cell_type": "code",
            "execution_count": 36,
            "metadata": {},
            "outputs": [],
            "source": [
                "df = pd.read_csv(\"../datasets/relevant/amzn.csv\", parse_dates=[\"date_\"])"
            ]
        },
        {
            "cell_type": "code",
            "execution_count": 21,
            "metadata": {},
            "outputs": [
                {
                    "ename": "KeyboardInterrupt",
                    "evalue": "",
                    "output_type": "error",
                    "traceback": [
                        "\u001b[1;31m---------------------------------------------------------------------------\u001b[0m",
                        "\u001b[1;31mKeyboardInterrupt\u001b[0m                         Traceback (most recent call last)",
                        "\u001b[1;32mc:\\Users\\Patryk\\Desktop\\masters\\twitter\\models\\svm.ipynb Cell 7\u001b[0m in \u001b[0;36m<cell line: 1>\u001b[1;34m()\u001b[0m\n\u001b[1;32m----> <a href='vscode-notebook-cell:/c%3A/Users/Patryk/Desktop/masters/twitter/models/svm.ipynb#ch0000006?line=0'>1</a>\u001b[0m grid \u001b[39m=\u001b[39m find_best_hyper(df)\n",
                        "\u001b[1;32mc:\\Users\\Patryk\\Desktop\\masters\\twitter\\models\\svm.ipynb Cell 7\u001b[0m in \u001b[0;36mfind_best_hyper\u001b[1;34m(df)\u001b[0m\n\u001b[0;32m     <a href='vscode-notebook-cell:/c%3A/Users/Patryk/Desktop/masters/twitter/models/svm.ipynb#ch0000006?line=43'>44</a>\u001b[0m x, y \u001b[39m=\u001b[39m create_x_y(df, x_cols\u001b[39m=\u001b[39m[\u001b[39m\"\u001b[39m\u001b[39mdiffs\u001b[39m\u001b[39m\"\u001b[39m], y_col\u001b[39m=\u001b[39m\u001b[39m\"\u001b[39m\u001b[39mbin_3\u001b[39m\u001b[39m\"\u001b[39m)\n\u001b[0;32m     <a href='vscode-notebook-cell:/c%3A/Users/Patryk/Desktop/masters/twitter/models/svm.ipynb#ch0000006?line=45'>46</a>\u001b[0m grid \u001b[39m=\u001b[39m GridSearchCV(\n\u001b[0;32m     <a href='vscode-notebook-cell:/c%3A/Users/Patryk/Desktop/masters/twitter/models/svm.ipynb#ch0000006?line=46'>47</a>\u001b[0m     \u001b[39mcls\u001b[39m,\n\u001b[0;32m     <a href='vscode-notebook-cell:/c%3A/Users/Patryk/Desktop/masters/twitter/models/svm.ipynb#ch0000006?line=47'>48</a>\u001b[0m     param_grid\u001b[39m=\u001b[39mparams,\n\u001b[0;32m     <a href='vscode-notebook-cell:/c%3A/Users/Patryk/Desktop/masters/twitter/models/svm.ipynb#ch0000006?line=48'>49</a>\u001b[0m     n_jobs\u001b[39m=\u001b[39m\u001b[39m-\u001b[39m\u001b[39m1\u001b[39m,\n\u001b[0;32m     <a href='vscode-notebook-cell:/c%3A/Users/Patryk/Desktop/masters/twitter/models/svm.ipynb#ch0000006?line=49'>50</a>\u001b[0m     cv\u001b[39m=\u001b[39mTimeSeriesSplit(n_splits\u001b[39m=\u001b[39m\u001b[39m5\u001b[39m),\n\u001b[0;32m     <a href='vscode-notebook-cell:/c%3A/Users/Patryk/Desktop/masters/twitter/models/svm.ipynb#ch0000006?line=50'>51</a>\u001b[0m )\n\u001b[1;32m---> <a href='vscode-notebook-cell:/c%3A/Users/Patryk/Desktop/masters/twitter/models/svm.ipynb#ch0000006?line=51'>52</a>\u001b[0m grid\u001b[39m.\u001b[39;49mfit(x, y)\n\u001b[0;32m     <a href='vscode-notebook-cell:/c%3A/Users/Patryk/Desktop/masters/twitter/models/svm.ipynb#ch0000006?line=53'>54</a>\u001b[0m \u001b[39mreturn\u001b[39;00m grid\n",
                        "File \u001b[1;32mc:\\Users\\Patryk\\AppData\\Local\\Programs\\Python\\Python310\\lib\\site-packages\\sklearn\\model_selection\\_search.py:891\u001b[0m, in \u001b[0;36mBaseSearchCV.fit\u001b[1;34m(self, X, y, groups, **fit_params)\u001b[0m\n\u001b[0;32m    885\u001b[0m     results \u001b[39m=\u001b[39m \u001b[39mself\u001b[39m\u001b[39m.\u001b[39m_format_results(\n\u001b[0;32m    886\u001b[0m         all_candidate_params, n_splits, all_out, all_more_results\n\u001b[0;32m    887\u001b[0m     )\n\u001b[0;32m    889\u001b[0m     \u001b[39mreturn\u001b[39;00m results\n\u001b[1;32m--> 891\u001b[0m \u001b[39mself\u001b[39;49m\u001b[39m.\u001b[39;49m_run_search(evaluate_candidates)\n\u001b[0;32m    893\u001b[0m \u001b[39m# multimetric is determined here because in the case of a callable\u001b[39;00m\n\u001b[0;32m    894\u001b[0m \u001b[39m# self.scoring the return type is only known after calling\u001b[39;00m\n\u001b[0;32m    895\u001b[0m first_test_score \u001b[39m=\u001b[39m all_out[\u001b[39m0\u001b[39m][\u001b[39m\"\u001b[39m\u001b[39mtest_scores\u001b[39m\u001b[39m\"\u001b[39m]\n",
                        "File \u001b[1;32mc:\\Users\\Patryk\\AppData\\Local\\Programs\\Python\\Python310\\lib\\site-packages\\sklearn\\model_selection\\_search.py:1392\u001b[0m, in \u001b[0;36mGridSearchCV._run_search\u001b[1;34m(self, evaluate_candidates)\u001b[0m\n\u001b[0;32m   1390\u001b[0m \u001b[39mdef\u001b[39;00m \u001b[39m_run_search\u001b[39m(\u001b[39mself\u001b[39m, evaluate_candidates):\n\u001b[0;32m   1391\u001b[0m     \u001b[39m\"\"\"Search all candidates in param_grid\"\"\"\u001b[39;00m\n\u001b[1;32m-> 1392\u001b[0m     evaluate_candidates(ParameterGrid(\u001b[39mself\u001b[39;49m\u001b[39m.\u001b[39;49mparam_grid))\n",
                        "File \u001b[1;32mc:\\Users\\Patryk\\AppData\\Local\\Programs\\Python\\Python310\\lib\\site-packages\\sklearn\\model_selection\\_search.py:838\u001b[0m, in \u001b[0;36mBaseSearchCV.fit.<locals>.evaluate_candidates\u001b[1;34m(candidate_params, cv, more_results)\u001b[0m\n\u001b[0;32m    830\u001b[0m \u001b[39mif\u001b[39;00m \u001b[39mself\u001b[39m\u001b[39m.\u001b[39mverbose \u001b[39m>\u001b[39m \u001b[39m0\u001b[39m:\n\u001b[0;32m    831\u001b[0m     \u001b[39mprint\u001b[39m(\n\u001b[0;32m    832\u001b[0m         \u001b[39m\"\u001b[39m\u001b[39mFitting \u001b[39m\u001b[39m{0}\u001b[39;00m\u001b[39m folds for each of \u001b[39m\u001b[39m{1}\u001b[39;00m\u001b[39m candidates,\u001b[39m\u001b[39m\"\u001b[39m\n\u001b[0;32m    833\u001b[0m         \u001b[39m\"\u001b[39m\u001b[39m totalling \u001b[39m\u001b[39m{2}\u001b[39;00m\u001b[39m fits\u001b[39m\u001b[39m\"\u001b[39m\u001b[39m.\u001b[39mformat(\n\u001b[0;32m    834\u001b[0m             n_splits, n_candidates, n_candidates \u001b[39m*\u001b[39m n_splits\n\u001b[0;32m    835\u001b[0m         )\n\u001b[0;32m    836\u001b[0m     )\n\u001b[1;32m--> 838\u001b[0m out \u001b[39m=\u001b[39m parallel(\n\u001b[0;32m    839\u001b[0m     delayed(_fit_and_score)(\n\u001b[0;32m    840\u001b[0m         clone(base_estimator),\n\u001b[0;32m    841\u001b[0m         X,\n\u001b[0;32m    842\u001b[0m         y,\n\u001b[0;32m    843\u001b[0m         train\u001b[39m=\u001b[39;49mtrain,\n\u001b[0;32m    844\u001b[0m         test\u001b[39m=\u001b[39;49mtest,\n\u001b[0;32m    845\u001b[0m         parameters\u001b[39m=\u001b[39;49mparameters,\n\u001b[0;32m    846\u001b[0m         split_progress\u001b[39m=\u001b[39;49m(split_idx, n_splits),\n\u001b[0;32m    847\u001b[0m         candidate_progress\u001b[39m=\u001b[39;49m(cand_idx, n_candidates),\n\u001b[0;32m    848\u001b[0m         \u001b[39m*\u001b[39;49m\u001b[39m*\u001b[39;49mfit_and_score_kwargs,\n\u001b[0;32m    849\u001b[0m     )\n\u001b[0;32m    850\u001b[0m     \u001b[39mfor\u001b[39;49;00m (cand_idx, parameters), (split_idx, (train, test)) \u001b[39min\u001b[39;49;00m product(\n\u001b[0;32m    851\u001b[0m         \u001b[39menumerate\u001b[39;49m(candidate_params), \u001b[39menumerate\u001b[39;49m(cv\u001b[39m.\u001b[39;49msplit(X, y, groups))\n\u001b[0;32m    852\u001b[0m     )\n\u001b[0;32m    853\u001b[0m )\n\u001b[0;32m    855\u001b[0m \u001b[39mif\u001b[39;00m \u001b[39mlen\u001b[39m(out) \u001b[39m<\u001b[39m \u001b[39m1\u001b[39m:\n\u001b[0;32m    856\u001b[0m     \u001b[39mraise\u001b[39;00m \u001b[39mValueError\u001b[39;00m(\n\u001b[0;32m    857\u001b[0m         \u001b[39m\"\u001b[39m\u001b[39mNo fits were performed. \u001b[39m\u001b[39m\"\u001b[39m\n\u001b[0;32m    858\u001b[0m         \u001b[39m\"\u001b[39m\u001b[39mWas the CV iterator empty? \u001b[39m\u001b[39m\"\u001b[39m\n\u001b[0;32m    859\u001b[0m         \u001b[39m\"\u001b[39m\u001b[39mWere there no candidates?\u001b[39m\u001b[39m\"\u001b[39m\n\u001b[0;32m    860\u001b[0m     )\n",
                        "File \u001b[1;32mc:\\Users\\Patryk\\AppData\\Local\\Programs\\Python\\Python310\\lib\\site-packages\\joblib\\parallel.py:1056\u001b[0m, in \u001b[0;36mParallel.__call__\u001b[1;34m(self, iterable)\u001b[0m\n\u001b[0;32m   1053\u001b[0m     \u001b[39mself\u001b[39m\u001b[39m.\u001b[39m_iterating \u001b[39m=\u001b[39m \u001b[39mFalse\u001b[39;00m\n\u001b[0;32m   1055\u001b[0m \u001b[39mwith\u001b[39;00m \u001b[39mself\u001b[39m\u001b[39m.\u001b[39m_backend\u001b[39m.\u001b[39mretrieval_context():\n\u001b[1;32m-> 1056\u001b[0m     \u001b[39mself\u001b[39;49m\u001b[39m.\u001b[39;49mretrieve()\n\u001b[0;32m   1057\u001b[0m \u001b[39m# Make sure that we get a last message telling us we are done\u001b[39;00m\n\u001b[0;32m   1058\u001b[0m elapsed_time \u001b[39m=\u001b[39m time\u001b[39m.\u001b[39mtime() \u001b[39m-\u001b[39m \u001b[39mself\u001b[39m\u001b[39m.\u001b[39m_start_time\n",
                        "File \u001b[1;32mc:\\Users\\Patryk\\AppData\\Local\\Programs\\Python\\Python310\\lib\\site-packages\\joblib\\parallel.py:935\u001b[0m, in \u001b[0;36mParallel.retrieve\u001b[1;34m(self)\u001b[0m\n\u001b[0;32m    933\u001b[0m \u001b[39mtry\u001b[39;00m:\n\u001b[0;32m    934\u001b[0m     \u001b[39mif\u001b[39;00m \u001b[39mgetattr\u001b[39m(\u001b[39mself\u001b[39m\u001b[39m.\u001b[39m_backend, \u001b[39m'\u001b[39m\u001b[39msupports_timeout\u001b[39m\u001b[39m'\u001b[39m, \u001b[39mFalse\u001b[39;00m):\n\u001b[1;32m--> 935\u001b[0m         \u001b[39mself\u001b[39m\u001b[39m.\u001b[39m_output\u001b[39m.\u001b[39mextend(job\u001b[39m.\u001b[39;49mget(timeout\u001b[39m=\u001b[39;49m\u001b[39mself\u001b[39;49m\u001b[39m.\u001b[39;49mtimeout))\n\u001b[0;32m    936\u001b[0m     \u001b[39melse\u001b[39;00m:\n\u001b[0;32m    937\u001b[0m         \u001b[39mself\u001b[39m\u001b[39m.\u001b[39m_output\u001b[39m.\u001b[39mextend(job\u001b[39m.\u001b[39mget())\n",
                        "File \u001b[1;32mc:\\Users\\Patryk\\AppData\\Local\\Programs\\Python\\Python310\\lib\\site-packages\\joblib\\_parallel_backends.py:542\u001b[0m, in \u001b[0;36mLokyBackend.wrap_future_result\u001b[1;34m(future, timeout)\u001b[0m\n\u001b[0;32m    539\u001b[0m \u001b[39m\"\"\"Wrapper for Future.result to implement the same behaviour as\u001b[39;00m\n\u001b[0;32m    540\u001b[0m \u001b[39mAsyncResults.get from multiprocessing.\"\"\"\u001b[39;00m\n\u001b[0;32m    541\u001b[0m \u001b[39mtry\u001b[39;00m:\n\u001b[1;32m--> 542\u001b[0m     \u001b[39mreturn\u001b[39;00m future\u001b[39m.\u001b[39;49mresult(timeout\u001b[39m=\u001b[39;49mtimeout)\n\u001b[0;32m    543\u001b[0m \u001b[39mexcept\u001b[39;00m CfTimeoutError \u001b[39mas\u001b[39;00m e:\n\u001b[0;32m    544\u001b[0m     \u001b[39mraise\u001b[39;00m \u001b[39mTimeoutError\u001b[39;00m \u001b[39mfrom\u001b[39;00m \u001b[39me\u001b[39;00m\n",
                        "File \u001b[1;32mc:\\Users\\Patryk\\AppData\\Local\\Programs\\Python\\Python310\\lib\\concurrent\\futures\\_base.py:441\u001b[0m, in \u001b[0;36mFuture.result\u001b[1;34m(self, timeout)\u001b[0m\n\u001b[0;32m    438\u001b[0m \u001b[39melif\u001b[39;00m \u001b[39mself\u001b[39m\u001b[39m.\u001b[39m_state \u001b[39m==\u001b[39m FINISHED:\n\u001b[0;32m    439\u001b[0m     \u001b[39mreturn\u001b[39;00m \u001b[39mself\u001b[39m\u001b[39m.\u001b[39m__get_result()\n\u001b[1;32m--> 441\u001b[0m \u001b[39mself\u001b[39;49m\u001b[39m.\u001b[39;49m_condition\u001b[39m.\u001b[39;49mwait(timeout)\n\u001b[0;32m    443\u001b[0m \u001b[39mif\u001b[39;00m \u001b[39mself\u001b[39m\u001b[39m.\u001b[39m_state \u001b[39min\u001b[39;00m [CANCELLED, CANCELLED_AND_NOTIFIED]:\n\u001b[0;32m    444\u001b[0m     \u001b[39mraise\u001b[39;00m CancelledError()\n",
                        "File \u001b[1;32mc:\\Users\\Patryk\\AppData\\Local\\Programs\\Python\\Python310\\lib\\threading.py:320\u001b[0m, in \u001b[0;36mCondition.wait\u001b[1;34m(self, timeout)\u001b[0m\n\u001b[0;32m    318\u001b[0m \u001b[39mtry\u001b[39;00m:    \u001b[39m# restore state no matter what (e.g., KeyboardInterrupt)\u001b[39;00m\n\u001b[0;32m    319\u001b[0m     \u001b[39mif\u001b[39;00m timeout \u001b[39mis\u001b[39;00m \u001b[39mNone\u001b[39;00m:\n\u001b[1;32m--> 320\u001b[0m         waiter\u001b[39m.\u001b[39;49macquire()\n\u001b[0;32m    321\u001b[0m         gotit \u001b[39m=\u001b[39m \u001b[39mTrue\u001b[39;00m\n\u001b[0;32m    322\u001b[0m     \u001b[39melse\u001b[39;00m:\n",
                        "\u001b[1;31mKeyboardInterrupt\u001b[0m: "
                    ]
                }
            ],
            "source": [
                "grid = find_best_hyper(df)"
            ]
        },
        {
            "cell_type": "code",
            "execution_count": 74,
            "metadata": {},
            "outputs": [
                {
                    "data": {
                        "text/plain": [
                            "{'svc__C': 1000, 'svc__gamma': 1, 'svc__kernel': 'rbf'}"
                        ]
                    },
                    "execution_count": 74,
                    "metadata": {},
                    "output_type": "execute_result"
                }
            ],
            "source": [
                "grid.best_params_"
            ]
        },
        {
            "cell_type": "code",
            "execution_count": 27,
            "metadata": {},
            "outputs": [
                {
                    "name": "stdout",
                    "output_type": "stream",
                    "text": [
                        "0    1722\n",
                        "dtype: int64\n"
                    ]
                },
                {
                    "data": {
                        "image/png": "[encoded data removed]",
                        "text/plain": [
                            "<Figure size 432x288 with 2 Axes>"
                        ]
                    },
                    "metadata": {
                        "needs_background": "light"
                    },
                    "output_type": "display_data"
                }
            ],
            "source": [
                "col = \"bin_3\"\n",
                "cm = measure_conf_matrix(*create_x_y(df, x_cols=['diffs'], y_col=col))\n",
                "disp = ConfusionMatrixDisplay(confusion_matrix=cm, display_labels=sorted(df[col].unique()))\n",
                "disp.plot()\n",
                "\n",
                "plt.show()"
            ]
        },
        {
            "cell_type": "code",
            "execution_count": 49,
            "metadata": {},
            "outputs": [
                {
                    "name": "stdout",
                    "output_type": "stream",
                    "text": [
                        "[-1.454452666496553, 0.2556965302952019, -0.4358353510896084, -0.0162127107652287, -0.1070212420950289]\n",
                        "[0.2556965302952019, -0.4358353510896084, -0.0162127107652287, -0.1070212420950289, 0.1623271216154798]\n",
                        "[-0.4358353510896084, -0.0162127107652287, -0.1070212420950289, 0.1623271216154798, -1.520160767535328]\n",
                        "[-0.0162127107652287, -0.1070212420950289, 0.1623271216154798, -1.520160767535328, -0.177730967975509]\n",
                        "[0, -1, 0]\n"
                    ]
                }
            ],
            "source": [
                "x, y = create_x_y(df, x_cols=['diffs'], y_col='bin_3')\n",
                "\n",
                "print(*x[:4], sep='\\n')\n",
                "print(y[:3])"
            ]
        },
        {
            "cell_type": "code",
            "execution_count": 53,
            "metadata": {},
            "outputs": [
                {
                    "data": {
                        "text/plain": [
                            "0   -1.454453\n",
                            "1    0.255697\n",
                            "2   -0.435835\n",
                            "3   -0.016213\n",
                            "4   -0.107021\n",
                            "5    0.162327\n",
                            "6   -1.520161\n",
                            "7   -0.177731\n",
                            "8   -0.075835\n",
                            "9   -0.478453\n",
                            "Name: diffs, dtype: float64"
                        ]
                    },
                    "execution_count": 53,
                    "metadata": {},
                    "output_type": "execute_result"
                }
            ],
            "source": [
                "df['diffs'].head(10)"
            ]
        },
        {
            "cell_type": "code",
            "execution_count": 6,
            "metadata": {},
            "outputs": [
                {
                    "data": {
                        "text/plain": [
                            "0   -1\n",
                            "1    1\n",
                            "2   -1\n",
                            "3    0\n",
                            "4    0\n",
                            "Name: bin_3, dtype: int64"
                        ]
                    },
                    "execution_count": 6,
                    "metadata": {},
                    "output_type": "execute_result"
                }
            ],
            "source": [
                "df[\"bin_3\"].head()"
            ]
        },
        {
            "cell_type": "code",
            "execution_count": 15,
            "metadata": {},
            "outputs": [],
            "source": [
                "\n",
                "df2 = pd.DataFrame({'X':x, 'y': y})\n",
                "df2.head()\n",
                "df2.to_csv('dane_wieczorek.csv', index=True)"
            ]
        },
        {
            "cell_type": "code",
            "execution_count": 131,
            "metadata": {},
            "outputs": [
                {
                    "data": {
                        "image/png": "[encoded data removed]",
                        "text/plain": [
                            "<Figure size 432x288 with 1 Axes>"
                        ]
                    },
                    "metadata": {
                        "needs_background": "light"
                    },
                    "output_type": "display_data"
                }
            ],
            "source": [
                "from matplotlib import pyplot as plt\n",
                "\n",
                "plt.hist(df[\"count\"], bins=[i for i in range(0, 200, 5)])\n",
                "plt.show()"
            ]
        },
        {
            "cell_type": "code",
            "execution_count": 112,
            "metadata": {},
            "outputs": [
                {
                    "name": "stdout",
                    "output_type": "stream",
                    "text": [
                        "Lag 3: 0/10\n",
                        "Lag 3: 1/10\n",
                        "Lag 3: 2/10\n",
                        "Lag 3: 3/10\n",
                        "Lag 3: 4/10\n",
                        "Lag 3: 5/10\n",
                        "Lag 3: 6/10\n",
                        "Lag 3: 7/10\n",
                        "Lag 3: 8/10\n",
                        "Lag 3: 9/10\n",
                        "Lag 16: 0/10\n",
                        "Lag 16: 1/10\n",
                        "Lag 16: 2/10\n",
                        "Lag 16: 3/10\n",
                        "Lag 16: 4/10\n",
                        "Lag 16: 5/10\n",
                        "Lag 16: 6/10\n",
                        "Lag 16: 7/10\n",
                        "Lag 16: 8/10\n",
                        "Lag 16: 9/10\n",
                        "3 {'baseline': 0.5119, 'low': (0.5119, '-'), 'vol': (0.5119, '-'), 'max_pos': (0.5087, '-'), 'std_neg': (0.5119, '-'), 'std_pos': (0.5128, '+'), 'mean_comp': (0.525, '+'), 'mean_neg': (0.5392, '+'), 'mean_pos': (0.5173, '+'), 'median_comp': (0.5115, '-'), 'count': (0.5122, '+')}\n",
                        "16 {'baseline': 0.5105, 'low': (0.5068, '-'), 'vol': (0.5109, '+'), 'max_pos': (0.5122, '+'), 'std_neg': (0.5128, '+'), 'std_pos': (0.5108, '+'), 'mean_comp': (0.5236, '+'), 'mean_neg': (0.5278, '+'), 'mean_pos': (0.5189, '+'), 'median_comp': (0.5028, '-'), 'count': (0.5121, '+')}\n"
                    ]
                }
            ],
            "source": [
                "res = measure(df, 2, [3, 16])\n",
                "print_results(res)"
            ]
        },
        {
            "cell_type": "code",
            "execution_count": 118,
            "metadata": {},
            "outputs": [],
            "source": [
                "results = {}\n",
                "for company in COMPANIES:\n",
                "    df = pd.read_csv(f\"../datasets/relevant/{company}.csv\", parse_dates=[\"date_\"])\n",
                "    results[company] = {}\n",
                "    results[company][2] = create_and_predict(*create_vectors(df, main_col=\"bin_2\"))\n",
                "    results[company][3] = create_and_predict(*create_vectors(df, main_col=\"bin_3\"))\n",
                "    results[company][5] = create_and_predict(*create_vectors(df, main_col=\"bin_5\"))"
            ]
        },
        {
            "cell_type": "code",
            "execution_count": 37,
            "metadata": {},
            "outputs": [
                {
                    "data": {
                        "text/plain": [
                            "([[-1.454452666496553,\n",
                            "   0.2556965302952019,\n",
                            "   -0.4358353510896084,\n",
                            "   -0.0162127107652287,\n",
                            "   -0.1070212420950289],\n",
                            "  [0.2556965302952019,\n",
                            "   -0.4358353510896084,\n",
                            "   -0.0162127107652287,\n",
                            "   -0.1070212420950289,\n",
                            "   0.1623271216154798],\n",
                            "  [-0.4358353510896084,\n",
                            "   -0.0162127107652287,\n",
                            "   -0.1070212420950289,\n",
                            "   0.1623271216154798,\n",
                            "   -1.520160767535328]],\n",
                            " [0, -1, 0])"
                        ]
                    },
                    "execution_count": 37,
                    "metadata": {},
                    "output_type": "execute_result"
                }
            ],
            "source": [
                "x, y = create_x_y(df, x_cols=['diffs'], y_col='bin_3')\n",
                "x[:3], y[:3]"
            ]
        }
    ],
    "metadata": {
        "kernelspec": {
            "display_name": "Python 3.10.4 64-bit",
            "language": "python",
            "name": "python3"
        },
        "language_info": {
            "codemirror_mode": {
                "name": "ipython",
                "version": 3
            },
            "file_extension": ".py",
            "mimetype": "text/x-python",
            "name": "python",
            "nbconvert_exporter": "python",
            "pygments_lexer": "ipython3",
            "version": "3.10.4"
        },
        "orig_nbformat": 4,
        "vscode": {
            "interpreter": {
                "hash": "1dd0381d1fc2fb15dda0c9601b2866ce5a466e54b3f253773e8ed097d13694fa"
            }
        }
    },
    "nbformat": 4,
    "nbformat_minor": 2
}
