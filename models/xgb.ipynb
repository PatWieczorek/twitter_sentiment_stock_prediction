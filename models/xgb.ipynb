{
   "cells": [
      {
         "cell_type": "code",
         "execution_count": 2,
         "metadata": {},
         "outputs": [],
         "source": [
            "import xgboost as xgb\n",
            "import pandas as pd\n",
            "import numpy as np\n",
            "from sklearn.metrics import confusion_matrix, f1_score, accuracy_score\n",
            "from sklearn.model_selection import TimeSeriesSplit, RandomizedSearchCV\n",
            "from scipy.stats import uniform, randint\n",
            "from sklearn.utils.class_weight import compute_sample_weight\n",
            "import matplotlib.pyplot as plt\n",
            "import json\n",
            "from tools import create_x_y"
         ]
      },
      {
         "cell_type": "code",
         "execution_count": 3,
         "metadata": {},
         "outputs": [],
         "source": [
            "def encode_y(y):\n",
            "    if len(set(y)) == 2:\n",
            "        remap_dict = {-1: 0, 1: 1}\n",
            "    elif len(set(y)) == 3:\n",
            "        remap_dict = {-1: 0, 0: 1, 1: 2}\n",
            "    elif len(set(y)) == 5:\n",
            "        remap_dict = {-2: 0, -1: 1, 0: 2, 1: 3, 2: 4}\n",
            "    for i, val in enumerate(y):\n",
            "        y[i] = remap_dict[val]\n",
            "\n",
            "    return y\n",
            "\n",
            "\n",
            "def weight_data(x):\n",
            "    # least represented class is 1.0, others are percentage_least/percentage_other\n",
            "    percentages = {}\n",
            "    len_x = len(x)\n",
            "    for uniq_val in set(x):\n",
            "        percentages[uniq_val] = sum([1 for i in x if i == uniq_val]) / len_x\n",
            "    least = min(percentages, key=percentages.get)\n",
            "    weights = {i: percentages[least] / percentages[i] for i in percentages}\n",
            "    return weights\n",
            "\n",
            "\n",
            "# match feature importances from vector with multiple lagged vals of each column\n",
            "def importances_from_lag(x, col_names):\n",
            "    lag = int(len(x) / len(col_names))\n",
            "    len_col = len(col_names)\n",
            "    imp = {\n",
            "        col_names[i]: sum(x[i * lag : (i + 1) * lag]) / lag\n",
            "        for i in range(len_col)\n",
            "    }\n",
            "\n",
            "    return imp\n",
            "\n",
            "def save_importances_plot(fi, name, title, cols):\n",
            "    import seaborn as sns\n",
            "    importances = importances_from_lag(fi, cols) \n",
            "    x_axis = list(importances.keys())\n",
            "    y_axis = [float(i) for i in importances.values()]\n",
            "    figure = plt.gcf()\n",
            "    figure.set_size_inches(9, 6)\n",
            "    sns.barplot(y=x_axis, x=y_axis).set_title(title)\n",
            "    \n",
            "    plt.savefig(f'../plots/{name}.pdf')"
         ]
      },
      {
         "cell_type": "code",
         "execution_count": 4,
         "metadata": {},
         "outputs": [],
         "source": [
            "def measure(x, y, binary=True):\n",
            "    mode = \"binary:logistic\"\n",
            "    if not binary:\n",
            "        mode = \"multi:softprob\"\n",
            "    clf = xgb.XGBClassifier(objective=mode, random_state=42, tree_method='gpu_hist', gpu_id=0)\n",
            "\n",
            "    params = {\n",
            "        \"colsample_bytree\": uniform(0.7, 0.3),\n",
            "        \"gamma\": uniform(0, 0.5),\n",
            "        \"learning_rate\": uniform(0.003, 0.3),  # default 0.1\n",
            "        \"max_depth\": randint(2, 6),  # default 3\n",
            "        \"n_estimators\": randint(100, 400),  # default 100\n",
            "        \"subsample\": uniform(0.6, 0.4), \n",
            "    }\n",
            "    time_split = TimeSeriesSplit(n_splits=5)\n",
            "    xgb_search = RandomizedSearchCV(\n",
            "        clf,\n",
            "        param_distributions=params,\n",
            "        random_state=42,\n",
            "        n_iter=20,\n",
            "        cv=time_split,\n",
            "        verbose=1,\n",
            "        n_jobs=4,\n",
            "    )\n",
            "    split = int(0.8 * len(x))\n",
            "    xgb_search.fit(x[:split], y[:split])\n",
            "    y_pred = xgb_search.predict(x[split:])\n",
            "    #cm = confusion_matrix(y[split:], y_pred)\n",
            "    acc = accuracy_score(y[split:], y_pred)\n",
            "    f1 = f1_score(y[split:], y_pred, average=\"weighted\")\n",
            "\n",
            "    fi = xgb_search.best_estimator_.feature_importances_\n",
            "\n",
            "    return acc, f1, fi"
         ]
      },
      {
         "cell_type": "code",
         "execution_count": 5,
         "metadata": {},
         "outputs": [
            {
               "name": "stdout",
               "output_type": "stream",
               "text": [
                  "['open', 'high', 'low', 'close', 'vol']\n",
                  "Fitting 5 folds for each of 20 candidates, totalling 100 fits\n",
                  "Fitting 5 folds for each of 20 candidates, totalling 100 fits\n",
                  "Fitting 5 folds for each of 20 candidates, totalling 100 fits\n",
                  "Fitting 5 folds for each of 20 candidates, totalling 100 fits\n",
                  "Fitting 5 folds for each of 20 candidates, totalling 100 fits\n"
               ]
            },
            {
               "ename": "KeyboardInterrupt",
               "evalue": "",
               "output_type": "error",
               "traceback": [
                  "\u001b[1;31m---------------------------------------------------------------------------\u001b[0m",
                  "\u001b[1;31mKeyboardInterrupt\u001b[0m                         Traceback (most recent call last)",
                  "\u001b[1;32mc:\\Users\\Patryk\\Desktop\\masters\\twitter\\models\\xgb.ipynb Cell 4\u001b[0m in \u001b[0;36m<cell line: 17>\u001b[1;34m()\u001b[0m\n\u001b[0;32m     <a href='vscode-notebook-cell:/c%3A/Users/Patryk/Desktop/masters/twitter/models/xgb.ipynb#W3sZmlsZQ%3D%3D?line=27'>28</a>\u001b[0m         y \u001b[39m=\u001b[39m encode_y(y)\n\u001b[0;32m     <a href='vscode-notebook-cell:/c%3A/Users/Patryk/Desktop/masters/twitter/models/xgb.ipynb#W3sZmlsZQ%3D%3D?line=28'>29</a>\u001b[0m         \u001b[39m# print(x[:3], y[:3])\u001b[39;00m\n\u001b[0;32m     <a href='vscode-notebook-cell:/c%3A/Users/Patryk/Desktop/masters/twitter/models/xgb.ipynb#W3sZmlsZQ%3D%3D?line=29'>30</a>\u001b[0m         \u001b[39m# print(acc, f1_metric, fi)\u001b[39;00m\n\u001b[1;32m---> <a href='vscode-notebook-cell:/c%3A/Users/Patryk/Desktop/masters/twitter/models/xgb.ipynb#W3sZmlsZQ%3D%3D?line=30'>31</a>\u001b[0m         acc[company][lag], f1_metric[company][lag], fi[lag] \u001b[39m=\u001b[39m measure(\n\u001b[0;32m     <a href='vscode-notebook-cell:/c%3A/Users/Patryk/Desktop/masters/twitter/models/xgb.ipynb#W3sZmlsZQ%3D%3D?line=31'>32</a>\u001b[0m             x, y, binary\u001b[39m=\u001b[39;49m\u001b[39mTrue\u001b[39;49;00m\n\u001b[0;32m     <a href='vscode-notebook-cell:/c%3A/Users/Patryk/Desktop/masters/twitter/models/xgb.ipynb#W3sZmlsZQ%3D%3D?line=32'>33</a>\u001b[0m         )\n\u001b[0;32m     <a href='vscode-notebook-cell:/c%3A/Users/Patryk/Desktop/masters/twitter/models/xgb.ipynb#W3sZmlsZQ%3D%3D?line=33'>34</a>\u001b[0m     save_importances_plot(\n\u001b[0;32m     <a href='vscode-notebook-cell:/c%3A/Users/Patryk/Desktop/masters/twitter/models/xgb.ipynb#W3sZmlsZQ%3D%3D?line=34'>35</a>\u001b[0m         fi[lag],\n\u001b[0;32m     <a href='vscode-notebook-cell:/c%3A/Users/Patryk/Desktop/masters/twitter/models/xgb.ipynb#W3sZmlsZQ%3D%3D?line=35'>36</a>\u001b[0m         \u001b[39mf\u001b[39m\u001b[39m\"\u001b[39m\u001b[39mxgb_\u001b[39m\u001b[39m{\u001b[39;00mcompany\u001b[39m}\u001b[39;00m\u001b[39m_imp_BASE\u001b[39m\u001b[39m\"\u001b[39m,\n\u001b[0;32m     <a href='vscode-notebook-cell:/c%3A/Users/Patryk/Desktop/masters/twitter/models/xgb.ipynb#W3sZmlsZQ%3D%3D?line=36'>37</a>\u001b[0m         \u001b[39mf\u001b[39m\u001b[39m\"\u001b[39m\u001b[39m{\u001b[39;00mfull_names[company]\u001b[39m}\u001b[39;00m\u001b[39m\"\u001b[39m,\n\u001b[0;32m     <a href='vscode-notebook-cell:/c%3A/Users/Patryk/Desktop/masters/twitter/models/xgb.ipynb#W3sZmlsZQ%3D%3D?line=37'>38</a>\u001b[0m         OTHER_COLS,\n\u001b[0;32m     <a href='vscode-notebook-cell:/c%3A/Users/Patryk/Desktop/masters/twitter/models/xgb.ipynb#W3sZmlsZQ%3D%3D?line=38'>39</a>\u001b[0m     )\n\u001b[0;32m     <a href='vscode-notebook-cell:/c%3A/Users/Patryk/Desktop/masters/twitter/models/xgb.ipynb#W3sZmlsZQ%3D%3D?line=39'>40</a>\u001b[0m \u001b[39mwith\u001b[39;00m \u001b[39mopen\u001b[39m(\u001b[39mf\u001b[39m\u001b[39m\"\u001b[39m\u001b[39m../results/v3/XGB_\u001b[39m\u001b[39m{\u001b[39;00mcompany\u001b[39m}\u001b[39;00m\u001b[39m_acc_f1_v3_BASE.txt\u001b[39m\u001b[39m\"\u001b[39m, \u001b[39m\"\u001b[39m\u001b[39mw\u001b[39m\u001b[39m\"\u001b[39m) \u001b[39mas\u001b[39;00m file:\n",
                  "\u001b[1;32mc:\\Users\\Patryk\\Desktop\\masters\\twitter\\models\\xgb.ipynb Cell 4\u001b[0m in \u001b[0;36mmeasure\u001b[1;34m(x, y, binary)\u001b[0m\n\u001b[0;32m     <a href='vscode-notebook-cell:/c%3A/Users/Patryk/Desktop/masters/twitter/models/xgb.ipynb#W3sZmlsZQ%3D%3D?line=15'>16</a>\u001b[0m xgb_search \u001b[39m=\u001b[39m RandomizedSearchCV(\n\u001b[0;32m     <a href='vscode-notebook-cell:/c%3A/Users/Patryk/Desktop/masters/twitter/models/xgb.ipynb#W3sZmlsZQ%3D%3D?line=16'>17</a>\u001b[0m     clf,\n\u001b[0;32m     <a href='vscode-notebook-cell:/c%3A/Users/Patryk/Desktop/masters/twitter/models/xgb.ipynb#W3sZmlsZQ%3D%3D?line=17'>18</a>\u001b[0m     param_distributions\u001b[39m=\u001b[39mparams,\n\u001b[1;32m   (...)\u001b[0m\n\u001b[0;32m     <a href='vscode-notebook-cell:/c%3A/Users/Patryk/Desktop/masters/twitter/models/xgb.ipynb#W3sZmlsZQ%3D%3D?line=22'>23</a>\u001b[0m     n_jobs\u001b[39m=\u001b[39m\u001b[39m4\u001b[39m,\n\u001b[0;32m     <a href='vscode-notebook-cell:/c%3A/Users/Patryk/Desktop/masters/twitter/models/xgb.ipynb#W3sZmlsZQ%3D%3D?line=23'>24</a>\u001b[0m )\n\u001b[0;32m     <a href='vscode-notebook-cell:/c%3A/Users/Patryk/Desktop/masters/twitter/models/xgb.ipynb#W3sZmlsZQ%3D%3D?line=24'>25</a>\u001b[0m split \u001b[39m=\u001b[39m \u001b[39mint\u001b[39m(\u001b[39m0.8\u001b[39m \u001b[39m*\u001b[39m \u001b[39mlen\u001b[39m(x))\n\u001b[1;32m---> <a href='vscode-notebook-cell:/c%3A/Users/Patryk/Desktop/masters/twitter/models/xgb.ipynb#W3sZmlsZQ%3D%3D?line=25'>26</a>\u001b[0m xgb_search\u001b[39m.\u001b[39;49mfit(x[:split], y[:split])\n\u001b[0;32m     <a href='vscode-notebook-cell:/c%3A/Users/Patryk/Desktop/masters/twitter/models/xgb.ipynb#W3sZmlsZQ%3D%3D?line=26'>27</a>\u001b[0m y_pred \u001b[39m=\u001b[39m xgb_search\u001b[39m.\u001b[39mpredict(x[split:])\n\u001b[0;32m     <a href='vscode-notebook-cell:/c%3A/Users/Patryk/Desktop/masters/twitter/models/xgb.ipynb#W3sZmlsZQ%3D%3D?line=27'>28</a>\u001b[0m \u001b[39m#cm = confusion_matrix(y[split:], y_pred)\u001b[39;00m\n",
                  "File \u001b[1;32mc:\\Users\\Patryk\\AppData\\Local\\Programs\\Python\\Python310\\lib\\site-packages\\sklearn\\model_selection\\_search.py:891\u001b[0m, in \u001b[0;36mBaseSearchCV.fit\u001b[1;34m(self, X, y, groups, **fit_params)\u001b[0m\n\u001b[0;32m    885\u001b[0m     results \u001b[39m=\u001b[39m \u001b[39mself\u001b[39m\u001b[39m.\u001b[39m_format_results(\n\u001b[0;32m    886\u001b[0m         all_candidate_params, n_splits, all_out, all_more_results\n\u001b[0;32m    887\u001b[0m     )\n\u001b[0;32m    889\u001b[0m     \u001b[39mreturn\u001b[39;00m results\n\u001b[1;32m--> 891\u001b[0m \u001b[39mself\u001b[39;49m\u001b[39m.\u001b[39;49m_run_search(evaluate_candidates)\n\u001b[0;32m    893\u001b[0m \u001b[39m# multimetric is determined here because in the case of a callable\u001b[39;00m\n\u001b[0;32m    894\u001b[0m \u001b[39m# self.scoring the return type is only known after calling\u001b[39;00m\n\u001b[0;32m    895\u001b[0m first_test_score \u001b[39m=\u001b[39m all_out[\u001b[39m0\u001b[39m][\u001b[39m\"\u001b[39m\u001b[39mtest_scores\u001b[39m\u001b[39m\"\u001b[39m]\n",
                  "File \u001b[1;32mc:\\Users\\Patryk\\AppData\\Local\\Programs\\Python\\Python310\\lib\\site-packages\\sklearn\\model_selection\\_search.py:1766\u001b[0m, in \u001b[0;36mRandomizedSearchCV._run_search\u001b[1;34m(self, evaluate_candidates)\u001b[0m\n\u001b[0;32m   1764\u001b[0m \u001b[39mdef\u001b[39;00m \u001b[39m_run_search\u001b[39m(\u001b[39mself\u001b[39m, evaluate_candidates):\n\u001b[0;32m   1765\u001b[0m     \u001b[39m\"\"\"Search n_iter candidates from param_distributions\"\"\"\u001b[39;00m\n\u001b[1;32m-> 1766\u001b[0m     evaluate_candidates(\n\u001b[0;32m   1767\u001b[0m         ParameterSampler(\n\u001b[0;32m   1768\u001b[0m             \u001b[39mself\u001b[39;49m\u001b[39m.\u001b[39;49mparam_distributions, \u001b[39mself\u001b[39;49m\u001b[39m.\u001b[39;49mn_iter, random_state\u001b[39m=\u001b[39;49m\u001b[39mself\u001b[39;49m\u001b[39m.\u001b[39;49mrandom_state\n\u001b[0;32m   1769\u001b[0m         )\n\u001b[0;32m   1770\u001b[0m     )\n",
                  "File \u001b[1;32mc:\\Users\\Patryk\\AppData\\Local\\Programs\\Python\\Python310\\lib\\site-packages\\sklearn\\model_selection\\_search.py:838\u001b[0m, in \u001b[0;36mBaseSearchCV.fit.<locals>.evaluate_candidates\u001b[1;34m(candidate_params, cv, more_results)\u001b[0m\n\u001b[0;32m    830\u001b[0m \u001b[39mif\u001b[39;00m \u001b[39mself\u001b[39m\u001b[39m.\u001b[39mverbose \u001b[39m>\u001b[39m \u001b[39m0\u001b[39m:\n\u001b[0;32m    831\u001b[0m     \u001b[39mprint\u001b[39m(\n\u001b[0;32m    832\u001b[0m         \u001b[39m\"\u001b[39m\u001b[39mFitting \u001b[39m\u001b[39m{0}\u001b[39;00m\u001b[39m folds for each of \u001b[39m\u001b[39m{1}\u001b[39;00m\u001b[39m candidates,\u001b[39m\u001b[39m\"\u001b[39m\n\u001b[0;32m    833\u001b[0m         \u001b[39m\"\u001b[39m\u001b[39m totalling \u001b[39m\u001b[39m{2}\u001b[39;00m\u001b[39m fits\u001b[39m\u001b[39m\"\u001b[39m\u001b[39m.\u001b[39mformat(\n\u001b[0;32m    834\u001b[0m             n_splits, n_candidates, n_candidates \u001b[39m*\u001b[39m n_splits\n\u001b[0;32m    835\u001b[0m         )\n\u001b[0;32m    836\u001b[0m     )\n\u001b[1;32m--> 838\u001b[0m out \u001b[39m=\u001b[39m parallel(\n\u001b[0;32m    839\u001b[0m     delayed(_fit_and_score)(\n\u001b[0;32m    840\u001b[0m         clone(base_estimator),\n\u001b[0;32m    841\u001b[0m         X,\n\u001b[0;32m    842\u001b[0m         y,\n\u001b[0;32m    843\u001b[0m         train\u001b[39m=\u001b[39;49mtrain,\n\u001b[0;32m    844\u001b[0m         test\u001b[39m=\u001b[39;49mtest,\n\u001b[0;32m    845\u001b[0m         parameters\u001b[39m=\u001b[39;49mparameters,\n\u001b[0;32m    846\u001b[0m         split_progress\u001b[39m=\u001b[39;49m(split_idx, n_splits),\n\u001b[0;32m    847\u001b[0m         candidate_progress\u001b[39m=\u001b[39;49m(cand_idx, n_candidates),\n\u001b[0;32m    848\u001b[0m         \u001b[39m*\u001b[39;49m\u001b[39m*\u001b[39;49mfit_and_score_kwargs,\n\u001b[0;32m    849\u001b[0m     )\n\u001b[0;32m    850\u001b[0m     \u001b[39mfor\u001b[39;49;00m (cand_idx, parameters), (split_idx, (train, test)) \u001b[39min\u001b[39;49;00m product(\n\u001b[0;32m    851\u001b[0m         \u001b[39menumerate\u001b[39;49m(candidate_params), \u001b[39menumerate\u001b[39;49m(cv\u001b[39m.\u001b[39;49msplit(X, y, groups))\n\u001b[0;32m    852\u001b[0m     )\n\u001b[0;32m    853\u001b[0m )\n\u001b[0;32m    855\u001b[0m \u001b[39mif\u001b[39;00m \u001b[39mlen\u001b[39m(out) \u001b[39m<\u001b[39m \u001b[39m1\u001b[39m:\n\u001b[0;32m    856\u001b[0m     \u001b[39mraise\u001b[39;00m \u001b[39mValueError\u001b[39;00m(\n\u001b[0;32m    857\u001b[0m         \u001b[39m\"\u001b[39m\u001b[39mNo fits were performed. \u001b[39m\u001b[39m\"\u001b[39m\n\u001b[0;32m    858\u001b[0m         \u001b[39m\"\u001b[39m\u001b[39mWas the CV iterator empty? \u001b[39m\u001b[39m\"\u001b[39m\n\u001b[0;32m    859\u001b[0m         \u001b[39m\"\u001b[39m\u001b[39mWere there no candidates?\u001b[39m\u001b[39m\"\u001b[39m\n\u001b[0;32m    860\u001b[0m     )\n",
                  "File \u001b[1;32mc:\\Users\\Patryk\\AppData\\Local\\Programs\\Python\\Python310\\lib\\site-packages\\joblib\\parallel.py:1056\u001b[0m, in \u001b[0;36mParallel.__call__\u001b[1;34m(self, iterable)\u001b[0m\n\u001b[0;32m   1053\u001b[0m     \u001b[39mself\u001b[39m\u001b[39m.\u001b[39m_iterating \u001b[39m=\u001b[39m \u001b[39mFalse\u001b[39;00m\n\u001b[0;32m   1055\u001b[0m \u001b[39mwith\u001b[39;00m \u001b[39mself\u001b[39m\u001b[39m.\u001b[39m_backend\u001b[39m.\u001b[39mretrieval_context():\n\u001b[1;32m-> 1056\u001b[0m     \u001b[39mself\u001b[39;49m\u001b[39m.\u001b[39;49mretrieve()\n\u001b[0;32m   1057\u001b[0m \u001b[39m# Make sure that we get a last message telling us we are done\u001b[39;00m\n\u001b[0;32m   1058\u001b[0m elapsed_time \u001b[39m=\u001b[39m time\u001b[39m.\u001b[39mtime() \u001b[39m-\u001b[39m \u001b[39mself\u001b[39m\u001b[39m.\u001b[39m_start_time\n",
                  "File \u001b[1;32mc:\\Users\\Patryk\\AppData\\Local\\Programs\\Python\\Python310\\lib\\site-packages\\joblib\\parallel.py:935\u001b[0m, in \u001b[0;36mParallel.retrieve\u001b[1;34m(self)\u001b[0m\n\u001b[0;32m    933\u001b[0m \u001b[39mtry\u001b[39;00m:\n\u001b[0;32m    934\u001b[0m     \u001b[39mif\u001b[39;00m \u001b[39mgetattr\u001b[39m(\u001b[39mself\u001b[39m\u001b[39m.\u001b[39m_backend, \u001b[39m'\u001b[39m\u001b[39msupports_timeout\u001b[39m\u001b[39m'\u001b[39m, \u001b[39mFalse\u001b[39;00m):\n\u001b[1;32m--> 935\u001b[0m         \u001b[39mself\u001b[39m\u001b[39m.\u001b[39m_output\u001b[39m.\u001b[39mextend(job\u001b[39m.\u001b[39;49mget(timeout\u001b[39m=\u001b[39;49m\u001b[39mself\u001b[39;49m\u001b[39m.\u001b[39;49mtimeout))\n\u001b[0;32m    936\u001b[0m     \u001b[39melse\u001b[39;00m:\n\u001b[0;32m    937\u001b[0m         \u001b[39mself\u001b[39m\u001b[39m.\u001b[39m_output\u001b[39m.\u001b[39mextend(job\u001b[39m.\u001b[39mget())\n",
                  "File \u001b[1;32mc:\\Users\\Patryk\\AppData\\Local\\Programs\\Python\\Python310\\lib\\site-packages\\joblib\\_parallel_backends.py:542\u001b[0m, in \u001b[0;36mLokyBackend.wrap_future_result\u001b[1;34m(future, timeout)\u001b[0m\n\u001b[0;32m    539\u001b[0m \u001b[39m\"\"\"Wrapper for Future.result to implement the same behaviour as\u001b[39;00m\n\u001b[0;32m    540\u001b[0m \u001b[39mAsyncResults.get from multiprocessing.\"\"\"\u001b[39;00m\n\u001b[0;32m    541\u001b[0m \u001b[39mtry\u001b[39;00m:\n\u001b[1;32m--> 542\u001b[0m     \u001b[39mreturn\u001b[39;00m future\u001b[39m.\u001b[39;49mresult(timeout\u001b[39m=\u001b[39;49mtimeout)\n\u001b[0;32m    543\u001b[0m \u001b[39mexcept\u001b[39;00m CfTimeoutError \u001b[39mas\u001b[39;00m e:\n\u001b[0;32m    544\u001b[0m     \u001b[39mraise\u001b[39;00m \u001b[39mTimeoutError\u001b[39;00m \u001b[39mfrom\u001b[39;00m \u001b[39me\u001b[39;00m\n",
                  "File \u001b[1;32mc:\\Users\\Patryk\\AppData\\Local\\Programs\\Python\\Python310\\lib\\concurrent\\futures\\_base.py:441\u001b[0m, in \u001b[0;36mFuture.result\u001b[1;34m(self, timeout)\u001b[0m\n\u001b[0;32m    438\u001b[0m \u001b[39melif\u001b[39;00m \u001b[39mself\u001b[39m\u001b[39m.\u001b[39m_state \u001b[39m==\u001b[39m FINISHED:\n\u001b[0;32m    439\u001b[0m     \u001b[39mreturn\u001b[39;00m \u001b[39mself\u001b[39m\u001b[39m.\u001b[39m__get_result()\n\u001b[1;32m--> 441\u001b[0m \u001b[39mself\u001b[39;49m\u001b[39m.\u001b[39;49m_condition\u001b[39m.\u001b[39;49mwait(timeout)\n\u001b[0;32m    443\u001b[0m \u001b[39mif\u001b[39;00m \u001b[39mself\u001b[39m\u001b[39m.\u001b[39m_state \u001b[39min\u001b[39;00m [CANCELLED, CANCELLED_AND_NOTIFIED]:\n\u001b[0;32m    444\u001b[0m     \u001b[39mraise\u001b[39;00m CancelledError()\n",
                  "File \u001b[1;32mc:\\Users\\Patryk\\AppData\\Local\\Programs\\Python\\Python310\\lib\\threading.py:320\u001b[0m, in \u001b[0;36mCondition.wait\u001b[1;34m(self, timeout)\u001b[0m\n\u001b[0;32m    318\u001b[0m \u001b[39mtry\u001b[39;00m:    \u001b[39m# restore state no matter what (e.g., KeyboardInterrupt)\u001b[39;00m\n\u001b[0;32m    319\u001b[0m     \u001b[39mif\u001b[39;00m timeout \u001b[39mis\u001b[39;00m \u001b[39mNone\u001b[39;00m:\n\u001b[1;32m--> 320\u001b[0m         waiter\u001b[39m.\u001b[39;49macquire()\n\u001b[0;32m    321\u001b[0m         gotit \u001b[39m=\u001b[39m \u001b[39mTrue\u001b[39;00m\n\u001b[0;32m    322\u001b[0m     \u001b[39melse\u001b[39;00m:\n",
                  "\u001b[1;31mKeyboardInterrupt\u001b[0m: "
               ]
            }
         ],
         "source": [
            "full_names = {\n",
            "    \"amzn\": \"Amazon\",\n",
            "    \"aapl\": \"Apple\",\n",
            "    \"msft\": \"Microsoft\",\n",
            "    \"tsla\": \"Tesla\",\n",
            "    \"goog\": \"Google (GOOG)\",\n",
            "    \"googl\": \"Google (GOOGL)\",\n",
            "    }\n",
            "weight = \"baseline_2\"\n",
            "\n",
            "acc = {}\n",
            "cm = {}\n",
            "f1_metric = {}\n",
            "\n",
            "path = f\"../datasets/v3/binned/\"\n",
            "\n",
            "for company in full_names.keys():\n",
            "    df = pd.read_csv(path + f\"{company}.csv\")\n",
            "    OTHER_COLS = [\"open\", \"high\", \"low\", \"close\", \"vol\"]\n",
            "    \n",
            "    print(OTHER_COLS)\n",
            "    acc[company] = {}\n",
            "    f1_metric[company] = {}\n",
            "    fi = {}\n",
            "\n",
            "    for lag in [1, 2, 3, 6, 8]:\n",
            "        x, y = create_x_y(df, x_cols=OTHER_COLS, y_col=\"bin_2\", lag=lag)\n",
            "        y = encode_y(y)\n",
            "        # print(x[:3], y[:3])\n",
            "        # print(acc, f1_metric, fi)\n",
            "        acc[company][lag], f1_metric[company][lag], fi[lag] = measure(\n",
            "            x, y, binary=True\n",
            "        )\n",
            "    save_importances_plot(\n",
            "        fi[lag],\n",
            "        f\"xgb_{company}_imp_BASE\",\n",
            "        f\"{full_names[company]}\",\n",
            "        OTHER_COLS,\n",
            "    )\n",
            "with open(f\"../results/v3/XGB_{company}_acc_f1_v3_BASE.txt\", \"w\") as file:\n",
            "    to_write = \"Acc: \" + json.dumps(acc) + \" F1: \" + json.dumps(f1_metric)\n",
            "    file.write(json.dumps(to_write))"
         ]
      },
      {
         "cell_type": "code",
         "execution_count": 12,
         "metadata": {},
         "outputs": [
            {
               "name": "stdout",
               "output_type": "stream",
               "text": [
                  "['open', 'high', 'low', 'close', 'vol', 'comment_num_sum', 'comp_max', 'comp_mean', 'comp_median', 'comp_min', 'comp_std', 'is_negative_sum', 'is_neutral_sum', 'is_positive_sum', 'like_num_sum', 'neg_max', 'neg_mean', 'neg_median', 'neg_min', 'neg_std', 'neu_max', 'neu_mean', 'neu_median', 'neu_min', 'neu_std', 'count', 'pos_max', 'pos_mean', 'pos_median', 'pos_min', 'pos_std', 'retweet_num_sum', 'relative_count', 'diffs', 'bin_2', 'bin_3']\n",
                  "Fitting 5 folds for each of 20 candidates, totalling 100 fits\n",
                  "Fitting 5 folds for each of 20 candidates, totalling 100 fits\n",
                  "Fitting 5 folds for each of 20 candidates, totalling 100 fits\n",
                  "Fitting 5 folds for each of 20 candidates, totalling 100 fits\n",
                  "Fitting 5 folds for each of 20 candidates, totalling 100 fits\n",
                  "['open', 'high', 'low', 'close', 'vol', 'comment_num_sum', 'comp_max', 'comp_mean', 'comp_median', 'comp_min', 'comp_std', 'is_negative_sum', 'is_neutral_sum', 'is_positive_sum', 'like_num_sum', 'neg_max', 'neg_mean', 'neg_median', 'neg_min', 'neg_std', 'neu_max', 'neu_mean', 'neu_median', 'neu_min', 'neu_std', 'count', 'pos_max', 'pos_mean', 'pos_median', 'pos_min', 'pos_std', 'retweet_num_sum', 'relative_count', 'diffs', 'bin_2', 'bin_3']\n",
                  "Fitting 5 folds for each of 20 candidates, totalling 100 fits\n",
                  "Fitting 5 folds for each of 20 candidates, totalling 100 fits\n",
                  "Fitting 5 folds for each of 20 candidates, totalling 100 fits\n",
                  "Fitting 5 folds for each of 20 candidates, totalling 100 fits\n",
                  "Fitting 5 folds for each of 20 candidates, totalling 100 fits\n",
                  "['open', 'high', 'low', 'close', 'vol', 'comment_num_sum', 'comp_max', 'comp_mean', 'comp_median', 'comp_min', 'comp_std', 'is_negative_sum', 'is_neutral_sum', 'is_positive_sum', 'like_num_sum', 'neg_max', 'neg_mean', 'neg_median', 'neg_min', 'neg_std', 'neu_max', 'neu_mean', 'neu_median', 'neu_min', 'neu_std', 'count', 'pos_max', 'pos_mean', 'pos_median', 'pos_min', 'pos_std', 'retweet_num_sum', 'relative_count', 'diffs', 'bin_2', 'bin_3']\n",
                  "Fitting 5 folds for each of 20 candidates, totalling 100 fits\n",
                  "Fitting 5 folds for each of 20 candidates, totalling 100 fits\n",
                  "Fitting 5 folds for each of 20 candidates, totalling 100 fits\n",
                  "Fitting 5 folds for each of 20 candidates, totalling 100 fits\n",
                  "Fitting 5 folds for each of 20 candidates, totalling 100 fits\n",
                  "['open', 'high', 'low', 'close', 'vol', 'comment_num_sum', 'comp_max', 'comp_mean', 'comp_median', 'comp_min', 'comp_std', 'is_negative_sum', 'is_neutral_sum', 'is_positive_sum', 'like_num_sum', 'neg_max', 'neg_mean', 'neg_median', 'neg_min', 'neg_std', 'neu_max', 'neu_mean', 'neu_median', 'neu_min', 'neu_std', 'count', 'pos_max', 'pos_mean', 'pos_median', 'pos_min', 'pos_std', 'retweet_num_sum', 'relative_count', 'diffs', 'bin_2', 'bin_3']\n",
                  "Fitting 5 folds for each of 20 candidates, totalling 100 fits\n",
                  "Fitting 5 folds for each of 20 candidates, totalling 100 fits\n",
                  "Fitting 5 folds for each of 20 candidates, totalling 100 fits\n",
                  "Fitting 5 folds for each of 20 candidates, totalling 100 fits\n",
                  "Fitting 5 folds for each of 20 candidates, totalling 100 fits\n",
                  "['open', 'high', 'low', 'close', 'vol', 'comment_num_sum', 'comp_max', 'comp_mean', 'comp_median', 'comp_min', 'comp_std', 'is_negative_sum', 'is_neutral_sum', 'is_positive_sum', 'like_num_sum', 'neg_max', 'neg_mean', 'neg_median', 'neg_min', 'neg_std', 'neu_max', 'neu_mean', 'neu_median', 'neu_min', 'neu_std', 'count', 'pos_max', 'pos_mean', 'pos_median', 'pos_min', 'pos_std', 'retweet_num_sum', 'relative_count', 'diffs', 'bin_2', 'bin_3']\n",
                  "Fitting 5 folds for each of 20 candidates, totalling 100 fits\n",
                  "Fitting 5 folds for each of 20 candidates, totalling 100 fits\n",
                  "Fitting 5 folds for each of 20 candidates, totalling 100 fits\n",
                  "Fitting 5 folds for each of 20 candidates, totalling 100 fits\n",
                  "Fitting 5 folds for each of 20 candidates, totalling 100 fits\n",
                  "['open', 'high', 'low', 'close', 'vol', 'comment_num_sum', 'comp_max', 'comp_mean', 'comp_median', 'comp_min', 'comp_std', 'is_negative_sum', 'is_neutral_sum', 'is_positive_sum', 'like_num_sum', 'neg_max', 'neg_mean', 'neg_median', 'neg_min', 'neg_std', 'neu_max', 'neu_mean', 'neu_median', 'neu_min', 'neu_std', 'count', 'pos_max', 'pos_mean', 'pos_median', 'pos_min', 'pos_std', 'retweet_num_sum', 'relative_count', 'diffs', 'bin_2', 'bin_3']\n",
                  "Fitting 5 folds for each of 20 candidates, totalling 100 fits\n",
                  "Fitting 5 folds for each of 20 candidates, totalling 100 fits\n",
                  "Fitting 5 folds for each of 20 candidates, totalling 100 fits\n",
                  "Fitting 5 folds for each of 20 candidates, totalling 100 fits\n",
                  "Fitting 5 folds for each of 20 candidates, totalling 100 fits\n"
               ]
            },
            {
               "data": {
                  "image/png": "[encoded data removed]",
                  "text/plain": [
                     "<Figure size 648x432 with 1 Axes>"
                  ]
               },
               "metadata": {
                  "needs_background": "light"
               },
               "output_type": "display_data"
            }
         ],
         "source": [
            "full_names = {\n",
            "    \"amzn\": \"Amazon\",\n",
            "    \"aapl\": \"Apple\",\n",
            "    \"msft\": \"Microsoft\",\n",
            "    \"tsla\": \"Tesla\",\n",
            "    \"goog\": \"Google (GOOG)\",\n",
            "    \"googl\": \"Google (GOOGL)\",\n",
            "}\n",
            "weight = \"baseline_2\"\n",
            "\n",
            "acc = {}\n",
            "cm = {}\n",
            "f1_metric = {}\n",
            "\n",
            "path = f\"../datasets/v3/binned/\"\n",
            "\n",
            "for company in full_names.keys():\n",
            "    df = pd.read_csv(path + f\"{company}.csv\")\n",
            "    VITAL_COLS = [\"post_date\", \"ticker\"]\n",
            "    OTHER_COLS = [i for i in df.columns if i not in VITAL_COLS]\n",
            "    \n",
            "    print(OTHER_COLS)\n",
            "    acc[company] = {}\n",
            "    f1_metric[company] = {}\n",
            "    fi = {}\n",
            "\n",
            "    for lag in [1, 2, 3, 6, 8]:\n",
            "        x, y = create_x_y(df, x_cols=OTHER_COLS, y_col=\"bin_2\", lag=lag)\n",
            "        y = encode_y(y)\n",
            "        # print(x[:3], y[:3])\n",
            "        # print(acc, f1_metric, fi)\n",
            "        acc[company][lag], f1_metric[company][lag], fi[lag] = measure(\n",
            "            x, y, binary=True\n",
            "        )\n",
            "    save_importances_plot(\n",
            "        fi[lag],\n",
            "        f\"xgb_{company}_imp_v3\",\n",
            "        f\"{full_names[company]}\",\n",
            "        OTHER_COLS,\n",
            "    )\n",
            "with open(f\"../results/v3/XGB_{company}_acc_f1_v3.txt\", \"w\") as file:\n",
            "    to_write = \"Acc: \" + json.dumps(acc) + \" F1: \" + json.dumps(f1_metric)\n",
            "    file.write(json.dumps(to_write))"
         ]
      },
      {
         "cell_type": "code",
         "execution_count": 27,
         "metadata": {},
         "outputs": [
            {
               "data": {
                  "text/plain": [
                     "{'tsla': {3: 0.3563615428900403,\n",
                     "  6: 0.3747841105354059,\n",
                     "  10: 0.35368663594470046,\n",
                     "  16: 0.3723342939481268}}"
                  ]
               },
               "execution_count": 27,
               "metadata": {},
               "output_type": "execute_result"
            }
         ],
         "source": [
            "acc"
         ]
      },
      {
         "cell_type": "code",
         "execution_count": 21,
         "metadata": {},
         "outputs": [],
         "source": [
            "acc_good = {f\"{company}_{lag}\": round(acc[company][lag], 4) for lag in acc[company] for company in acc}\n",
            "f1_good = {f\"{company}_{lag}\": round(f1_metric[company][lag], 4) for lag in acc[company] for company in acc}"
         ]
      },
      {
         "cell_type": "code",
         "execution_count": 23,
         "metadata": {},
         "outputs": [
            {
               "data": {
                  "text/plain": [
                     "{'amzn_3': 0.491, 'amzn_6': 0.498, 'amzn_10': 0.4935, 'amzn_16': 0.4916}"
                  ]
               },
               "execution_count": 23,
               "metadata": {},
               "output_type": "execute_result"
            }
         ],
         "source": [
            "f1_good"
         ]
      },
      {
         "cell_type": "code",
         "execution_count": 11,
         "metadata": {},
         "outputs": [
            {
               "data": {
                  "text/plain": [
                     "Text(0.5, 1.0, 'F1')"
                  ]
               },
               "execution_count": 11,
               "metadata": {},
               "output_type": "execute_result"
            },
            {
               "data": {
                  "image/png": "[encoded data removed]",
                  "text/plain": [
                     "<Figure size 648x432 with 1 Axes>"
                  ]
               },
               "metadata": {
                  "needs_background": "light"
               },
               "output_type": "display_data"
            }
         ],
         "source": [
            "import seaborn as sns\n",
            "\n",
            "figure = plt.gcf()\n",
            "figure.set_size_inches(9, 6)\n",
            "sns.barplot(x=list(f1_good.values()), y=list(f1_good.keys())).set_title(\"F1\")\n"
         ]
      }
   ],
   "metadata": {
      "kernelspec": {
         "display_name": "Python 3.10.4 64-bit",
         "language": "python",
         "name": "python3"
      },
      "language_info": {
         "codemirror_mode": {
            "name": "ipython",
            "version": 3
         },
         "file_extension": ".py",
         "mimetype": "text/x-python",
         "name": "python",
         "nbconvert_exporter": "python",
         "pygments_lexer": "ipython3",
         "version": "3.10.0"
      },
      "orig_nbformat": 4,
      "vscode": {
         "interpreter": {
            "hash": "1dd0381d1fc2fb15dda0c9601b2866ce5a466e54b3f253773e8ed097d13694fa"
         }
      }
   },
   "nbformat": 4,
   "nbformat_minor": 2
}
