{
   "cells": [
      {
         "cell_type": "code",
         "execution_count": 2,
         "metadata": {},
         "outputs": [],
         "source": [
            "import xgboost as xgb\n",
            "import pandas as pd\n",
            "import numpy as np\n",
            "from sklearn.metrics import f1_score, accuracy_score, roc_auc_score\n",
            "from sklearn.model_selection import TimeSeriesSplit, GridSearchCV\n",
            "from scipy.stats import uniform, randint\n",
            "from sklearn.utils.class_weight import compute_sample_weight\n",
            "import matplotlib.pyplot as plt\n",
            "import json\n",
            "from tools import create_x_y"
         ]
      },
      {
         "cell_type": "code",
         "execution_count": 3,
         "metadata": {},
         "outputs": [],
         "source": [
            "def encode_y(y):\n",
            "    if len(set(y)) == 2:\n",
            "        remap_dict = {-1: 0, 1: 1}\n",
            "    elif len(set(y)) == 3:\n",
            "        remap_dict = {-1: 0, 0: 1, 1: 2}\n",
            "    elif len(set(y)) == 5:\n",
            "        remap_dict = {-2: 0, -1: 1, 0: 2, 1: 3, 2: 4}\n",
            "    for i, val in enumerate(y):\n",
            "        y[i] = remap_dict[val]\n",
            "\n",
            "    return y\n",
            "\n",
            "\n",
            "def weight_data(x):\n",
            "    # least represented class is 1.0, others are percentage_least/percentage_other\n",
            "    percentages = {}\n",
            "    len_x = len(x)\n",
            "    for uniq_val in set(x):\n",
            "        percentages[uniq_val] = sum([1 for i in x if i == uniq_val]) / len_x\n",
            "    least = min(percentages, key=percentages.get)\n",
            "    weights = {i: percentages[least] / percentages[i] for i in percentages}\n",
            "    return weights\n",
            "\n",
            "\n",
            "# match feature importances from vector with multiple lagged vals of each column\n",
            "def importances_from_lag(x, col_names):\n",
            "    lag = int(len(x) / len(col_names))\n",
            "    len_col = len(col_names)\n",
            "    imp = {\n",
            "        col_names[i]: sum(x[i * lag : (i + 1) * lag]) / lag\n",
            "        for i in range(len_col)\n",
            "    }\n",
            "\n",
            "    return imp\n",
            "\n",
            "def save_importances_plot(fi, name, title, cols):\n",
            "    import seaborn as sns\n",
            "    importances = importances_from_lag(fi, cols) \n",
            "    x_axis = list(importances.keys())\n",
            "    y_axis = [float(i) for i in importances.values()]\n",
            "    figure = plt.gcf()\n",
            "    figure.set_size_inches(9, 6)\n",
            "    sns.barplot(y=x_axis, x=y_axis).set_title(title)\n",
            "    \n",
            "    plt.savefig(f'../plots/{name}.pdf')"
         ]
      },
      {
         "cell_type": "code",
         "execution_count": 12,
         "metadata": {},
         "outputs": [],
         "source": [
            "def measure(x, y):\n",
            "    mode = \"binary:logistic\"\n",
            "\n",
            "    clf = xgb.XGBClassifier(objective=mode, random_state=42, tree_method='gpu_hist', gpu_id=0)\n",
            "\n",
            "    params  = {\n",
            "    'n_estimators': [100, 400, 800],\n",
            "    'max_depth': [3, 6, 9],\n",
            "    'learning_rate': [0.05, 0.1, 0.2],\n",
            "    'min_child_weight': [1, 10, 100]\n",
            "    }\n",
            "\n",
            "    time_split = TimeSeriesSplit(n_splits=5)\n",
            "    xgb_search = GridSearchCV(\n",
            "        clf,\n",
            "        param_grid=params,\n",
            "        cv=time_split,\n",
            "        verbose=1,\n",
            "    )\n",
            "    split = int(0.8 * len(x))\n",
            "    xgb_search.fit(x[:split], y[:split])\n",
            "    y_pred = xgb_search.predict(x[split:])\n",
            "\n",
            "    acc = accuracy_score(y[split:], y_pred)\n",
            "    f1 = f1_score(y[split:], y_pred, average=\"weighted\")\n",
            "    roc = roc_auc_score(y[split:], y_pred)\n",
            "    fi = xgb_search.best_estimator_.feature_importances_\n",
            "\n",
            "    return round(acc, 3), round(f1, 3), round(roc, 3), fi"
         ]
      },
      {
         "cell_type": "code",
         "execution_count": 13,
         "metadata": {},
         "outputs": [
            {
               "name": "stdout",
               "output_type": "stream",
               "text": [
                  "Starting amzn, 1.\n",
                  "Fitting 5 folds for each of 81 candidates, totalling 405 fits\n",
                  "Starting amzn, 2.\n",
                  "Fitting 5 folds for each of 81 candidates, totalling 405 fits\n",
                  "Starting amzn, 3.\n",
                  "Fitting 5 folds for each of 81 candidates, totalling 405 fits\n",
                  "Starting amzn, 6.\n",
                  "Fitting 5 folds for each of 81 candidates, totalling 405 fits\n",
                  "Starting amzn, 8.\n",
                  "Fitting 5 folds for each of 81 candidates, totalling 405 fits\n",
                  "Starting aapl, 1.\n",
                  "Fitting 5 folds for each of 81 candidates, totalling 405 fits\n",
                  "Starting aapl, 2.\n",
                  "Fitting 5 folds for each of 81 candidates, totalling 405 fits\n",
                  "Starting aapl, 3.\n",
                  "Fitting 5 folds for each of 81 candidates, totalling 405 fits\n",
                  "Starting aapl, 6.\n",
                  "Fitting 5 folds for each of 81 candidates, totalling 405 fits\n",
                  "Starting aapl, 8.\n",
                  "Fitting 5 folds for each of 81 candidates, totalling 405 fits\n",
                  "Starting msft, 1.\n",
                  "Fitting 5 folds for each of 81 candidates, totalling 405 fits\n",
                  "Starting msft, 2.\n",
                  "Fitting 5 folds for each of 81 candidates, totalling 405 fits\n",
                  "Starting msft, 3.\n",
                  "Fitting 5 folds for each of 81 candidates, totalling 405 fits\n",
                  "Starting msft, 6.\n",
                  "Fitting 5 folds for each of 81 candidates, totalling 405 fits\n",
                  "Starting msft, 8.\n",
                  "Fitting 5 folds for each of 81 candidates, totalling 405 fits\n",
                  "Starting tsla, 1.\n",
                  "Fitting 5 folds for each of 81 candidates, totalling 405 fits\n",
                  "Starting tsla, 2.\n",
                  "Fitting 5 folds for each of 81 candidates, totalling 405 fits\n",
                  "Starting tsla, 3.\n",
                  "Fitting 5 folds for each of 81 candidates, totalling 405 fits\n",
                  "Starting tsla, 6.\n",
                  "Fitting 5 folds for each of 81 candidates, totalling 405 fits\n",
                  "Starting tsla, 8.\n",
                  "Fitting 5 folds for each of 81 candidates, totalling 405 fits\n",
                  "Starting goog, 1.\n",
                  "Fitting 5 folds for each of 81 candidates, totalling 405 fits\n",
                  "Starting goog, 2.\n",
                  "Fitting 5 folds for each of 81 candidates, totalling 405 fits\n",
                  "Starting goog, 3.\n",
                  "Fitting 5 folds for each of 81 candidates, totalling 405 fits\n",
                  "Starting goog, 6.\n",
                  "Fitting 5 folds for each of 81 candidates, totalling 405 fits\n",
                  "Starting goog, 8.\n",
                  "Fitting 5 folds for each of 81 candidates, totalling 405 fits\n",
                  "Starting googl, 1.\n",
                  "Fitting 5 folds for each of 81 candidates, totalling 405 fits\n",
                  "Starting googl, 2.\n",
                  "Fitting 5 folds for each of 81 candidates, totalling 405 fits\n",
                  "Starting googl, 3.\n",
                  "Fitting 5 folds for each of 81 candidates, totalling 405 fits\n",
                  "Starting googl, 6.\n",
                  "Fitting 5 folds for each of 81 candidates, totalling 405 fits\n",
                  "Starting googl, 8.\n",
                  "Fitting 5 folds for each of 81 candidates, totalling 405 fits\n"
               ]
            },
            {
               "data": {
                  "image/png": "[encoded data removed]",
                  "text/plain": [
                     "<Figure size 648x432 with 1 Axes>"
                  ]
               },
               "metadata": {
                  "needs_background": "light"
               },
               "output_type": "display_data"
            }
         ],
         "source": [
            "full_names = {\n",
            "    \"amzn\": \"Amazon\",\n",
            "    \"aapl\": \"Apple\",\n",
            "    \"msft\": \"Microsoft\",\n",
            "    \"tsla\": \"Tesla\",\n",
            "    \"goog\": \"Google (GOOG)\",\n",
            "    \"googl\": \"Google (GOOGL)\",\n",
            "    }\n",
            "weight = \"baseline_2\"\n",
            "\n",
            "acc = {}\n",
            "f1_metric = {}\n",
            "roc = {}\n",
            "\n",
            "path = f\"../datasets/v3/binned/\"\n",
            "\n",
            "for company in full_names.keys():\n",
            "    df = pd.read_csv(path + f\"{company}.csv\")\n",
            "    OTHER_COLS = [\"open\", \"high\", \"low\", \"close\", \"vol\"]\n",
            "    \n",
            "    acc[company] = {}\n",
            "    f1_metric[company] = {}\n",
            "    roc[company] = {}\n",
            "    fi = {}\n",
            "\n",
            "    for lag in [1, 2, 3, 6, 8]:\n",
            "        x, y = create_x_y(df, x_cols=OTHER_COLS, y_col=\"bin_2\", lag=lag)\n",
            "        y = encode_y(y)\n",
            "        print(f\"Starting {company}, {lag}.\")\n",
            "        acc[company][lag], f1_metric[company][lag], roc[company][lag], fi[lag] = measure(\n",
            "            x, y\n",
            "        )\n",
            "    save_importances_plot(\n",
            "        fi[lag],\n",
            "        f\"v3/xgb_{company}_imp_BASE\",\n",
            "        f\"{full_names[company]}\",\n",
            "        OTHER_COLS,\n",
            "    )\n",
            "with open(f\"../results/v3/XGB_BASE.txt\", \"w\") as file:\n",
            "    to_write = \"Acc: \" + json.dumps(acc) + \" F1: \" + json.dumps(f1_metric) + \" ROC: \" + json.dumps(roc)\n",
            "    file.write(json.dumps(to_write))"
         ]
      },
      {
         "cell_type": "code",
         "execution_count": null,
         "metadata": {},
         "outputs": [],
         "source": [
            "full_names = {\n",
            "    \"amzn\": \"Amazon\",\n",
            "    \"aapl\": \"Apple\",\n",
            "    \"msft\": \"Microsoft\",\n",
            "    \"tsla\": \"Tesla\",\n",
            "    \"goog\": \"Google (GOOG)\",\n",
            "    \"googl\": \"Google (GOOGL)\",\n",
            "    }\n",
            "weight = \"no_w\"\n",
            "\n",
            "acc = {}\n",
            "f1_metric = {}\n",
            "roc = {}\n",
            "\n",
            "path = f\"../datasets/v3/binned/\"\n",
            "\n",
            "for company in full_names.keys():\n",
            "    df = pd.read_csv(path + f\"{company}.csv\")\n",
            "    VITAL_COLS = [\"post_date\", \"ticker\", \"bin_2\", \"bin_3\"]\n",
            "    OTHER_COLS = [i for i in df.columns if i not in VITAL_COLS]\n",
            "    \n",
            "    acc[company] = {}\n",
            "    f1_metric[company] = {}\n",
            "    roc[company] = {}\n",
            "    fi = {}\n",
            "\n",
            "    for lag in [1, 2, 3, 6, 8]:\n",
            "        x, y = create_x_y(df, x_cols=OTHER_COLS, y_col=\"bin_2\", lag=lag)\n",
            "        y = encode_y(y)\n",
            "        print(f\"Starting {company}, {lag}.\")\n",
            "        acc[company][lag], f1_metric[company][lag], roc[company][lag], fi[lag] = measure(\n",
            "            x, y\n",
            "        )\n",
            "    save_importances_plot(\n",
            "        fi[lag],\n",
            "        f\"v3/xgb_{company}_imp_no_W\",\n",
            "        f\"{full_names[company]}\",\n",
            "        OTHER_COLS,\n",
            "    )\n",
            "with open(f\"../results/v3/XGB_no_w.txt\", \"w\") as file:\n",
            "    to_write = \"Acc: \" + json.dumps(acc) + \" F1: \" + json.dumps(f1_metric) + \" ROC: \" + json.dumps(roc)\n",
            "    file.write(json.dumps(to_write))"
         ]
      },
      {
         "cell_type": "code",
         "execution_count": 27,
         "metadata": {},
         "outputs": [
            {
               "data": {
                  "text/plain": [
                     "{'tsla': {3: 0.3563615428900403,\n",
                     "  6: 0.3747841105354059,\n",
                     "  10: 0.35368663594470046,\n",
                     "  16: 0.3723342939481268}}"
                  ]
               },
               "execution_count": 27,
               "metadata": {},
               "output_type": "execute_result"
            }
         ],
         "source": [
            "acc"
         ]
      },
      {
         "cell_type": "code",
         "execution_count": 21,
         "metadata": {},
         "outputs": [],
         "source": [
            "acc_good = {f\"{company}_{lag}\": round(acc[company][lag], 4) for lag in acc[company] for company in acc}\n",
            "f1_good = {f\"{company}_{lag}\": round(f1_metric[company][lag], 4) for lag in acc[company] for company in acc}"
         ]
      },
      {
         "cell_type": "code",
         "execution_count": 23,
         "metadata": {},
         "outputs": [
            {
               "data": {
                  "text/plain": [
                     "{'amzn_3': 0.491, 'amzn_6': 0.498, 'amzn_10': 0.4935, 'amzn_16': 0.4916}"
                  ]
               },
               "execution_count": 23,
               "metadata": {},
               "output_type": "execute_result"
            }
         ],
         "source": [
            "f1_good"
         ]
      },
      {
         "cell_type": "code",
         "execution_count": 11,
         "metadata": {},
         "outputs": [
            {
               "data": {
                  "text/plain": [
                     "Text(0.5, 1.0, 'F1')"
                  ]
               },
               "execution_count": 11,
               "metadata": {},
               "output_type": "execute_result"
            },
            {
               "data": {
                  "image/png": "[encoded data removed]",
                  "text/plain": [
                     "<Figure size 648x432 with 1 Axes>"
                  ]
               },
               "metadata": {
                  "needs_background": "light"
               },
               "output_type": "display_data"
            }
         ],
         "source": [
            "import seaborn as sns\n",
            "\n",
            "figure = plt.gcf()\n",
            "figure.set_size_inches(9, 6)\n",
            "sns.barplot(x=list(f1_good.values()), y=list(f1_good.keys())).set_title(\"F1\")\n"
         ]
      }
   ],
   "metadata": {
      "kernelspec": {
         "display_name": "Python 3.10.4 64-bit",
         "language": "python",
         "name": "python3"
      },
      "language_info": {
         "codemirror_mode": {
            "name": "ipython",
            "version": 3
         },
         "file_extension": ".py",
         "mimetype": "text/x-python",
         "name": "python",
         "nbconvert_exporter": "python",
         "pygments_lexer": "ipython3",
         "version": "3.10.0"
      },
      "orig_nbformat": 4,
      "vscode": {
         "interpreter": {
            "hash": "1dd0381d1fc2fb15dda0c9601b2866ce5a466e54b3f253773e8ed097d13694fa"
         }
      }
   },
   "nbformat": 4,
   "nbformat_minor": 2
}
