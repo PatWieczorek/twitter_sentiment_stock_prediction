{
 "cells": [
  {
   "cell_type": "code",
   "execution_count": 16,
   "metadata": {},
   "outputs": [],
   "source": [
    "import xgboost as xgb\n",
    "import pandas as pd\n",
    "import numpy as np\n",
    "from sklearn.metrics import f1_score, accuracy_score, roc_auc_score\n",
    "from sklearn.model_selection import TimeSeriesSplit, GridSearchCV\n",
    "from scipy.stats import uniform, randint\n",
    "from sklearn.utils.class_weight import compute_sample_weight\n",
    "import matplotlib.pyplot as plt\n",
    "import json\n",
    "from tools import create_x_y"
   ]
  },
  {
   "cell_type": "code",
   "execution_count": 49,
   "metadata": {},
   "outputs": [],
   "source": [
    "def encode_y(y):\n",
    "    if len(set(y)) == 2:\n",
    "        remap_dict = {-1: 0, 1: 1}\n",
    "    elif len(set(y)) == 3:\n",
    "        remap_dict = {-1: 0, 0: 1, 1: 2}\n",
    "    elif len(set(y)) == 5:\n",
    "        remap_dict = {-2: 0, -1: 1, 0: 2, 1: 3, 2: 4}\n",
    "    for i, val in enumerate(y):\n",
    "        y[i] = remap_dict[val]\n",
    "\n",
    "    return y\n",
    "\n",
    "def importances_from_lag(x, col_names):\n",
    "    lag = int(len(x) / len(col_names))\n",
    "    len_col = len(col_names)\n",
    "    imp = {\n",
    "        col_names[i]: sum(x[i * lag : (i + 1) * lag]) / lag\n",
    "        for i in range(len_col)\n",
    "    }\n",
    "    imp = dict(sorted(imp.items(), key=lambda item: item[1], reverse=True))\n",
    "    return imp"
   ]
  },
  {
   "cell_type": "code",
   "execution_count": 18,
   "metadata": {},
   "outputs": [],
   "source": [
    "df = pd.read_csv(\"../datasets/v3/binned/amzn.csv\")"
   ]
  },
  {
   "cell_type": "code",
   "execution_count": 15,
   "metadata": {},
   "outputs": [],
   "source": [
    "OTHER_COLS = [\"open\", \"high\", \"low\", \"close\", \"vol\"]\n",
    "lag = 2\n",
    "x, y = create_x_y(df, x_cols=OTHER_COLS, y_col=\"bin_2\", lag=lag)\n",
    "y = encode_y(y)"
   ]
  },
  {
   "cell_type": "code",
   "execution_count": 19,
   "metadata": {},
   "outputs": [
    {
     "name": "stdout",
     "output_type": "stream",
     "text": [
      "Fitting 5 folds for each of 1 candidates, totalling 5 fits\n"
     ]
    }
   ],
   "source": [
    "mode = \"binary:logistic\"\n",
    "\n",
    "clf = xgb.XGBClassifier(objective=mode, random_state=42)# tree_method='gpu_hist', gpu_id=0)\n",
    "\n",
    "params  = {\n",
    "#'n_estimators': [400, 800],\n",
    "#'max_depth': [3, 6, 9],\n",
    "#'learning_rate': [0.05, 0.1, 0.2],\n",
    "#'min_child_weight': [1, 10, 100]\n",
    "}\n",
    "\n",
    "time_split = TimeSeriesSplit(n_splits=5)\n",
    "xgb_search = GridSearchCV(\n",
    "    clf,\n",
    "    param_grid=params,\n",
    "    cv=time_split,\n",
    "    verbose=1,\n",
    ")\n",
    "split = int(0.8 * len(x))\n",
    "xgb_search.fit(x[:split], y[:split])\n",
    "y_pred = xgb_search.predict(x[split:])\n",
    "\n",
    "acc = accuracy_score(y[split:], y_pred)\n",
    "f1 = f1_score(y[split:], y_pred, average=\"weighted\")\n",
    "roc = roc_auc_score(y[split:], y_pred)\n",
    "fi = xgb_search.best_estimator_.feature_importances_\n",
    "\n",
    "my_xgb = xgb_search.best_estimator_"
   ]
  },
  {
   "cell_type": "code",
   "execution_count": 20,
   "metadata": {},
   "outputs": [
    {
     "data": {
      "text/plain": [
       "array([0.0833834 , 0.10162395, 0.11038394, 0.09836508, 0.12088264,\n",
       "       0.10688559, 0.10346754, 0.10476496, 0.08244761, 0.08779529],\n",
       "      dtype=float32)"
      ]
     },
     "execution_count": 20,
     "metadata": {},
     "output_type": "execute_result"
    }
   ],
   "source": [
    "fi"
   ]
  },
  {
   "cell_type": "code",
   "execution_count": 21,
   "metadata": {},
   "outputs": [],
   "source": [
    "import shap\n"
   ]
  },
  {
   "cell_type": "code",
   "execution_count": 22,
   "metadata": {},
   "outputs": [],
   "source": [
    "explainer = shap.TreeExplainer(my_xgb)"
   ]
  },
  {
   "cell_type": "code",
   "execution_count": 23,
   "metadata": {},
   "outputs": [
    {
     "name": "stderr",
     "output_type": "stream",
     "text": [
      "ntree_limit is deprecated, use `iteration_range` or model slicing instead.\n"
     ]
    }
   ],
   "source": [
    "sp = explainer.shap_values(x[:split])"
   ]
  },
  {
   "cell_type": "code",
   "execution_count": 24,
   "metadata": {},
   "outputs": [
    {
     "data": {
      "text/plain": [
       "(6894, 10)"
      ]
     },
     "execution_count": 24,
     "metadata": {},
     "output_type": "execute_result"
    }
   ],
   "source": [
    "sp.shape"
   ]
  },
  {
   "cell_type": "code",
   "execution_count": 25,
   "metadata": {},
   "outputs": [
    {
     "data": {
      "text/plain": [
       "array([[-6.09874070e-01, -6.86175883e-01, -2.18910411e-01, ...,\n",
       "         8.47570062e-01, -1.70424655e-01, -1.93595037e-01],\n",
       "       [-1.37191176e-01, -6.35072291e-01, -9.16338623e-01, ...,\n",
       "         9.62081850e-01,  7.16914833e-02,  1.64256971e-02],\n",
       "       [-1.76072612e-01, -6.48507059e-01, -7.65417755e-01, ...,\n",
       "         7.72584617e-01, -1.89698517e-01,  1.01593003e-01],\n",
       "       ...,\n",
       "       [-1.18085966e-01,  8.42435434e-02,  2.04023555e-01, ...,\n",
       "         2.45655507e-01,  1.30320132e-01,  8.51022080e-04],\n",
       "       [-3.67530853e-01,  7.46387169e-02, -9.65377018e-02, ...,\n",
       "        -5.57710081e-02,  2.23827492e-02, -5.25992215e-02],\n",
       "       [-2.32299343e-01,  9.66057703e-02, -1.31632343e-01, ...,\n",
       "        -1.24888932e-02, -2.68256515e-01, -3.35630387e-01]], dtype=float32)"
      ]
     },
     "execution_count": 25,
     "metadata": {},
     "output_type": "execute_result"
    }
   ],
   "source": [
    "sp"
   ]
  },
  {
   "cell_type": "code",
   "execution_count": 50,
   "metadata": {},
   "outputs": [
    {
     "data": {
      "text/plain": [
       "array([0.18115368, 0.20160437, 0.1339371 , 0.16578591, 0.29569918,\n",
       "       0.14387973, 0.17304076, 0.19480655, 0.20830432, 0.21085966],\n",
       "      dtype=float32)"
      ]
     },
     "execution_count": 50,
     "metadata": {},
     "output_type": "execute_result"
    }
   ],
   "source": [
    "this = np.abs(sp).mean(axis=0)\n",
    "this"
   ]
  },
  {
   "cell_type": "code",
   "execution_count": 51,
   "metadata": {},
   "outputs": [
    {
     "data": {
      "text/plain": [
       "{'low': 0.21978945285081863,\n",
       " 'vol': 0.20958198606967926,\n",
       " 'open': 0.19137902557849884,\n",
       " 'close': 0.1839236542582512,\n",
       " 'high': 0.14986150711774826}"
      ]
     },
     "execution_count": 51,
     "metadata": {},
     "output_type": "execute_result"
    }
   ],
   "source": [
    "x = importances_from_lag(this, OTHER_COLS)\n",
    "x"
   ]
  },
  {
   "cell_type": "code",
   "execution_count": 42,
   "metadata": {},
   "outputs": [
    {
     "data": {
      "image/png": "[encoded data removed]",
      "text/plain": [
       "<Figure size 900x600 with 1 Axes>"
      ]
     },
     "metadata": {},
     "output_type": "display_data"
    }
   ],
   "source": [
    "save_shapley_plot(sp, \"test\", \"test\", OTHER_COLS)"
   ]
  }
 ],
 "metadata": {
  "kernelspec": {
   "display_name": "Python 3.10.0 64-bit",
   "language": "python",
   "name": "python3"
  },
  "language_info": {
   "codemirror_mode": {
    "name": "ipython",
    "version": 3
   },
   "file_extension": ".py",
   "mimetype": "text/x-python",
   "name": "python",
   "nbconvert_exporter": "python",
   "pygments_lexer": "ipython3",
   "version": "3.10.0"
  },
  "orig_nbformat": 4,
  "vscode": {
   "interpreter": {
    "hash": "1dd0381d1fc2fb15dda0c9601b2866ce5a466e54b3f253773e8ed097d13694fa"
   }
  }
 },
 "nbformat": 4,
 "nbformat_minor": 2
}
