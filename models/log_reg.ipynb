{
 "cells": [
  {
   "cell_type": "code",
   "execution_count": 9,
   "metadata": {},
   "outputs": [],
   "source": [
    "import pandas as pd\n",
    "import numpy as np\n",
    "from sklearn.metrics import accuracy_score, f1_score, roc_auc_score\n",
    "from sklearn.linear_model import LogisticRegression\n",
    "from sklearn.model_selection import TimeSeriesSplit, GridSearchCV, RandomizedSearchCV\n",
    "import json\n",
    "from scipy.stats import loguniform\n",
    "\n",
    "from tools import create_x_y"
   ]
  },
  {
   "cell_type": "code",
   "execution_count": 5,
   "metadata": {},
   "outputs": [],
   "source": [
    "def save_results(to_write, filename):\n",
    "    import json\n",
    "    with open(f\"{filename}.txt\", \"w\") as file:\n",
    "        file.write(json.dumps(to_write))"
   ]
  },
  {
   "cell_type": "code",
   "execution_count": 10,
   "metadata": {},
   "outputs": [],
   "source": [
    "def measure(x, y):\n",
    "    clf = LogisticRegression()\n",
    "\n",
    "    params = {\n",
    "        \"solver\": [\"newton-cg\", \"lbfgs\", \"liblinear\"],\n",
    "        \"penalty\": [\"none\", \"l1\", \"l2\", \"elasticnet\"],\n",
    "        \"C\": loguniform(1e-5, 100),\n",
    "    }\n",
    "    time_split = TimeSeriesSplit(n_splits=5)\n",
    "\n",
    "    clf_search = RandomizedSearchCV(\n",
    "        clf,\n",
    "        param_distributions=params,\n",
    "        n_iter=500,\n",
    "        n_jobs=-1,\n",
    "        cv=time_split,\n",
    "        random_state=42,\n",
    "    )\n",
    "\n",
    "    split = int(0.8 * len(x))\n",
    "    clf_search.fit(x[:split], y[:split])\n",
    "    y_pred = clf_search.predict(x[split:])\n",
    "\n",
    "    f1 = f1_score(y[split:], y_pred)\n",
    "    acc = accuracy_score(y[split:], y_pred)\n",
    "    roc = roc_auc_score(y[split:], y_pred)\n",
    "\n",
    "    return round(acc, 3), round(f1, 3), round(roc, 3)"
   ]
  },
  {
   "cell_type": "code",
   "execution_count": null,
   "metadata": {},
   "outputs": [],
   "source": [
    "full_names = {\n",
    "    \"amzn\": \"Amazon\",\n",
    "    \"aapl\": \"Apple\",\n",
    "    \"msft\": \"Microsoft\",\n",
    "    \"tsla\": \"Tesla\",\n",
    "    \"goog\": \"Google (GOOG)\",\n",
    "    \"googl\": \"Google (GOOGL)\",\n",
    "    }\n",
    "weight = \"baseline_2\"\n",
    "\n",
    "acc = {}\n",
    "f1_metric = {}\n",
    "roc = {}\n",
    "\n",
    "path = f\"../datasets/v3/binned/\"\n",
    "\n",
    "for company in full_names.keys():\n",
    "    df = pd.read_csv(path + f\"{company}.csv\")\n",
    "    OTHER_COLS = [\"open\", \"high\", \"low\", \"close\", \"vol\"]\n",
    "    \n",
    "    acc[company] = {}\n",
    "    f1_metric[company] = {}\n",
    "    roc[company] = {}\n",
    "\n",
    "    for lag in [1, 2, 3, 6, 8]:\n",
    "        x, y = create_x_y(df, x_cols=OTHER_COLS, y_col=\"bin_2\", lag=lag)\n",
    "        print(f\"Starting {company}, {lag}.\")\n",
    "\n",
    "        acc[company][lag], f1_metric[company][lag], roc[company][lag] = measure(\n",
    "            x, y\n",
    "        )\n",
    "\n",
    "with open(f\"../results/v3/LogReg_BASE.txt\", \"w\") as file:\n",
    "    to_write = \"Acc: \" + json.dumps(acc) + \" F1: \" + json.dumps(f1_metric) + \" ROC: \" + json.dumps(roc)\n",
    "    file.write(json.dumps(to_write))"
   ]
  },
  {
   "cell_type": "code",
   "execution_count": null,
   "metadata": {},
   "outputs": [],
   "source": [
    "full_names = {\n",
    "    \"amzn\": \"Amazon\",\n",
    "    \"aapl\": \"Apple\",\n",
    "    \"msft\": \"Microsoft\",\n",
    "    \"tsla\": \"Tesla\",\n",
    "    \"goog\": \"Google (GOOG)\",\n",
    "    \"googl\": \"Google (GOOGL)\",\n",
    "    }\n",
    "weight = \"baseline_2\"\n",
    "\n",
    "acc = {}\n",
    "f1_metric = {}\n",
    "roc = {}\n",
    "\n",
    "path = f\"../datasets/v3/binned/\"\n",
    "\n",
    "for company in full_names.keys():\n",
    "    df = pd.read_csv(path + f\"{company}.csv\")\n",
    "    VITAL_COLS = [\"post_date\", \"ticker\", \"close\", \"high\", \"low\", \"bin_2\", \"bin_3\"]\n",
    "    OTHER_COLS = [i for i in df.columns if i not in VITAL_COLS]\n",
    "    \n",
    "    acc[company] = {}\n",
    "    f1_metric[company] = {}\n",
    "    roc[company] = {}\n",
    "\n",
    "    for lag in [1, 2, 3, 6, 8]:\n",
    "        x, y = create_x_y(df, x_cols=OTHER_COLS, y_col=\"bin_2\", lag=lag)\n",
    "        print(f\"Starting {company}, {lag}.\")\n",
    "\n",
    "        acc[company][lag], f1_metric[company][lag], roc[company][lag] = measure(\n",
    "            x, y\n",
    "        )\n",
    "\n",
    "with open(f\"../results/v3/LogReg_all.txt\", \"w\") as file:\n",
    "    to_write = \"Acc: \" + json.dumps(acc) + \" F1: \" + json.dumps(f1_metric) + \" ROC: \" + json.dumps(roc)\n",
    "    file.write(json.dumps(to_write))"
   ]
  }
 ],
 "metadata": {
  "kernelspec": {
   "display_name": "Python 3.10.4 64-bit",
   "language": "python",
   "name": "python3"
  },
  "language_info": {
   "codemirror_mode": {
    "name": "ipython",
    "version": 3
   },
   "file_extension": ".py",
   "mimetype": "text/x-python",
   "name": "python",
   "nbconvert_exporter": "python",
   "pygments_lexer": "ipython3",
   "version": "3.10.0"
  },
  "orig_nbformat": 4,
  "vscode": {
   "interpreter": {
    "hash": "1dd0381d1fc2fb15dda0c9601b2866ce5a466e54b3f253773e8ed097d13694fa"
   }
  }
 },
 "nbformat": 4,
 "nbformat_minor": 2
}
