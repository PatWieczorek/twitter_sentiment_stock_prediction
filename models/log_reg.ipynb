{
 "cells": [
  {
   "cell_type": "code",
   "execution_count": 12,
   "metadata": {},
   "outputs": [],
   "source": [
    "import pandas as pd\n",
    "import numpy as np\n",
    "from sklearn.metrics import accuracy_score, f1_score\n",
    "from sklearn.linear_model import LogisticRegression\n",
    "from sklearn.model_selection import TimeSeriesSplit, GridSearchCV\n",
    "\n",
    "from tools import create_x_y"
   ]
  },
  {
   "cell_type": "code",
   "execution_count": 2,
   "metadata": {},
   "outputs": [],
   "source": [
    "#names = [\"AMZN\", \"AAPL\", \"MSFT\", \"TSLA\", \"GOOG\", \"GOOGL\"]\n",
    "company = \"AMZN\"\n",
    "df = pd.read_csv(f'../datasets/v2.1/more_cols_binned/no_weight/{company}.csv', parse_dates=[\"post_date\"])"
   ]
  },
  {
   "cell_type": "code",
   "execution_count": 3,
   "metadata": {},
   "outputs": [
    {
     "data": {
      "text/plain": [
       "Index(['post_date', 'ticker', 'open', 'high', 'low', 'close', 'vol',\n",
       "       'comment_num_sum', 'comp_max', 'comp_mean', 'comp_median', 'comp_min',\n",
       "       'comp_std', 'like_num_sum', 'neg_max', 'neg_mean', 'neg_median',\n",
       "       'neg_min', 'neg_std', 'neu_max', 'neu_mean', 'neu_median', 'neu_min',\n",
       "       'neu_std', 'count', 'pos_max', 'pos_mean', 'pos_median', 'pos_min',\n",
       "       'pos_std', 'retweet_num_sum', 'relative_count', 'diffs', 'bin_2',\n",
       "       'bin_3'],\n",
       "      dtype='object')"
      ]
     },
     "execution_count": 3,
     "metadata": {},
     "output_type": "execute_result"
    }
   ],
   "source": [
    "df.columns"
   ]
  },
  {
   "cell_type": "code",
   "execution_count": 7,
   "metadata": {},
   "outputs": [],
   "source": [
    "VITAL_COLS = [\"post_date\", \"ticker\", \"close\", \"bin_2\", \"bin_3\", ]\n",
    "OTHER_COLS = [i for i in df.columns if i not in VITAL_COLS]\n"
   ]
  },
  {
   "cell_type": "code",
   "execution_count": 18,
   "metadata": {},
   "outputs": [],
   "source": [
    "def save_results(to_write, filename):\n",
    "    import json\n",
    "    with open(f\"{filename}.txt\", \"w\") as file:\n",
    "        file.write(json.dumps(to_write))"
   ]
  },
  {
   "cell_type": "code",
   "execution_count": 10,
   "metadata": {},
   "outputs": [],
   "source": [
    "def measure(x, y):\n",
    "    clf = LogisticRegression()\n",
    "\n",
    "    params = {\n",
    "        \"penalty\": [\"l1\", \"l2\"],\n",
    "        \"C\": np.logspace(-4, 4, 20),\n",
    "        #\"solver\": [\"lbfgs\", \"liblinear\", \"sag\", \"saga\"],\n",
    "    }\n",
    "    time_split = TimeSeriesSplit(n_splits=5)\n",
    "\n",
    "    clf_search = GridSearchCV(\n",
    "        clf,\n",
    "        param_grid=params,\n",
    "        cv=time_split,\n",
    "        verbose=1,\n",
    "        n_jobs=4,\n",
    "    )\n",
    "\n",
    "    split = int(0.8 * len(x))\n",
    "    clf_search.fit(x[:split], y[:split])\n",
    "    y_pred = clf_search.predict(x[split:])\n",
    "    f1 = f1_score(y[split:], y_pred)\n",
    "    acc = accuracy_score(y[split:], y_pred)\n",
    "\n",
    "    return f1, acc\n",
    "\n",
    "def baseline_measure(lag):\n",
    "    base_cols = [\"open\", \"high\", \"low\", \"close\", \"vol\"]\n",
    "    x, y = create_x_y(df, x_cols=base_cols, y_col=\"bin_2\", lag=lag)\n",
    "    return measure(x, y)\n"
   ]
  },
  {
   "cell_type": "code",
   "execution_count": 13,
   "metadata": {},
   "outputs": [
    {
     "name": "stdout",
     "output_type": "stream",
     "text": [
      "Fitting 5 folds for each of 40 candidates, totalling 200 fits\n"
     ]
    },
    {
     "name": "stderr",
     "output_type": "stream",
     "text": [
      "c:\\Users\\Patryk\\AppData\\Local\\Programs\\Python\\Python310\\lib\\site-packages\\sklearn\\model_selection\\_validation.py:372: FitFailedWarning: \n",
      "100 fits failed out of a total of 200.\n",
      "The score on these train-test partitions for these parameters will be set to nan.\n",
      "If these failures are not expected, you can try to debug them by setting error_score='raise'.\n",
      "\n",
      "Below are more details about the failures:\n",
      "--------------------------------------------------------------------------------\n",
      "100 fits failed with the following error:\n",
      "Traceback (most recent call last):\n",
      "  File \"c:\\Users\\Patryk\\AppData\\Local\\Programs\\Python\\Python310\\lib\\site-packages\\sklearn\\model_selection\\_validation.py\", line 680, in _fit_and_score\n",
      "    estimator.fit(X_train, y_train, **fit_params)\n",
      "  File \"c:\\Users\\Patryk\\AppData\\Local\\Programs\\Python\\Python310\\lib\\site-packages\\sklearn\\linear_model\\_logistic.py\", line 1461, in fit\n",
      "    solver = _check_solver(self.solver, self.penalty, self.dual)\n",
      "  File \"c:\\Users\\Patryk\\AppData\\Local\\Programs\\Python\\Python310\\lib\\site-packages\\sklearn\\linear_model\\_logistic.py\", line 447, in _check_solver\n",
      "    raise ValueError(\n",
      "ValueError: Solver lbfgs supports only 'l2' or 'none' penalties, got l1 penalty.\n",
      "\n",
      "  warnings.warn(some_fits_failed_message, FitFailedWarning)\n",
      "c:\\Users\\Patryk\\AppData\\Local\\Programs\\Python\\Python310\\lib\\site-packages\\sklearn\\model_selection\\_search.py:969: UserWarning: One or more of the test scores are non-finite: [       nan 0.50522648        nan 0.50522648        nan 0.50522648\n",
      "        nan 0.50522648        nan 0.50522648        nan 0.50522648\n",
      "        nan 0.50522648        nan 0.50522648        nan 0.50522648\n",
      "        nan 0.50522648        nan 0.50522648        nan 0.50522648\n",
      "        nan 0.50522648        nan 0.50522648        nan 0.50522648\n",
      "        nan 0.50522648        nan 0.50522648        nan 0.50522648\n",
      "        nan 0.50522648        nan 0.50522648]\n",
      "  warnings.warn(\n"
     ]
    },
    {
     "ename": "NameError",
     "evalue": "name 'save_results' is not defined",
     "output_type": "error",
     "traceback": [
      "\u001b[1;31m---------------------------------------------------------------------------\u001b[0m",
      "\u001b[1;31mNameError\u001b[0m                                 Traceback (most recent call last)",
      "\u001b[1;32mc:\\Users\\Patryk\\Desktop\\masters\\twitter\\models\\log_reg.ipynb Cell 7\u001b[0m in \u001b[0;36m<cell line: 6>\u001b[1;34m()\u001b[0m\n\u001b[0;32m      <a href='vscode-notebook-cell:/c%3A/Users/Patryk/Desktop/masters/twitter/models/log_reg.ipynb#ch0000006?line=2'>3</a>\u001b[0m \u001b[39mfor\u001b[39;00m lag \u001b[39min\u001b[39;00m [\u001b[39m3\u001b[39m]: \u001b[39m#6, 10, 16]:\u001b[39;00m\n\u001b[0;32m      <a href='vscode-notebook-cell:/c%3A/Users/Patryk/Desktop/masters/twitter/models/log_reg.ipynb#ch0000006?line=3'>4</a>\u001b[0m     cm[lag], acc[lag] \u001b[39m=\u001b[39m baseline_measure(lag)\n\u001b[1;32m----> <a href='vscode-notebook-cell:/c%3A/Users/Patryk/Desktop/masters/twitter/models/log_reg.ipynb#ch0000006?line=5'>6</a>\u001b[0m save_results(\u001b[39mf\u001b[39m\u001b[39m\"\u001b[39m\u001b[39mLR_base\u001b[39m\u001b[39m\"\u001b[39m, filename\u001b[39m=\u001b[39m\u001b[39m\"\u001b[39m\u001b[39m../results/log_reg/log_reg_more_cols_unweighted\u001b[39m\u001b[39m\"\u001b[39m)\n",
      "\u001b[1;31mNameError\u001b[0m: name 'save_results' is not defined"
     ]
    }
   ],
   "source": [
    "acc = {}\n",
    "cm = {}\n",
    "for lag in [3]: #6, 10, 16]:\n",
    "    cm[lag], acc[lag] = baseline_measure(lag)\n",
    "\n",
    "save_results(f\"LR_base\", filename=\"../results/log_reg/log_reg_more_cols_unweighted\")"
   ]
  },
  {
   "cell_type": "code",
   "execution_count": null,
   "metadata": {},
   "outputs": [],
   "source": [
    "acc = {}\n",
    "cm = {}\n",
    "for lag in [3]: #6, 10, 16]:\n",
    "    x, y = create_x_y(df, x_cols=OTHER_COLS, y_col=\"bin_2\", lag=lag)\n",
    "    cm[lag], acc[lag] = measure(x, y)\n",
    "\n",
    "save_results(f\"\", filename=\"../results/log_reg/log_reg_more_cols_unweighted\")"
   ]
  }
 ],
 "metadata": {
  "kernelspec": {
   "display_name": "Python 3.10.4 64-bit",
   "language": "python",
   "name": "python3"
  },
  "language_info": {
   "codemirror_mode": {
    "name": "ipython",
    "version": 3
   },
   "file_extension": ".py",
   "mimetype": "text/x-python",
   "name": "python",
   "nbconvert_exporter": "python",
   "pygments_lexer": "ipython3",
   "version": "3.10.4"
  },
  "orig_nbformat": 4,
  "vscode": {
   "interpreter": {
    "hash": "1dd0381d1fc2fb15dda0c9601b2866ce5a466e54b3f253773e8ed097d13694fa"
   }
  }
 },
 "nbformat": 4,
 "nbformat_minor": 2
}
