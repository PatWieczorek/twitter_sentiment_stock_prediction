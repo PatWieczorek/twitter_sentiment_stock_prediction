{
 "cells": [
  {
   "cell_type": "code",
   "execution_count": 12,
   "metadata": {},
   "outputs": [],
   "source": [
    "import pandas as pd\n",
    "import numpy as np\n",
    "from sklearn.metrics import accuracy_score, f1_score\n",
    "from sklearn.linear_model import LogisticRegression\n",
    "from sklearn.model_selection import TimeSeriesSplit, GridSearchCV\n",
    "\n",
    "from tools import create_x_y"
   ]
  },
  {
   "cell_type": "code",
   "execution_count": 2,
   "metadata": {},
   "outputs": [],
   "source": [
    "#names = [\"AMZN\", \"AAPL\", \"MSFT\", \"TSLA\", \"GOOG\", \"GOOGL\"]\n",
    "company = \"AMZN\"\n",
    "df = pd.read_csv(f'../datasets/v2.1/more_cols_binned/no_weight/{company}.csv', parse_dates=[\"post_date\"])"
   ]
  },
  {
   "cell_type": "code",
   "execution_count": 3,
   "metadata": {},
   "outputs": [
    {
     "data": {
      "text/plain": [
       "Index(['post_date', 'ticker', 'open', 'high', 'low', 'close', 'vol',\n",
       "       'comment_num_sum', 'comp_max', 'comp_mean', 'comp_median', 'comp_min',\n",
       "       'comp_std', 'like_num_sum', 'neg_max', 'neg_mean', 'neg_median',\n",
       "       'neg_min', 'neg_std', 'neu_max', 'neu_mean', 'neu_median', 'neu_min',\n",
       "       'neu_std', 'count', 'pos_max', 'pos_mean', 'pos_median', 'pos_min',\n",
       "       'pos_std', 'retweet_num_sum', 'relative_count', 'diffs', 'bin_2',\n",
       "       'bin_3'],\n",
       "      dtype='object')"
      ]
     },
     "execution_count": 3,
     "metadata": {},
     "output_type": "execute_result"
    }
   ],
   "source": [
    "df.columns"
   ]
  },
  {
   "cell_type": "code",
   "execution_count": 7,
   "metadata": {},
   "outputs": [],
   "source": [
    "VITAL_COLS = [\"post_date\", \"ticker\", \"close\", \"bin_2\", \"bin_3\", ]\n",
    "OTHER_COLS = [i for i in df.columns if i not in VITAL_COLS]\n"
   ]
  },
  {
   "cell_type": "code",
   "execution_count": 18,
   "metadata": {},
   "outputs": [],
   "source": [
    "def save_results(to_write, filename):\n",
    "    import json\n",
    "    with open(f\"{filename}.txt\", \"w\") as file:\n",
    "        file.write(json.dumps(to_write))"
   ]
  },
  {
   "cell_type": "code",
   "execution_count": 10,
   "metadata": {},
   "outputs": [],
   "source": [
    "def measure(x, y):\n",
    "    clf = LogisticRegression()\n",
    "\n",
    "    params = {\n",
    "        \"penalty\": [\"l1\", \"l2\"],\n",
    "        \"C\": np.logspace(-4, 4, 20),\n",
    "    }\n",
    "    time_split = TimeSeriesSplit(n_splits=5)\n",
    "\n",
    "    clf_search = GridSearchCV(\n",
    "        clf,\n",
    "        param_grid=params,\n",
    "        cv=time_split,\n",
    "        verbose=1,\n",
    "        n_jobs=-1,\n",
    "    )\n",
    "\n",
    "    split = int(0.8 * len(x))\n",
    "    clf_search.fit(x[:split], y[:split])\n",
    "    y_pred = clf_search.predict(x[split:])\n",
    "    f1 = f1_score(y[split:], y_pred)\n",
    "    acc = accuracy_score(y[split:], y_pred)\n",
    "\n",
    "    return f1, acc\n",
    "\n",
    "def baseline_measure(lag):\n",
    "    base_cols = [\"open\", \"high\", \"low\", \"close\", \"vol\"]\n",
    "    x, y = create_x_y(df, x_cols=base_cols, y_col=\"bin_2\", lag=lag)\n",
    "    return measure(x, y)\n"
   ]
  },
  {
   "cell_type": "code",
   "execution_count": null,
   "metadata": {},
   "outputs": [],
   "source": [
    "acc = {}\n",
    "cm = {}\n",
    "for lag in [3]: #6, 10, 16]:\n",
    "    cm[lag], acc[lag] = baseline_measure(lag)\n",
    "\n",
    "save_results(f\"LR_base\", filename=\"../results/log_reg/log_reg_more_cols_unweighted\")"
   ]
  },
  {
   "cell_type": "code",
   "execution_count": null,
   "metadata": {},
   "outputs": [],
   "source": [
    "acc = {}\n",
    "cm = {}\n",
    "for lag in [3]: #6, 10, 16]:\n",
    "    x, y = create_x_y(df, x_cols=OTHER_COLS, y_col=\"bin_2\", lag=lag)\n",
    "    cm[lag], acc[lag] = measure(x, y)\n",
    "\n",
    "save_results(f\"\", filename=\"../results/log_reg/log_reg_more_cols_unweighted\")"
   ]
  }
 ],
 "metadata": {
  "kernelspec": {
   "display_name": "Python 3.10.4 64-bit",
   "language": "python",
   "name": "python3"
  },
  "language_info": {
   "codemirror_mode": {
    "name": "ipython",
    "version": 3
   },
   "file_extension": ".py",
   "mimetype": "text/x-python",
   "name": "python",
   "nbconvert_exporter": "python",
   "pygments_lexer": "ipython3",
   "version": "3.10.4"
  },
  "orig_nbformat": 4,
  "vscode": {
   "interpreter": {
    "hash": "1dd0381d1fc2fb15dda0c9601b2866ce5a466e54b3f253773e8ed097d13694fa"
   }
  }
 },
 "nbformat": 4,
 "nbformat_minor": 2
}
