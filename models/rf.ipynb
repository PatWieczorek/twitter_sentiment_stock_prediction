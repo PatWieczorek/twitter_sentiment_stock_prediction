{
 "cells": [
  {
   "cell_type": "code",
   "execution_count": 3,
   "metadata": {},
   "outputs": [],
   "source": [
    "import pandas as pd\n",
    "import numpy as np\n",
    "from sklearn.metrics import f1_score, accuracy_score, roc_auc_score\n",
    "from sklearn.ensemble import RandomForestClassifier\n",
    "from sklearn.tree import DecisionTreeClassifier\n",
    "from sklearn.model_selection import TimeSeriesSplit, GridSearchCV\n",
    "from scipy.stats import uniform, randint\n",
    "\n",
    "import shap\n",
    "\n",
    "import json \n",
    "from tools import create_x_y"
   ]
  },
  {
   "cell_type": "code",
   "execution_count": 4,
   "metadata": {},
   "outputs": [],
   "source": [
    "def shap_features(model, train, test):\n",
    "    explainer = shap.TreeExplainer(model)\n",
    "    shap_values = explainer.shap_values(test)\n",
    "    shap.force_plot(explainer.expected_value[0], shap_values[0], test)\n",
    "    return"
   ]
  },
  {
   "cell_type": "code",
   "execution_count": 7,
   "metadata": {},
   "outputs": [],
   "source": [
    "def measure(x, y):\n",
    "\n",
    "    rf = RandomForestClassifier(random_state=42)\n",
    "\n",
    "    params = {\n",
    "        \"n_estimators\": [200, 500, 800],\n",
    "        \"max_depth\": [4, 6, 8],\n",
    "        \"criterion\": [\"gini\", \"entropy\"],\n",
    "    }\n",
    "\n",
    "    time_split = TimeSeriesSplit(n_splits=5)\n",
    "\n",
    "    clf_search = GridSearchCV(\n",
    "        rf,\n",
    "        param_grid=params,\n",
    "        cv=time_split,\n",
    "        verbose=1,\n",
    "        n_jobs=-1,\n",
    "    )\n",
    "\n",
    "    split = int(0.8 * len(x))\n",
    "    clf_search.fit(x[:split], y[:split])\n",
    "    y_pred = clf_search.predict(x[split:])\n",
    "    f1 = f1_score(y[split:], y_pred)\n",
    "    acc = accuracy_score(y[split:], y_pred)\n",
    "    roc = roc_auc_score(y[split:], y_pred)\n",
    "\n",
    "    shap_features(clf_search.best_estimator_, x[:split], x[split:])\n",
    "    # print(clf_search.best_estimator_.predict_proba)\n",
    "\n",
    "    return round(f1, 3), round(acc, 3), round(roc, 3)\n"
   ]
  },
  {
   "cell_type": "code",
   "execution_count": 8,
   "metadata": {},
   "outputs": [
    {
     "name": "stdout",
     "output_type": "stream",
     "text": [
      "['open', 'high', 'close', 'vol']\n",
      "Starting amzn, 1.\n",
      "Fitting 5 folds for each of 36 candidates, totalling 180 fits\n"
     ]
    }
   ],
   "source": [
    "# ===== TESTING =====\n",
    "\n",
    "full_names = {\n",
    "    \"amzn\": \"Amazon\",\n",
    "    #\"aapl\": \"Apple\",\n",
    "    #\"msft\": \"Microsoft\",\n",
    "    #\"tsla\": \"Tesla\",\n",
    "    #\"goog\": \"Google (GOOG)\",\n",
    "    #\"googl\": \"Google (GOOGL)\",\n",
    "}\n",
    "acc = {}\n",
    "roc = {}\n",
    "f1_metric = {}\n",
    "\n",
    "\n",
    "for company in full_names.keys():\n",
    "    df = pd.read_csv(f\"../datasets/v3/binned/{company}.csv\")\n",
    "    OTHER_COLS = [\"open\", \"high\", \"close\", \"vol\"]\n",
    "    print(OTHER_COLS)\n",
    "    acc[company] = {}\n",
    "    roc[company] = {}\n",
    "    f1_metric[company] = {}\n",
    "\n",
    "\n",
    "    for lag in [1]:#, 2, 3, 6, 8]:\n",
    "        x, y = create_x_y(df, x_cols=[\"open\", \"close\", \"vol\", \"high\"], y_col=\"bin_2\", lag=lag)\n",
    "        print(f\"Starting {company}, {lag}.\")\n",
    "        acc[company][lag], f1_metric[company][lag], roc[company][lag] = measure(\n",
    "            x, y\n",
    "        )\n",
    "        \n",
    "#with open(f\"../results/v3/ADA_base.txt\", \"w\") as file:\n",
    "#    to_write = \"Acc: \" + json.dumps(acc) + \" F1: \" + json.dumps(f1_metric) + \" ROC: \" + json.dumps(roc)\n",
    "#    file.write(json.dumps(to_write))"
   ]
  },
  {
   "cell_type": "code",
   "execution_count": null,
   "metadata": {},
   "outputs": [],
   "source": []
  },
  {
   "cell_type": "code",
   "execution_count": null,
   "metadata": {},
   "outputs": [],
   "source": [
    "# ===== BASELINE =====\n",
    "\n",
    "full_names = {\n",
    "    \"amzn\": \"Amazon\",\n",
    "    \"aapl\": \"Apple\",\n",
    "    \"msft\": \"Microsoft\",\n",
    "    \"tsla\": \"Tesla\",\n",
    "    \"goog\": \"Google (GOOG)\",\n",
    "    \"googl\": \"Google (GOOGL)\",\n",
    "}\n",
    "acc = {}\n",
    "roc = {}\n",
    "f1_metric = {}\n",
    "\n",
    "\n",
    "for company in full_names.keys():\n",
    "    df = pd.read_csv(f\"../datasets/v3/binned/{company}.csv\")\n",
    "    OTHER_COLS = [\"open\", \"high\", \"close\", \"vol\"]\n",
    "    print(OTHER_COLS)\n",
    "    acc[company] = {}\n",
    "    roc[company] = {}\n",
    "    f1_metric[company] = {}\n",
    "\n",
    "\n",
    "    for lag in [1, 2, 3, 6, 8]:\n",
    "        x, y = create_x_y(df, x_cols=[\"open\", \"close\", \"vol\", \"high\"], y_col=\"bin_2\", lag=lag)\n",
    "        print(f\"Starting {company}, {lag}.\")\n",
    "        acc[company][lag], f1_metric[company][lag], roc[company][lag] = measure(\n",
    "            x, y\n",
    "        )\n",
    "        \n",
    "with open(f\"../results/v3/ADA_base.txt\", \"w\") as file:\n",
    "    to_write = \"Acc: \" + json.dumps(acc) + \" F1: \" + json.dumps(f1_metric) + \" ROC: \" + json.dumps(roc)\n",
    "    file.write(json.dumps(to_write))"
   ]
  },
  {
   "cell_type": "code",
   "execution_count": null,
   "metadata": {},
   "outputs": [],
   "source": [
    "# ===== all =====\n",
    "\n",
    "full_names = {\n",
    "    \"amzn\": \"Amazon\",\n",
    "    \"aapl\": \"Apple\",\n",
    "    \"msft\": \"Microsoft\",\n",
    "    \"tsla\": \"Tesla\",\n",
    "    \"goog\": \"Google (GOOG)\",\n",
    "    \"googl\": \"Google (GOOGL)\",\n",
    "}\n",
    "weight = \"no_weight\"\n",
    "acc = {}\n",
    "roc = {}\n",
    "f1_metric = {}\n",
    "\n",
    "\n",
    "for company in full_names.keys():\n",
    "    df = pd.read_csv(f\"../datasets/v3/binned/{company}.csv\")\n",
    "    VITAL_COLS = [\"post_date\", \"ticker\", \"bin_2\", \"bin_3\"]\n",
    "    OTHER_COLS = [i for i in df.columns if i not in VITAL_COLS]\n",
    "    print(OTHER_COLS)\n",
    "    acc[company] = {}\n",
    "    roc[company] = {}\n",
    "    f1_metric[company] = {}\n",
    "\n",
    "\n",
    "    for lag in [1, 2, 3, 6, 8]:\n",
    "        x, y = create_x_y(df, x_cols=OTHER_COLS, y_col=\"bin_2\", lag=lag)\n",
    "        print(f\"Starting {company}, {lag}.\")\n",
    "        acc[company][lag], f1_metric[company][lag], roc[company][lag] = measure(\n",
    "            x, y\n",
    "        )\n",
    "        \n",
    "with open(f\"../results/v3/ADA_all.txt\", \"w\") as file:\n",
    "    to_write = \"Acc: \" + json.dumps(acc) + \" F1: \" + json.dumps(f1_metric) + \" ROC: \" + json.dumps(roc)\n",
    "    file.write(json.dumps(to_write))"
   ]
  }
 ],
 "metadata": {
  "kernelspec": {
   "display_name": "Python 3.10.0 64-bit",
   "language": "python",
   "name": "python3"
  },
  "language_info": {
   "codemirror_mode": {
    "name": "ipython",
    "version": 3
   },
   "file_extension": ".py",
   "mimetype": "text/x-python",
   "name": "python",
   "nbconvert_exporter": "python",
   "pygments_lexer": "ipython3",
   "version": "3.10.0"
  },
  "orig_nbformat": 4,
  "vscode": {
   "interpreter": {
    "hash": "1dd0381d1fc2fb15dda0c9601b2866ce5a466e54b3f253773e8ed097d13694fa"
   }
  }
 },
 "nbformat": 4,
 "nbformat_minor": 2
}
