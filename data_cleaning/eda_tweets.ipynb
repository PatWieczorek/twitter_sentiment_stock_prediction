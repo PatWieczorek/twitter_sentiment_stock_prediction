{
 "cells": [
  {
   "cell_type": "markdown",
   "metadata": {},
   "source": [
    "# Tweets - exploration "
   ]
  },
  {
   "cell_type": "code",
   "execution_count": 1,
   "metadata": {},
   "outputs": [],
   "source": [
    "import pandas as pd\n",
    "from datetime import datetime as dt\n",
    "from textblob import TextBlob\n",
    "from vaderSentiment.vaderSentiment import SentimentIntensityAnalyzer\n"
   ]
  },
  {
   "cell_type": "code",
   "execution_count": 2,
   "metadata": {},
   "outputs": [],
   "source": [
    "tweets = pd.read_csv(\"../datasets/tweets_sample.csv\")\n"
   ]
  },
  {
   "cell_type": "code",
   "execution_count": 3,
   "metadata": {},
   "outputs": [
    {
     "data": {
      "text/html": [
       "<div>\n",
       "<style scoped>\n",
       "    .dataframe tbody tr th:only-of-type {\n",
       "        vertical-align: middle;\n",
       "    }\n",
       "\n",
       "    .dataframe tbody tr th {\n",
       "        vertical-align: top;\n",
       "    }\n",
       "\n",
       "    .dataframe thead th {\n",
       "        text-align: right;\n",
       "    }\n",
       "</style>\n",
       "<table border=\"1\" class=\"dataframe\">\n",
       "  <thead>\n",
       "    <tr style=\"text-align: right;\">\n",
       "      <th></th>\n",
       "      <th>tweet_id</th>\n",
       "      <th>post_date</th>\n",
       "      <th>body</th>\n",
       "      <th>comment_num</th>\n",
       "      <th>retweet_num</th>\n",
       "      <th>like_num</th>\n",
       "      <th>ticker_symbol</th>\n",
       "    </tr>\n",
       "  </thead>\n",
       "  <tbody>\n",
       "    <tr>\n",
       "      <th>0</th>\n",
       "      <td>1092603909846253568</td>\n",
       "      <td>2019-02-05 03:00:46</td>\n",
       "      <td>$GOOGL #Google's capital expenditures doubled ...</td>\n",
       "      <td>0</td>\n",
       "      <td>0</td>\n",
       "      <td>1</td>\n",
       "      <td>AMZN</td>\n",
       "    </tr>\n",
       "    <tr>\n",
       "      <th>1</th>\n",
       "      <td>693434415314292738</td>\n",
       "      <td>2016-01-30 15:03:42</td>\n",
       "      <td>$TSLA is preparing for Panasonic to bail?, the...</td>\n",
       "      <td>0</td>\n",
       "      <td>0</td>\n",
       "      <td>1</td>\n",
       "      <td>TSLA</td>\n",
       "    </tr>\n",
       "    <tr>\n",
       "      <th>2</th>\n",
       "      <td>1113895524548136962</td>\n",
       "      <td>2019-04-04 22:06:02</td>\n",
       "      <td>Today's million dollar CALL #options trade:$AA...</td>\n",
       "      <td>0</td>\n",
       "      <td>1</td>\n",
       "      <td>0</td>\n",
       "      <td>TSLA</td>\n",
       "    </tr>\n",
       "    <tr>\n",
       "      <th>3</th>\n",
       "      <td>1014798540323909635</td>\n",
       "      <td>2018-07-05 11:10:00</td>\n",
       "      <td>The interesting item here is: “S/X annual prod...</td>\n",
       "      <td>2</td>\n",
       "      <td>0</td>\n",
       "      <td>10</td>\n",
       "      <td>TSLA</td>\n",
       "    </tr>\n",
       "    <tr>\n",
       "      <th>4</th>\n",
       "      <td>626160767276990464</td>\n",
       "      <td>2015-07-29 00:42:15</td>\n",
       "      <td>NFLX Netflix, Inc. Summaryhttp://dlvr.it/BgVpb...</td>\n",
       "      <td>0</td>\n",
       "      <td>0</td>\n",
       "      <td>0</td>\n",
       "      <td>GOOGL</td>\n",
       "    </tr>\n",
       "  </tbody>\n",
       "</table>\n",
       "</div>"
      ],
      "text/plain": [
       "              tweet_id            post_date  \\\n",
       "0  1092603909846253568  2019-02-05 03:00:46   \n",
       "1   693434415314292738  2016-01-30 15:03:42   \n",
       "2  1113895524548136962  2019-04-04 22:06:02   \n",
       "3  1014798540323909635  2018-07-05 11:10:00   \n",
       "4   626160767276990464  2015-07-29 00:42:15   \n",
       "\n",
       "                                                body  comment_num  \\\n",
       "0  $GOOGL #Google's capital expenditures doubled ...            0   \n",
       "1  $TSLA is preparing for Panasonic to bail?, the...            0   \n",
       "2  Today's million dollar CALL #options trade:$AA...            0   \n",
       "3  The interesting item here is: “S/X annual prod...            2   \n",
       "4  NFLX Netflix, Inc. Summaryhttp://dlvr.it/BgVpb...            0   \n",
       "\n",
       "   retweet_num  like_num ticker_symbol  \n",
       "0            0         1          AMZN  \n",
       "1            0         1          TSLA  \n",
       "2            1         0          TSLA  \n",
       "3            0        10          TSLA  \n",
       "4            0         0         GOOGL  "
      ]
     },
     "execution_count": 3,
     "metadata": {},
     "output_type": "execute_result"
    }
   ],
   "source": [
    "tweets.head()\n"
   ]
  },
  {
   "cell_type": "code",
   "execution_count": 28,
   "metadata": {},
   "outputs": [
    {
     "data": {
      "text/html": [
       "<div>\n",
       "<style scoped>\n",
       "    .dataframe tbody tr th:only-of-type {\n",
       "        vertical-align: middle;\n",
       "    }\n",
       "\n",
       "    .dataframe tbody tr th {\n",
       "        vertical-align: top;\n",
       "    }\n",
       "\n",
       "    .dataframe thead th {\n",
       "        text-align: right;\n",
       "    }\n",
       "</style>\n",
       "<table border=\"1\" class=\"dataframe\">\n",
       "  <thead>\n",
       "    <tr style=\"text-align: right;\">\n",
       "      <th></th>\n",
       "      <th>tweet_id</th>\n",
       "      <th>post_date</th>\n",
       "      <th>body</th>\n",
       "      <th>comment_num</th>\n",
       "      <th>retweet_num</th>\n",
       "      <th>like_num</th>\n",
       "      <th>ticker_symbol</th>\n",
       "    </tr>\n",
       "  </thead>\n",
       "  <tbody>\n",
       "    <tr>\n",
       "      <th>1</th>\n",
       "      <td>693434415314292738</td>\n",
       "      <td>2016-01-30 15:03:42</td>\n",
       "      <td>$TSLA is preparing for Panasonic to bail?, the...</td>\n",
       "      <td>0</td>\n",
       "      <td>0</td>\n",
       "      <td>1</td>\n",
       "      <td>TSLA</td>\n",
       "    </tr>\n",
       "    <tr>\n",
       "      <th>4</th>\n",
       "      <td>626160767276990464</td>\n",
       "      <td>2015-07-29 00:42:15</td>\n",
       "      <td>NFLX Netflix, Inc. Summaryhttp://dlvr.it/BgVpb...</td>\n",
       "      <td>0</td>\n",
       "      <td>0</td>\n",
       "      <td>0</td>\n",
       "      <td>GOOGL</td>\n",
       "    </tr>\n",
       "    <tr>\n",
       "      <th>6</th>\n",
       "      <td>558487963584462851</td>\n",
       "      <td>2015-01-23 05:54:41</td>\n",
       "      <td>@RiskReversal @karenfinerman That's true. I'm ...</td>\n",
       "      <td>0</td>\n",
       "      <td>0</td>\n",
       "      <td>0</td>\n",
       "      <td>GOOGL</td>\n",
       "    </tr>\n",
       "    <tr>\n",
       "      <th>15</th>\n",
       "      <td>620697212205465601</td>\n",
       "      <td>2015-07-13 22:52:02</td>\n",
       "      <td>XL sectors all UP with $XLK $XLY leading up &gt; ...</td>\n",
       "      <td>0</td>\n",
       "      <td>0</td>\n",
       "      <td>2</td>\n",
       "      <td>GOOGL</td>\n",
       "    </tr>\n",
       "    <tr>\n",
       "      <th>20</th>\n",
       "      <td>669876049795284993</td>\n",
       "      <td>2015-11-26 14:51:10</td>\n",
       "      <td>$GOOG - Facebook Inc. Just Helped Google Impro...</td>\n",
       "      <td>0</td>\n",
       "      <td>0</td>\n",
       "      <td>0</td>\n",
       "      <td>GOOG</td>\n",
       "    </tr>\n",
       "    <tr>\n",
       "      <th>...</th>\n",
       "      <td>...</td>\n",
       "      <td>...</td>\n",
       "      <td>...</td>\n",
       "      <td>...</td>\n",
       "      <td>...</td>\n",
       "      <td>...</td>\n",
       "      <td>...</td>\n",
       "    </tr>\n",
       "    <tr>\n",
       "      <th>99986</th>\n",
       "      <td>722119308663525378</td>\n",
       "      <td>2016-04-18 19:47:14</td>\n",
       "      <td>What are you waiting for? Join our FREE #DayTr...</td>\n",
       "      <td>0</td>\n",
       "      <td>2</td>\n",
       "      <td>0</td>\n",
       "      <td>AAPL</td>\n",
       "    </tr>\n",
       "    <tr>\n",
       "      <th>99987</th>\n",
       "      <td>581802395258068992</td>\n",
       "      <td>2015-03-28 13:57:55</td>\n",
       "      <td>$TSLA All analysts say speed bumps ahead. So y...</td>\n",
       "      <td>0</td>\n",
       "      <td>0</td>\n",
       "      <td>0</td>\n",
       "      <td>TSLA</td>\n",
       "    </tr>\n",
       "    <tr>\n",
       "      <th>99990</th>\n",
       "      <td>677650574574243840</td>\n",
       "      <td>2015-12-18 01:44:21</td>\n",
       "      <td>http://Amazon.com's buy rating reiterated at P...</td>\n",
       "      <td>0</td>\n",
       "      <td>1</td>\n",
       "      <td>1</td>\n",
       "      <td>AMZN</td>\n",
       "    </tr>\n",
       "    <tr>\n",
       "      <th>99994</th>\n",
       "      <td>595354226223624192</td>\n",
       "      <td>2015-05-05 00:28:03</td>\n",
       "      <td>@ASilvasDotCom have you ordered the $MSFT #Hol...</td>\n",
       "      <td>0</td>\n",
       "      <td>1</td>\n",
       "      <td>1</td>\n",
       "      <td>MSFT</td>\n",
       "    </tr>\n",
       "    <tr>\n",
       "      <th>99997</th>\n",
       "      <td>574981053812633600</td>\n",
       "      <td>2015-03-09 18:12:20</td>\n",
       "      <td>Unlimited GIRLS!! “Apple will be cable-free HB...</td>\n",
       "      <td>1</td>\n",
       "      <td>0</td>\n",
       "      <td>0</td>\n",
       "      <td>AAPL</td>\n",
       "    </tr>\n",
       "  </tbody>\n",
       "</table>\n",
       "<p>28665 rows × 7 columns</p>\n",
       "</div>"
      ],
      "text/plain": [
       "                 tweet_id            post_date  \\\n",
       "1      693434415314292738  2016-01-30 15:03:42   \n",
       "4      626160767276990464  2015-07-29 00:42:15   \n",
       "6      558487963584462851  2015-01-23 05:54:41   \n",
       "15     620697212205465601  2015-07-13 22:52:02   \n",
       "20     669876049795284993  2015-11-26 14:51:10   \n",
       "...                   ...                  ...   \n",
       "99986  722119308663525378  2016-04-18 19:47:14   \n",
       "99987  581802395258068992  2015-03-28 13:57:55   \n",
       "99990  677650574574243840  2015-12-18 01:44:21   \n",
       "99994  595354226223624192  2015-05-05 00:28:03   \n",
       "99997  574981053812633600  2015-03-09 18:12:20   \n",
       "\n",
       "                                                    body  comment_num  \\\n",
       "1      $TSLA is preparing for Panasonic to bail?, the...            0   \n",
       "4      NFLX Netflix, Inc. Summaryhttp://dlvr.it/BgVpb...            0   \n",
       "6      @RiskReversal @karenfinerman That's true. I'm ...            0   \n",
       "15     XL sectors all UP with $XLK $XLY leading up > ...            0   \n",
       "20     $GOOG - Facebook Inc. Just Helped Google Impro...            0   \n",
       "...                                                  ...          ...   \n",
       "99986  What are you waiting for? Join our FREE #DayTr...            0   \n",
       "99987  $TSLA All analysts say speed bumps ahead. So y...            0   \n",
       "99990  http://Amazon.com's buy rating reiterated at P...            0   \n",
       "99994  @ASilvasDotCom have you ordered the $MSFT #Hol...            0   \n",
       "99997  Unlimited GIRLS!! “Apple will be cable-free HB...            1   \n",
       "\n",
       "       retweet_num  like_num ticker_symbol  \n",
       "1                0         1          TSLA  \n",
       "4                0         0         GOOGL  \n",
       "6                0         0         GOOGL  \n",
       "15               0         2         GOOGL  \n",
       "20               0         0          GOOG  \n",
       "...            ...       ...           ...  \n",
       "99986            2         0          AAPL  \n",
       "99987            0         0          TSLA  \n",
       "99990            1         1          AMZN  \n",
       "99994            1         1          MSFT  \n",
       "99997            0         0          AAPL  \n",
       "\n",
       "[28665 rows x 7 columns]"
      ]
     },
     "execution_count": 28,
     "metadata": {},
     "output_type": "execute_result"
    }
   ],
   "source": [
    "tweets[tweets[\"post_date\"] < \"2016-06-09\"]\n"
   ]
  },
  {
   "cell_type": "code",
   "execution_count": 30,
   "metadata": {},
   "outputs": [
    {
     "name": "stdout",
     "output_type": "stream",
     "text": [
      "0.86522\n",
      "0.66612\n",
      "0.82678\n"
     ]
    }
   ],
   "source": [
    "print(len(tweets[tweets[\"comment_num\"] == 0]) / len(tweets))\n",
    "print(len(tweets[tweets[\"like_num\"] == 0]) / len(tweets))\n",
    "print(len(tweets[tweets[\"retweet_num\"] == 0]) / len(tweets))\n"
   ]
  },
  {
   "cell_type": "code",
   "execution_count": 29,
   "metadata": {},
   "outputs": [],
   "source": [
    "tweets_text = tweets[\"body\"].str.findall(r\"[\\w#!,.]+\")\n"
   ]
  },
  {
   "cell_type": "code",
   "execution_count": 30,
   "metadata": {},
   "outputs": [
    {
     "data": {
      "text/plain": [
       "72101      [Paul, Meeks, is, worried, about, Apple., AAPL]\n",
       "69674    [#Apple, AAPL, s, Other, Court, Fight., Read, ...\n",
       "21578    [CityFALCON, score, gives, top, rated, news, f...\n",
       "47277        [Live, shot, of, the, TSLA, production, line]\n",
       "24793    [For, one, example,, Buffett, sold, his, Home,...\n",
       "68213    [Outstanding, market, timing, for, Tesla, to, ...\n",
       "60554    [Commented, on, When, Alphabet, Pleases, The, ...\n",
       "50589    [#Stock, watchlist, for, tomorrow, IMUC, KBSF,...\n",
       "80687    [Business, In, boost, to, self, driving, cars,...\n",
       "43123    [RT, https, twitter.com, moneymorning, status,...\n",
       "Name: body, dtype: object"
      ]
     },
     "execution_count": 30,
     "metadata": {},
     "output_type": "execute_result"
    }
   ],
   "source": [
    "tweets_text.sample(10)"
   ]
  },
  {
   "cell_type": "code",
   "execution_count": 31,
   "metadata": {},
   "outputs": [
    {
     "data": {
      "text/plain": [
       "{'neg': 0.083, 'neu': 0.917, 'pos': 0.0, 'compound': -0.4023}"
      ]
     },
     "execution_count": 31,
     "metadata": {},
     "output_type": "execute_result"
    }
   ],
   "source": [
    "analyzer = SentimentIntensityAnalyzer()\n",
    "vader_score = tweets.loc[:10, \"body\"].apply(analyzer.polarity_scores)\n",
    "vader_score[7]\n"
   ]
  },
  {
   "cell_type": "code",
   "execution_count": 32,
   "metadata": {},
   "outputs": [
    {
     "data": {
      "text/plain": [
       "'These NBA Playoffs are just not fun to watch without Lebron.  Turns out everyone else thinks so too.  Ratings down... #NBAPlayoffs2019 #NBA #basketball #LeBronJames $SPY $QQQ $NFLX $FB $AMZN $TLRY $CGC'"
      ]
     },
     "execution_count": 32,
     "metadata": {},
     "output_type": "execute_result"
    }
   ],
   "source": [
    "tweets[\"body\"][7]\n"
   ]
  },
  {
   "cell_type": "code",
   "execution_count": 7,
   "metadata": {},
   "outputs": [
    {
     "data": {
      "text/plain": [
       "0        325\n",
       "1         83\n",
       "2        151\n",
       "3        138\n",
       "4         96\n",
       "        ... \n",
       "99995    139\n",
       "99996     84\n",
       "99997    115\n",
       "99998    123\n",
       "99999    115\n",
       "Name: body, Length: 100000, dtype: int64"
      ]
     },
     "execution_count": 7,
     "metadata": {},
     "output_type": "execute_result"
    }
   ],
   "source": [
    "def averager(column):\n",
    "    column = column.apply(len)\n",
    "    return column.mean()\n",
    "\n",
    "\n",
    "tweet_len = tweets[\"body\"].str.len()\n",
    "tweet_len\n"
   ]
  },
  {
   "cell_type": "code",
   "execution_count": 35,
   "metadata": {},
   "outputs": [],
   "source": [
    "tweets_main = pd.read_csv(\"../datasets/Tweet.csv\")\n",
    "\n",
    "non0_comms = tweets_main.loc[tweets_main[\"comment_num\"] > 0, \"comment_num\"]\n",
    "non0_likes = tweets_main.loc[tweets_main[\"like_num\"] > 0, \"like_num\"]\n",
    "non0_rtwts = tweets_main.loc[tweets_main[\"retweet_num\"] > 0, \"retweet_num\"]\n"
   ]
  },
  {
   "cell_type": "code",
   "execution_count": 44,
   "metadata": {},
   "outputs": [
    {
     "data": {
      "text/plain": [
       "count    620628.000000\n",
       "mean          3.723072\n",
       "std          16.816598\n",
       "min           1.000000\n",
       "25%           1.000000\n",
       "50%           1.000000\n",
       "75%           3.000000\n",
       "max         999.000000\n",
       "Name: retweet_num, dtype: float64"
      ]
     },
     "execution_count": 44,
     "metadata": {},
     "output_type": "execute_result"
    }
   ],
   "source": [
    "non0_rtwts.describe()\n"
   ]
  },
  {
   "cell_type": "code",
   "execution_count": 7,
   "metadata": {},
   "outputs": [
    {
     "data": {
      "text/plain": [
       "4.472222222222222"
      ]
     },
     "execution_count": 7,
     "metadata": {},
     "output_type": "execute_result"
    }
   ],
   "source": [
    "1/36*1 + 3/36*2 + 5/36*3 + 7/36*4 + 9/36*5 + 11/36*6"
   ]
  }
 ],
 "metadata": {
  "kernelspec": {
   "display_name": "Python 3.10.4 64-bit",
   "language": "python",
   "name": "python3"
  },
  "language_info": {
   "codemirror_mode": {
    "name": "ipython",
    "version": 3
   },
   "file_extension": ".py",
   "mimetype": "text/x-python",
   "name": "python",
   "nbconvert_exporter": "python",
   "pygments_lexer": "ipython3",
   "version": "3.10.4"
  },
  "orig_nbformat": 4,
  "vscode": {
   "interpreter": {
    "hash": "1dd0381d1fc2fb15dda0c9601b2866ce5a466e54b3f253773e8ed097d13694fa"
   }
  }
 },
 "nbformat": 4,
 "nbformat_minor": 2
}
