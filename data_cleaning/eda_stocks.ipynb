{
 "cells": [
  {
   "cell_type": "code",
   "execution_count": 271,
   "metadata": {},
   "outputs": [],
   "source": [
    "import pandas as pd\n",
    "import seaborn as sns\n",
    "import matplotlib.pyplot as plt"
   ]
  },
  {
   "cell_type": "code",
   "execution_count": 272,
   "metadata": {},
   "outputs": [],
   "source": [
    "# COMPANIES = [\"amzn\", \"aapl\", \"tsla\", \"msft\", \"goog\", \"googl\"]\n",
    "# df = pd.DataFrame()\n",
    "# for i in COMPANIES:\n",
    "#     comp = pd.read_csv(f\"../datasets/stocks_clean/{i}.csv\")\n",
    "#     df = pd.concat([df, comp])\n",
    "\n",
    "# df.head()"
   ]
  },
  {
   "cell_type": "code",
   "execution_count": 295,
   "metadata": {},
   "outputs": [
    {
     "data": {
      "text/html": [
       "<div>\n",
       "<style scoped>\n",
       "    .dataframe tbody tr th:only-of-type {\n",
       "        vertical-align: middle;\n",
       "    }\n",
       "\n",
       "    .dataframe tbody tr th {\n",
       "        vertical-align: top;\n",
       "    }\n",
       "\n",
       "    .dataframe thead th {\n",
       "        text-align: right;\n",
       "    }\n",
       "</style>\n",
       "<table border=\"1\" class=\"dataframe\">\n",
       "  <thead>\n",
       "    <tr style=\"text-align: right;\">\n",
       "      <th></th>\n",
       "      <th>&lt;TICKER&gt;</th>\n",
       "      <th>&lt;PER&gt;</th>\n",
       "      <th>&lt;DATE&gt;</th>\n",
       "      <th>&lt;TIME&gt;</th>\n",
       "      <th>&lt;OPEN&gt;</th>\n",
       "      <th>&lt;HIGH&gt;</th>\n",
       "      <th>&lt;LOW&gt;</th>\n",
       "      <th>&lt;CLOSE&gt;</th>\n",
       "      <th>&lt;VOL&gt;</th>\n",
       "    </tr>\n",
       "  </thead>\n",
       "  <tbody>\n",
       "    <tr>\n",
       "      <th>2970</th>\n",
       "      <td>US1.MSFT</td>\n",
       "      <td>60</td>\n",
       "      <td>20160908</td>\n",
       "      <td>210000</td>\n",
       "      <td>57.3300</td>\n",
       "      <td>57.38</td>\n",
       "      <td>57.18</td>\n",
       "      <td>57.315</td>\n",
       "      <td>1802150</td>\n",
       "    </tr>\n",
       "    <tr>\n",
       "      <th>10379</th>\n",
       "      <td>US1.GOOG</td>\n",
       "      <td>60</td>\n",
       "      <td>20201125</td>\n",
       "      <td>0</td>\n",
       "      <td>1764.1000</td>\n",
       "      <td>1771.00</td>\n",
       "      <td>1763.63</td>\n",
       "      <td>1769.010</td>\n",
       "      <td>15068</td>\n",
       "    </tr>\n",
       "    <tr>\n",
       "      <th>866</th>\n",
       "      <td>US1.GOOG</td>\n",
       "      <td>60</td>\n",
       "      <td>20150630</td>\n",
       "      <td>220000</td>\n",
       "      <td>524.7200</td>\n",
       "      <td>525.85</td>\n",
       "      <td>522.72</td>\n",
       "      <td>522.720</td>\n",
       "      <td>169027</td>\n",
       "    </tr>\n",
       "    <tr>\n",
       "      <th>7844</th>\n",
       "      <td>US1.AAPL</td>\n",
       "      <td>60</td>\n",
       "      <td>20190617</td>\n",
       "      <td>210000</td>\n",
       "      <td>194.2101</td>\n",
       "      <td>194.64</td>\n",
       "      <td>194.14</td>\n",
       "      <td>194.595</td>\n",
       "      <td>877759</td>\n",
       "    </tr>\n",
       "    <tr>\n",
       "      <th>10540</th>\n",
       "      <td>US1.GOOG</td>\n",
       "      <td>60</td>\n",
       "      <td>20201230</td>\n",
       "      <td>230000</td>\n",
       "      <td>1732.5000</td>\n",
       "      <td>1737.14</td>\n",
       "      <td>1729.65</td>\n",
       "      <td>1737.140</td>\n",
       "      <td>2992</td>\n",
       "    </tr>\n",
       "  </tbody>\n",
       "</table>\n",
       "</div>"
      ],
      "text/plain": [
       "       <TICKER>  <PER>    <DATE>  <TIME>     <OPEN>   <HIGH>    <LOW>  \\\n",
       "2970   US1.MSFT     60  20160908  210000    57.3300    57.38    57.18   \n",
       "10379  US1.GOOG     60  20201125       0  1764.1000  1771.00  1763.63   \n",
       "866    US1.GOOG     60  20150630  220000   524.7200   525.85   522.72   \n",
       "7844   US1.AAPL     60  20190617  210000   194.2101   194.64   194.14   \n",
       "10540  US1.GOOG     60  20201230  230000  1732.5000  1737.14  1729.65   \n",
       "\n",
       "        <CLOSE>    <VOL>  \n",
       "2970     57.315  1802150  \n",
       "10379  1769.010    15068  \n",
       "866     522.720   169027  \n",
       "7844    194.595   877759  \n",
       "10540  1737.140     2992  "
      ]
     },
     "execution_count": 295,
     "metadata": {},
     "output_type": "execute_result"
    }
   ],
   "source": [
    "COMPANIES = [\"amazon\", \"apple\", \"tesla\", \"microsoft\", \"goog\", \"googl\"]\n",
    "df = pd.DataFrame()\n",
    "for i in COMPANIES:\n",
    "    comp = pd.read_csv(f\"../datasets/stocks/{i}_stocks.csv\")\n",
    "    df = pd.concat([df, comp])\n",
    "\n",
    "df.head()\n",
    "\n",
    "df.sample(5)"
   ]
  },
  {
   "cell_type": "code",
   "execution_count": 274,
   "metadata": {},
   "outputs": [
    {
     "data": {
      "text/plain": [
       "Index(['ticker', 'per', 'date', 'time', 'open', 'high', 'low', 'close', 'vol'], dtype='object')"
      ]
     },
     "execution_count": 274,
     "metadata": {},
     "output_type": "execute_result"
    }
   ],
   "source": [
    "df.columns = [i.lower().replace(\"<\", \"\").replace(\">\", \"\") for i in df.columns]\n",
    "df.columns"
   ]
  },
  {
   "cell_type": "code",
   "execution_count": 275,
   "metadata": {},
   "outputs": [],
   "source": [
    "df.ticker = df.ticker.str.split(\".\").str.get(1)"
   ]
  },
  {
   "cell_type": "code",
   "execution_count": 276,
   "metadata": {},
   "outputs": [
    {
     "name": "stdout",
     "output_type": "stream",
     "text": [
      "<class 'pandas.core.frame.DataFrame'>\n",
      "Int64Index: 63373 entries, 0 to 10558\n",
      "Data columns (total 9 columns):\n",
      " #   Column  Non-Null Count  Dtype  \n",
      "---  ------  --------------  -----  \n",
      " 0   ticker  63373 non-null  object \n",
      " 1   per     63373 non-null  int64  \n",
      " 2   date    63373 non-null  int64  \n",
      " 3   time    63373 non-null  int64  \n",
      " 4   open    63373 non-null  float64\n",
      " 5   high    63373 non-null  float64\n",
      " 6   low     63373 non-null  float64\n",
      " 7   close   63373 non-null  float64\n",
      " 8   vol     63373 non-null  int64  \n",
      "dtypes: float64(4), int64(4), object(1)\n",
      "memory usage: 4.8+ MB\n"
     ]
    }
   ],
   "source": [
    "# check NULLS\n",
    "\n",
    "df.info()"
   ]
  },
  {
   "cell_type": "code",
   "execution_count": 277,
   "metadata": {},
   "outputs": [],
   "source": [
    "def cor_map():\n",
    "    pass"
   ]
  },
  {
   "cell_type": "code",
   "execution_count": 278,
   "metadata": {},
   "outputs": [],
   "source": [
    "amzn = df[df[\"ticker\"] == \"AMZN\"].copy()\n",
    "tsla = df[df[\"ticker\"] == \"TSLA\"].copy()\n",
    "goog = df[df[\"ticker\"] == \"GOOG\"].copy()\n",
    "googl = df[df[\"ticker\"] == \"GOOGL\"].copy()\n",
    "aapl = df[df[\"ticker\"] == \"AAPL\"].copy()\n",
    "msft = df[df[\"ticker\"] == \"MSFT\"].copy()"
   ]
  },
  {
   "cell_type": "code",
   "execution_count": 279,
   "metadata": {},
   "outputs": [],
   "source": [
    "def scatter(company):\n",
    "    sns.scatterplot(x=[i for i in range(len(company))], y=company.close, s=2)\n",
    "\n",
    "def line(company):\n",
    "    sns.lineplot(x=[i for i in range(len(company))], y=company.close)"
   ]
  },
  {
   "cell_type": "markdown",
   "metadata": {},
   "source": [
    "# Amazon"
   ]
  },
  {
   "cell_type": "code",
   "execution_count": 280,
   "metadata": {},
   "outputs": [
    {
     "data": {
      "image/png": "[encoded data removed]",
      "text/plain": [
       "<Figure size 432x288 with 1 Axes>"
      ]
     },
     "metadata": {
      "needs_background": "light"
     },
     "output_type": "display_data"
    }
   ],
   "source": [
    "scatter(amzn)\n",
    "plt.show()"
   ]
  },
  {
   "cell_type": "code",
   "execution_count": 281,
   "metadata": {},
   "outputs": [
    {
     "data": {
      "text/html": [
       "<div>\n",
       "<style scoped>\n",
       "    .dataframe tbody tr th:only-of-type {\n",
       "        vertical-align: middle;\n",
       "    }\n",
       "\n",
       "    .dataframe tbody tr th {\n",
       "        vertical-align: top;\n",
       "    }\n",
       "\n",
       "    .dataframe thead th {\n",
       "        text-align: right;\n",
       "    }\n",
       "</style>\n",
       "<table border=\"1\" class=\"dataframe\">\n",
       "  <thead>\n",
       "    <tr style=\"text-align: right;\">\n",
       "      <th></th>\n",
       "      <th>per</th>\n",
       "      <th>date</th>\n",
       "      <th>time</th>\n",
       "      <th>open</th>\n",
       "      <th>high</th>\n",
       "      <th>low</th>\n",
       "      <th>close</th>\n",
       "      <th>vol</th>\n",
       "    </tr>\n",
       "  </thead>\n",
       "  <tbody>\n",
       "    <tr>\n",
       "      <th>per</th>\n",
       "      <td>NaN</td>\n",
       "      <td>NaN</td>\n",
       "      <td>NaN</td>\n",
       "      <td>NaN</td>\n",
       "      <td>NaN</td>\n",
       "      <td>NaN</td>\n",
       "      <td>NaN</td>\n",
       "      <td>NaN</td>\n",
       "    </tr>\n",
       "    <tr>\n",
       "      <th>date</th>\n",
       "      <td>NaN</td>\n",
       "      <td>1.000000</td>\n",
       "      <td>-0.001281</td>\n",
       "      <td>0.926225</td>\n",
       "      <td>0.926215</td>\n",
       "      <td>0.926405</td>\n",
       "      <td>0.926371</td>\n",
       "      <td>-0.378273</td>\n",
       "    </tr>\n",
       "    <tr>\n",
       "      <th>time</th>\n",
       "      <td>NaN</td>\n",
       "      <td>-0.001281</td>\n",
       "      <td>1.000000</td>\n",
       "      <td>0.014442</td>\n",
       "      <td>0.014102</td>\n",
       "      <td>0.014974</td>\n",
       "      <td>0.014444</td>\n",
       "      <td>-0.167797</td>\n",
       "    </tr>\n",
       "    <tr>\n",
       "      <th>open</th>\n",
       "      <td>NaN</td>\n",
       "      <td>0.926225</td>\n",
       "      <td>0.014442</td>\n",
       "      <td>1.000000</td>\n",
       "      <td>0.999965</td>\n",
       "      <td>0.999950</td>\n",
       "      <td>0.999929</td>\n",
       "      <td>-0.397135</td>\n",
       "    </tr>\n",
       "    <tr>\n",
       "      <th>high</th>\n",
       "      <td>NaN</td>\n",
       "      <td>0.926215</td>\n",
       "      <td>0.014102</td>\n",
       "      <td>0.999965</td>\n",
       "      <td>1.000000</td>\n",
       "      <td>0.999930</td>\n",
       "      <td>0.999962</td>\n",
       "      <td>-0.395622</td>\n",
       "    </tr>\n",
       "    <tr>\n",
       "      <th>low</th>\n",
       "      <td>NaN</td>\n",
       "      <td>0.926405</td>\n",
       "      <td>0.014974</td>\n",
       "      <td>0.999950</td>\n",
       "      <td>0.999930</td>\n",
       "      <td>1.000000</td>\n",
       "      <td>0.999963</td>\n",
       "      <td>-0.399357</td>\n",
       "    </tr>\n",
       "    <tr>\n",
       "      <th>close</th>\n",
       "      <td>NaN</td>\n",
       "      <td>0.926371</td>\n",
       "      <td>0.014444</td>\n",
       "      <td>0.999929</td>\n",
       "      <td>0.999962</td>\n",
       "      <td>0.999963</td>\n",
       "      <td>1.000000</td>\n",
       "      <td>-0.397423</td>\n",
       "    </tr>\n",
       "    <tr>\n",
       "      <th>vol</th>\n",
       "      <td>NaN</td>\n",
       "      <td>-0.378273</td>\n",
       "      <td>-0.167797</td>\n",
       "      <td>-0.397135</td>\n",
       "      <td>-0.395622</td>\n",
       "      <td>-0.399357</td>\n",
       "      <td>-0.397423</td>\n",
       "      <td>1.000000</td>\n",
       "    </tr>\n",
       "  </tbody>\n",
       "</table>\n",
       "</div>"
      ],
      "text/plain": [
       "       per      date      time      open      high       low     close  \\\n",
       "per    NaN       NaN       NaN       NaN       NaN       NaN       NaN   \n",
       "date   NaN  1.000000 -0.001281  0.926225  0.926215  0.926405  0.926371   \n",
       "time   NaN -0.001281  1.000000  0.014442  0.014102  0.014974  0.014444   \n",
       "open   NaN  0.926225  0.014442  1.000000  0.999965  0.999950  0.999929   \n",
       "high   NaN  0.926215  0.014102  0.999965  1.000000  0.999930  0.999962   \n",
       "low    NaN  0.926405  0.014974  0.999950  0.999930  1.000000  0.999963   \n",
       "close  NaN  0.926371  0.014444  0.999929  0.999962  0.999963  1.000000   \n",
       "vol    NaN -0.378273 -0.167797 -0.397135 -0.395622 -0.399357 -0.397423   \n",
       "\n",
       "            vol  \n",
       "per         NaN  \n",
       "date  -0.378273  \n",
       "time  -0.167797  \n",
       "open  -0.397135  \n",
       "high  -0.395622  \n",
       "low   -0.399357  \n",
       "close -0.397423  \n",
       "vol    1.000000  "
      ]
     },
     "execution_count": 281,
     "metadata": {},
     "output_type": "execute_result"
    }
   ],
   "source": [
    "amzn.corr()"
   ]
  },
  {
   "cell_type": "code",
   "execution_count": 282,
   "metadata": {},
   "outputs": [
    {
     "data": {
      "text/plain": [
       "<AxesSubplot:xlabel='close', ylabel='vol'>"
      ]
     },
     "execution_count": 282,
     "metadata": {},
     "output_type": "execute_result"
    },
    {
     "data": {
      "image/png": "[encoded data removed]",
      "text/plain": [
       "<Figure size 432x288 with 1 Axes>"
      ]
     },
     "metadata": {
      "needs_background": "light"
     },
     "output_type": "display_data"
    }
   ],
   "source": [
    "sns.scatterplot(x=\"close\", y=\"vol\", data=amzn, s=2)"
   ]
  },
  {
   "cell_type": "markdown",
   "metadata": {},
   "source": [
    "# Tesla\n"
   ]
  },
  {
   "cell_type": "code",
   "execution_count": 283,
   "metadata": {},
   "outputs": [
    {
     "data": {
      "image/png": "[encoded data removed]",
      "text/plain": [
       "<Figure size 432x288 with 1 Axes>"
      ]
     },
     "metadata": {
      "needs_background": "light"
     },
     "output_type": "display_data"
    }
   ],
   "source": [
    "scatter(tsla)\n",
    "plt.title(\"Tesla\")\n",
    "plt.show()"
   ]
  },
  {
   "cell_type": "code",
   "execution_count": 284,
   "metadata": {},
   "outputs": [
    {
     "data": {
      "text/html": [
       "<div>\n",
       "<style scoped>\n",
       "    .dataframe tbody tr th:only-of-type {\n",
       "        vertical-align: middle;\n",
       "    }\n",
       "\n",
       "    .dataframe tbody tr th {\n",
       "        vertical-align: top;\n",
       "    }\n",
       "\n",
       "    .dataframe thead th {\n",
       "        text-align: right;\n",
       "    }\n",
       "</style>\n",
       "<table border=\"1\" class=\"dataframe\">\n",
       "  <thead>\n",
       "    <tr style=\"text-align: right;\">\n",
       "      <th></th>\n",
       "      <th>ticker</th>\n",
       "      <th>per</th>\n",
       "      <th>date</th>\n",
       "      <th>time</th>\n",
       "      <th>open</th>\n",
       "      <th>high</th>\n",
       "      <th>low</th>\n",
       "      <th>close</th>\n",
       "      <th>vol</th>\n",
       "    </tr>\n",
       "  </thead>\n",
       "  <tbody>\n",
       "    <tr>\n",
       "      <th>9955</th>\n",
       "      <td>TSLA</td>\n",
       "      <td>60</td>\n",
       "      <td>20200827</td>\n",
       "      <td>200000</td>\n",
       "      <td>2274.430</td>\n",
       "      <td>2295.310</td>\n",
       "      <td>2145.34</td>\n",
       "      <td>2192.36</td>\n",
       "      <td>98970</td>\n",
       "    </tr>\n",
       "    <tr>\n",
       "      <th>9956</th>\n",
       "      <td>TSLA</td>\n",
       "      <td>60</td>\n",
       "      <td>20200827</td>\n",
       "      <td>210000</td>\n",
       "      <td>2192.760</td>\n",
       "      <td>2237.145</td>\n",
       "      <td>2172.50</td>\n",
       "      <td>2232.79</td>\n",
       "      <td>51491</td>\n",
       "    </tr>\n",
       "    <tr>\n",
       "      <th>9957</th>\n",
       "      <td>TSLA</td>\n",
       "      <td>60</td>\n",
       "      <td>20200827</td>\n",
       "      <td>220000</td>\n",
       "      <td>2231.830</td>\n",
       "      <td>2247.000</td>\n",
       "      <td>2219.07</td>\n",
       "      <td>2231.41</td>\n",
       "      <td>36819</td>\n",
       "    </tr>\n",
       "    <tr>\n",
       "      <th>9958</th>\n",
       "      <td>TSLA</td>\n",
       "      <td>60</td>\n",
       "      <td>20200827</td>\n",
       "      <td>230000</td>\n",
       "      <td>2232.150</td>\n",
       "      <td>2252.210</td>\n",
       "      <td>2214.55</td>\n",
       "      <td>2239.76</td>\n",
       "      <td>52352</td>\n",
       "    </tr>\n",
       "    <tr>\n",
       "      <th>9959</th>\n",
       "      <td>TSLA</td>\n",
       "      <td>60</td>\n",
       "      <td>20200828</td>\n",
       "      <td>170000</td>\n",
       "      <td>2295.120</td>\n",
       "      <td>2318.000</td>\n",
       "      <td>2268.76</td>\n",
       "      <td>2303.58</td>\n",
       "      <td>45697</td>\n",
       "    </tr>\n",
       "    <tr>\n",
       "      <th>9960</th>\n",
       "      <td>TSLA</td>\n",
       "      <td>60</td>\n",
       "      <td>20200828</td>\n",
       "      <td>180000</td>\n",
       "      <td>2308.190</td>\n",
       "      <td>2308.190</td>\n",
       "      <td>2256.10</td>\n",
       "      <td>2264.00</td>\n",
       "      <td>38253</td>\n",
       "    </tr>\n",
       "    <tr>\n",
       "      <th>9961</th>\n",
       "      <td>TSLA</td>\n",
       "      <td>60</td>\n",
       "      <td>20200828</td>\n",
       "      <td>190000</td>\n",
       "      <td>2265.480</td>\n",
       "      <td>2288.490</td>\n",
       "      <td>2264.08</td>\n",
       "      <td>2281.35</td>\n",
       "      <td>30209</td>\n",
       "    </tr>\n",
       "    <tr>\n",
       "      <th>9962</th>\n",
       "      <td>TSLA</td>\n",
       "      <td>60</td>\n",
       "      <td>20200828</td>\n",
       "      <td>200000</td>\n",
       "      <td>2280.180</td>\n",
       "      <td>2283.370</td>\n",
       "      <td>2219.00</td>\n",
       "      <td>2249.50</td>\n",
       "      <td>42455</td>\n",
       "    </tr>\n",
       "    <tr>\n",
       "      <th>9963</th>\n",
       "      <td>TSLA</td>\n",
       "      <td>60</td>\n",
       "      <td>20200828</td>\n",
       "      <td>210000</td>\n",
       "      <td>2249.410</td>\n",
       "      <td>2249.690</td>\n",
       "      <td>2189.73</td>\n",
       "      <td>2238.00</td>\n",
       "      <td>51857</td>\n",
       "    </tr>\n",
       "    <tr>\n",
       "      <th>9964</th>\n",
       "      <td>TSLA</td>\n",
       "      <td>60</td>\n",
       "      <td>20200828</td>\n",
       "      <td>220000</td>\n",
       "      <td>2239.100</td>\n",
       "      <td>2244.900</td>\n",
       "      <td>2207.57</td>\n",
       "      <td>2211.66</td>\n",
       "      <td>42133</td>\n",
       "    </tr>\n",
       "    <tr>\n",
       "      <th>9965</th>\n",
       "      <td>TSLA</td>\n",
       "      <td>60</td>\n",
       "      <td>20200828</td>\n",
       "      <td>230000</td>\n",
       "      <td>2211.250</td>\n",
       "      <td>2233.340</td>\n",
       "      <td>2187.13</td>\n",
       "      <td>2214.51</td>\n",
       "      <td>75084</td>\n",
       "    </tr>\n",
       "    <tr>\n",
       "      <th>9966</th>\n",
       "      <td>TSLA</td>\n",
       "      <td>60</td>\n",
       "      <td>20200831</td>\n",
       "      <td>170000</td>\n",
       "      <td>444.975</td>\n",
       "      <td>461.000</td>\n",
       "      <td>440.22</td>\n",
       "      <td>455.60</td>\n",
       "      <td>267604</td>\n",
       "    </tr>\n",
       "    <tr>\n",
       "      <th>9967</th>\n",
       "      <td>TSLA</td>\n",
       "      <td>60</td>\n",
       "      <td>20200831</td>\n",
       "      <td>180000</td>\n",
       "      <td>455.160</td>\n",
       "      <td>475.050</td>\n",
       "      <td>452.34</td>\n",
       "      <td>473.32</td>\n",
       "      <td>532927</td>\n",
       "    </tr>\n",
       "    <tr>\n",
       "      <th>9968</th>\n",
       "      <td>TSLA</td>\n",
       "      <td>60</td>\n",
       "      <td>20200831</td>\n",
       "      <td>190000</td>\n",
       "      <td>473.290</td>\n",
       "      <td>496.850</td>\n",
       "      <td>473.29</td>\n",
       "      <td>479.40</td>\n",
       "      <td>506486</td>\n",
       "    </tr>\n",
       "    <tr>\n",
       "      <th>9969</th>\n",
       "      <td>TSLA</td>\n",
       "      <td>60</td>\n",
       "      <td>20200831</td>\n",
       "      <td>200000</td>\n",
       "      <td>480.310</td>\n",
       "      <td>484.500</td>\n",
       "      <td>470.72</td>\n",
       "      <td>480.50</td>\n",
       "      <td>252543</td>\n",
       "    </tr>\n",
       "    <tr>\n",
       "      <th>9970</th>\n",
       "      <td>TSLA</td>\n",
       "      <td>60</td>\n",
       "      <td>20200831</td>\n",
       "      <td>210000</td>\n",
       "      <td>480.290</td>\n",
       "      <td>489.400</td>\n",
       "      <td>477.11</td>\n",
       "      <td>488.60</td>\n",
       "      <td>280590</td>\n",
       "    </tr>\n",
       "    <tr>\n",
       "      <th>9971</th>\n",
       "      <td>TSLA</td>\n",
       "      <td>60</td>\n",
       "      <td>20200831</td>\n",
       "      <td>220000</td>\n",
       "      <td>488.570</td>\n",
       "      <td>495.000</td>\n",
       "      <td>483.64</td>\n",
       "      <td>494.77</td>\n",
       "      <td>303548</td>\n",
       "    </tr>\n",
       "    <tr>\n",
       "      <th>9972</th>\n",
       "      <td>TSLA</td>\n",
       "      <td>60</td>\n",
       "      <td>20200831</td>\n",
       "      <td>230000</td>\n",
       "      <td>494.740</td>\n",
       "      <td>500.000</td>\n",
       "      <td>490.00</td>\n",
       "      <td>498.84</td>\n",
       "      <td>497478</td>\n",
       "    </tr>\n",
       "    <tr>\n",
       "      <th>9973</th>\n",
       "      <td>TSLA</td>\n",
       "      <td>60</td>\n",
       "      <td>20200901</td>\n",
       "      <td>0</td>\n",
       "      <td>498.510</td>\n",
       "      <td>498.510</td>\n",
       "      <td>498.51</td>\n",
       "      <td>498.51</td>\n",
       "      <td>159</td>\n",
       "    </tr>\n",
       "    <tr>\n",
       "      <th>9974</th>\n",
       "      <td>TSLA</td>\n",
       "      <td>60</td>\n",
       "      <td>20200901</td>\n",
       "      <td>170000</td>\n",
       "      <td>502.265</td>\n",
       "      <td>502.410</td>\n",
       "      <td>471.50</td>\n",
       "      <td>472.55</td>\n",
       "      <td>478978</td>\n",
       "    </tr>\n",
       "  </tbody>\n",
       "</table>\n",
       "</div>"
      ],
      "text/plain": [
       "     ticker  per      date    time      open      high      low    close  \\\n",
       "9955   TSLA   60  20200827  200000  2274.430  2295.310  2145.34  2192.36   \n",
       "9956   TSLA   60  20200827  210000  2192.760  2237.145  2172.50  2232.79   \n",
       "9957   TSLA   60  20200827  220000  2231.830  2247.000  2219.07  2231.41   \n",
       "9958   TSLA   60  20200827  230000  2232.150  2252.210  2214.55  2239.76   \n",
       "9959   TSLA   60  20200828  170000  2295.120  2318.000  2268.76  2303.58   \n",
       "9960   TSLA   60  20200828  180000  2308.190  2308.190  2256.10  2264.00   \n",
       "9961   TSLA   60  20200828  190000  2265.480  2288.490  2264.08  2281.35   \n",
       "9962   TSLA   60  20200828  200000  2280.180  2283.370  2219.00  2249.50   \n",
       "9963   TSLA   60  20200828  210000  2249.410  2249.690  2189.73  2238.00   \n",
       "9964   TSLA   60  20200828  220000  2239.100  2244.900  2207.57  2211.66   \n",
       "9965   TSLA   60  20200828  230000  2211.250  2233.340  2187.13  2214.51   \n",
       "9966   TSLA   60  20200831  170000   444.975   461.000   440.22   455.60   \n",
       "9967   TSLA   60  20200831  180000   455.160   475.050   452.34   473.32   \n",
       "9968   TSLA   60  20200831  190000   473.290   496.850   473.29   479.40   \n",
       "9969   TSLA   60  20200831  200000   480.310   484.500   470.72   480.50   \n",
       "9970   TSLA   60  20200831  210000   480.290   489.400   477.11   488.60   \n",
       "9971   TSLA   60  20200831  220000   488.570   495.000   483.64   494.77   \n",
       "9972   TSLA   60  20200831  230000   494.740   500.000   490.00   498.84   \n",
       "9973   TSLA   60  20200901       0   498.510   498.510   498.51   498.51   \n",
       "9974   TSLA   60  20200901  170000   502.265   502.410   471.50   472.55   \n",
       "\n",
       "         vol  \n",
       "9955   98970  \n",
       "9956   51491  \n",
       "9957   36819  \n",
       "9958   52352  \n",
       "9959   45697  \n",
       "9960   38253  \n",
       "9961   30209  \n",
       "9962   42455  \n",
       "9963   51857  \n",
       "9964   42133  \n",
       "9965   75084  \n",
       "9966  267604  \n",
       "9967  532927  \n",
       "9968  506486  \n",
       "9969  252543  \n",
       "9970  280590  \n",
       "9971  303548  \n",
       "9972  497478  \n",
       "9973     159  \n",
       "9974  478978  "
      ]
     },
     "execution_count": 284,
     "metadata": {},
     "output_type": "execute_result"
    }
   ],
   "source": [
    "i = 9965\n",
    "tsla[i-10:i+10]"
   ]
  },
  {
   "cell_type": "code",
   "execution_count": 285,
   "metadata": {},
   "outputs": [],
   "source": [
    "tsla.loc[9966:, ['open', 'high', 'low', 'close']] *= 5"
   ]
  },
  {
   "cell_type": "code",
   "execution_count": 286,
   "metadata": {},
   "outputs": [
    {
     "data": {
      "image/png": "[encoded data removed]",
      "text/plain": [
       "<Figure size 432x288 with 1 Axes>"
      ]
     },
     "metadata": {
      "needs_background": "light"
     },
     "output_type": "display_data"
    }
   ],
   "source": [
    "scatter(tsla)"
   ]
  },
  {
   "cell_type": "markdown",
   "metadata": {},
   "source": [
    "# AAPL"
   ]
  },
  {
   "cell_type": "code",
   "execution_count": 287,
   "metadata": {},
   "outputs": [
    {
     "data": {
      "image/png": "[encoded data removed]",
      "text/plain": [
       "<Figure size 432x288 with 1 Axes>"
      ]
     },
     "metadata": {
      "needs_background": "light"
     },
     "output_type": "display_data"
    }
   ],
   "source": [
    "scatter(aapl)\n",
    "plt.title(\"Apple\")\n",
    "plt.show()"
   ]
  },
  {
   "cell_type": "code",
   "execution_count": 288,
   "metadata": {},
   "outputs": [
    {
     "data": {
      "text/html": [
       "<div>\n",
       "<style scoped>\n",
       "    .dataframe tbody tr th:only-of-type {\n",
       "        vertical-align: middle;\n",
       "    }\n",
       "\n",
       "    .dataframe tbody tr th {\n",
       "        vertical-align: top;\n",
       "    }\n",
       "\n",
       "    .dataframe thead th {\n",
       "        text-align: right;\n",
       "    }\n",
       "</style>\n",
       "<table border=\"1\" class=\"dataframe\">\n",
       "  <thead>\n",
       "    <tr style=\"text-align: right;\">\n",
       "      <th></th>\n",
       "      <th>ticker</th>\n",
       "      <th>per</th>\n",
       "      <th>date</th>\n",
       "      <th>time</th>\n",
       "      <th>open</th>\n",
       "      <th>high</th>\n",
       "      <th>low</th>\n",
       "      <th>close</th>\n",
       "      <th>vol</th>\n",
       "    </tr>\n",
       "  </thead>\n",
       "  <tbody>\n",
       "    <tr>\n",
       "      <th>9955</th>\n",
       "      <td>AAPL</td>\n",
       "      <td>60</td>\n",
       "      <td>20200827</td>\n",
       "      <td>190000</td>\n",
       "      <td>504.76</td>\n",
       "      <td>505.75</td>\n",
       "      <td>503.610</td>\n",
       "      <td>504.70</td>\n",
       "      <td>142697</td>\n",
       "    </tr>\n",
       "    <tr>\n",
       "      <th>9956</th>\n",
       "      <td>AAPL</td>\n",
       "      <td>60</td>\n",
       "      <td>20200827</td>\n",
       "      <td>200000</td>\n",
       "      <td>504.81</td>\n",
       "      <td>504.81</td>\n",
       "      <td>495.360</td>\n",
       "      <td>497.43</td>\n",
       "      <td>330077</td>\n",
       "    </tr>\n",
       "    <tr>\n",
       "      <th>9957</th>\n",
       "      <td>AAPL</td>\n",
       "      <td>60</td>\n",
       "      <td>20200827</td>\n",
       "      <td>210000</td>\n",
       "      <td>497.40</td>\n",
       "      <td>501.70</td>\n",
       "      <td>496.160</td>\n",
       "      <td>501.60</td>\n",
       "      <td>170884</td>\n",
       "    </tr>\n",
       "    <tr>\n",
       "      <th>9958</th>\n",
       "      <td>AAPL</td>\n",
       "      <td>60</td>\n",
       "      <td>20200827</td>\n",
       "      <td>220000</td>\n",
       "      <td>501.40</td>\n",
       "      <td>503.44</td>\n",
       "      <td>501.140</td>\n",
       "      <td>502.63</td>\n",
       "      <td>138189</td>\n",
       "    </tr>\n",
       "    <tr>\n",
       "      <th>9959</th>\n",
       "      <td>AAPL</td>\n",
       "      <td>60</td>\n",
       "      <td>20200827</td>\n",
       "      <td>230000</td>\n",
       "      <td>502.63</td>\n",
       "      <td>503.20</td>\n",
       "      <td>499.970</td>\n",
       "      <td>500.17</td>\n",
       "      <td>311515</td>\n",
       "    </tr>\n",
       "    <tr>\n",
       "      <th>9960</th>\n",
       "      <td>AAPL</td>\n",
       "      <td>60</td>\n",
       "      <td>20200828</td>\n",
       "      <td>170000</td>\n",
       "      <td>504.01</td>\n",
       "      <td>505.00</td>\n",
       "      <td>499.440</td>\n",
       "      <td>503.50</td>\n",
       "      <td>250945</td>\n",
       "    </tr>\n",
       "    <tr>\n",
       "      <th>9961</th>\n",
       "      <td>AAPL</td>\n",
       "      <td>60</td>\n",
       "      <td>20200828</td>\n",
       "      <td>180000</td>\n",
       "      <td>503.50</td>\n",
       "      <td>503.52</td>\n",
       "      <td>500.250</td>\n",
       "      <td>500.35</td>\n",
       "      <td>221489</td>\n",
       "    </tr>\n",
       "    <tr>\n",
       "      <th>9962</th>\n",
       "      <td>AAPL</td>\n",
       "      <td>60</td>\n",
       "      <td>20200828</td>\n",
       "      <td>190000</td>\n",
       "      <td>500.68</td>\n",
       "      <td>503.58</td>\n",
       "      <td>500.000</td>\n",
       "      <td>502.31</td>\n",
       "      <td>162314</td>\n",
       "    </tr>\n",
       "    <tr>\n",
       "      <th>9963</th>\n",
       "      <td>AAPL</td>\n",
       "      <td>60</td>\n",
       "      <td>20200828</td>\n",
       "      <td>200000</td>\n",
       "      <td>502.26</td>\n",
       "      <td>502.70</td>\n",
       "      <td>500.500</td>\n",
       "      <td>501.43</td>\n",
       "      <td>111134</td>\n",
       "    </tr>\n",
       "    <tr>\n",
       "      <th>9964</th>\n",
       "      <td>AAPL</td>\n",
       "      <td>60</td>\n",
       "      <td>20200828</td>\n",
       "      <td>210000</td>\n",
       "      <td>501.37</td>\n",
       "      <td>501.60</td>\n",
       "      <td>498.325</td>\n",
       "      <td>500.06</td>\n",
       "      <td>243460</td>\n",
       "    </tr>\n",
       "    <tr>\n",
       "      <th>9965</th>\n",
       "      <td>AAPL</td>\n",
       "      <td>60</td>\n",
       "      <td>20200828</td>\n",
       "      <td>220000</td>\n",
       "      <td>500.14</td>\n",
       "      <td>502.67</td>\n",
       "      <td>499.680</td>\n",
       "      <td>500.91</td>\n",
       "      <td>209552</td>\n",
       "    </tr>\n",
       "    <tr>\n",
       "      <th>9966</th>\n",
       "      <td>AAPL</td>\n",
       "      <td>60</td>\n",
       "      <td>20200828</td>\n",
       "      <td>230000</td>\n",
       "      <td>500.86</td>\n",
       "      <td>505.77</td>\n",
       "      <td>498.900</td>\n",
       "      <td>499.18</td>\n",
       "      <td>643531</td>\n",
       "    </tr>\n",
       "    <tr>\n",
       "      <th>9967</th>\n",
       "      <td>AAPL</td>\n",
       "      <td>60</td>\n",
       "      <td>20200831</td>\n",
       "      <td>170000</td>\n",
       "      <td>127.50</td>\n",
       "      <td>128.50</td>\n",
       "      <td>126.350</td>\n",
       "      <td>128.03</td>\n",
       "      <td>1420559</td>\n",
       "    </tr>\n",
       "    <tr>\n",
       "      <th>9968</th>\n",
       "      <td>AAPL</td>\n",
       "      <td>60</td>\n",
       "      <td>20200831</td>\n",
       "      <td>180000</td>\n",
       "      <td>128.03</td>\n",
       "      <td>129.50</td>\n",
       "      <td>127.140</td>\n",
       "      <td>129.07</td>\n",
       "      <td>1803754</td>\n",
       "    </tr>\n",
       "    <tr>\n",
       "      <th>9969</th>\n",
       "      <td>AAPL</td>\n",
       "      <td>60</td>\n",
       "      <td>20200831</td>\n",
       "      <td>190000</td>\n",
       "      <td>129.08</td>\n",
       "      <td>130.05</td>\n",
       "      <td>127.700</td>\n",
       "      <td>128.91</td>\n",
       "      <td>1509235</td>\n",
       "    </tr>\n",
       "    <tr>\n",
       "      <th>9970</th>\n",
       "      <td>AAPL</td>\n",
       "      <td>60</td>\n",
       "      <td>20200831</td>\n",
       "      <td>200000</td>\n",
       "      <td>128.95</td>\n",
       "      <td>129.69</td>\n",
       "      <td>128.530</td>\n",
       "      <td>129.47</td>\n",
       "      <td>679876</td>\n",
       "    </tr>\n",
       "    <tr>\n",
       "      <th>9971</th>\n",
       "      <td>AAPL</td>\n",
       "      <td>60</td>\n",
       "      <td>20200831</td>\n",
       "      <td>210000</td>\n",
       "      <td>129.47</td>\n",
       "      <td>131.00</td>\n",
       "      <td>129.400</td>\n",
       "      <td>130.68</td>\n",
       "      <td>983721</td>\n",
       "    </tr>\n",
       "    <tr>\n",
       "      <th>9972</th>\n",
       "      <td>AAPL</td>\n",
       "      <td>60</td>\n",
       "      <td>20200831</td>\n",
       "      <td>220000</td>\n",
       "      <td>130.67</td>\n",
       "      <td>130.88</td>\n",
       "      <td>129.770</td>\n",
       "      <td>130.51</td>\n",
       "      <td>670343</td>\n",
       "    </tr>\n",
       "    <tr>\n",
       "      <th>9973</th>\n",
       "      <td>AAPL</td>\n",
       "      <td>60</td>\n",
       "      <td>20200831</td>\n",
       "      <td>230000</td>\n",
       "      <td>130.51</td>\n",
       "      <td>130.59</td>\n",
       "      <td>128.760</td>\n",
       "      <td>128.76</td>\n",
       "      <td>1462328</td>\n",
       "    </tr>\n",
       "    <tr>\n",
       "      <th>9974</th>\n",
       "      <td>AAPL</td>\n",
       "      <td>60</td>\n",
       "      <td>20200901</td>\n",
       "      <td>170000</td>\n",
       "      <td>132.76</td>\n",
       "      <td>132.90</td>\n",
       "      <td>130.530</td>\n",
       "      <td>131.61</td>\n",
       "      <td>951866</td>\n",
       "    </tr>\n",
       "  </tbody>\n",
       "</table>\n",
       "</div>"
      ],
      "text/plain": [
       "     ticker  per      date    time    open    high      low   close      vol\n",
       "9955   AAPL   60  20200827  190000  504.76  505.75  503.610  504.70   142697\n",
       "9956   AAPL   60  20200827  200000  504.81  504.81  495.360  497.43   330077\n",
       "9957   AAPL   60  20200827  210000  497.40  501.70  496.160  501.60   170884\n",
       "9958   AAPL   60  20200827  220000  501.40  503.44  501.140  502.63   138189\n",
       "9959   AAPL   60  20200827  230000  502.63  503.20  499.970  500.17   311515\n",
       "9960   AAPL   60  20200828  170000  504.01  505.00  499.440  503.50   250945\n",
       "9961   AAPL   60  20200828  180000  503.50  503.52  500.250  500.35   221489\n",
       "9962   AAPL   60  20200828  190000  500.68  503.58  500.000  502.31   162314\n",
       "9963   AAPL   60  20200828  200000  502.26  502.70  500.500  501.43   111134\n",
       "9964   AAPL   60  20200828  210000  501.37  501.60  498.325  500.06   243460\n",
       "9965   AAPL   60  20200828  220000  500.14  502.67  499.680  500.91   209552\n",
       "9966   AAPL   60  20200828  230000  500.86  505.77  498.900  499.18   643531\n",
       "9967   AAPL   60  20200831  170000  127.50  128.50  126.350  128.03  1420559\n",
       "9968   AAPL   60  20200831  180000  128.03  129.50  127.140  129.07  1803754\n",
       "9969   AAPL   60  20200831  190000  129.08  130.05  127.700  128.91  1509235\n",
       "9970   AAPL   60  20200831  200000  128.95  129.69  128.530  129.47   679876\n",
       "9971   AAPL   60  20200831  210000  129.47  131.00  129.400  130.68   983721\n",
       "9972   AAPL   60  20200831  220000  130.67  130.88  129.770  130.51   670343\n",
       "9973   AAPL   60  20200831  230000  130.51  130.59  128.760  128.76  1462328\n",
       "9974   AAPL   60  20200901  170000  132.76  132.90  130.530  131.61   951866"
      ]
     },
     "execution_count": 288,
     "metadata": {},
     "output_type": "execute_result"
    }
   ],
   "source": [
    "i = 9965\n",
    "aapl[i - 10 : i + 10]\n"
   ]
  },
  {
   "cell_type": "code",
   "execution_count": 289,
   "metadata": {},
   "outputs": [],
   "source": [
    "aapl.loc[9967:, ['open', 'high', 'low', 'close']] *= 4"
   ]
  },
  {
   "cell_type": "code",
   "execution_count": 290,
   "metadata": {},
   "outputs": [
    {
     "data": {
      "image/png": "[encoded data removed]",
      "text/plain": [
       "<Figure size 432x288 with 1 Axes>"
      ]
     },
     "metadata": {
      "needs_background": "light"
     },
     "output_type": "display_data"
    }
   ],
   "source": [
    "scatter(aapl)"
   ]
  },
  {
   "cell_type": "markdown",
   "metadata": {},
   "source": [
    "# MSFT"
   ]
  },
  {
   "cell_type": "code",
   "execution_count": 291,
   "metadata": {},
   "outputs": [
    {
     "data": {
      "image/png": "[encoded data removed]",
      "text/plain": [
       "<Figure size 432x288 with 1 Axes>"
      ]
     },
     "metadata": {
      "needs_background": "light"
     },
     "output_type": "display_data"
    }
   ],
   "source": [
    "scatter(msft)"
   ]
  },
  {
   "cell_type": "markdown",
   "metadata": {},
   "source": [
    "# GOOG"
   ]
  },
  {
   "cell_type": "code",
   "execution_count": 292,
   "metadata": {},
   "outputs": [
    {
     "data": {
      "image/png": "[encoded data removed]",
      "text/plain": [
       "<Figure size 432x288 with 1 Axes>"
      ]
     },
     "metadata": {
      "needs_background": "light"
     },
     "output_type": "display_data"
    }
   ],
   "source": [
    "scatter(goog)"
   ]
  },
  {
   "cell_type": "markdown",
   "metadata": {},
   "source": [
    "# GOOGL"
   ]
  },
  {
   "cell_type": "code",
   "execution_count": 293,
   "metadata": {},
   "outputs": [
    {
     "data": {
      "image/png": "[encoded data removed]",
      "text/plain": [
       "<Figure size 432x288 with 1 Axes>"
      ]
     },
     "metadata": {
      "needs_background": "light"
     },
     "output_type": "display_data"
    }
   ],
   "source": [
    "scatter(googl)"
   ]
  }
 ],
 "metadata": {
  "kernelspec": {
   "display_name": "Python 3.10.4 64-bit",
   "language": "python",
   "name": "python3"
  },
  "language_info": {
   "codemirror_mode": {
    "name": "ipython",
    "version": 3
   },
   "file_extension": ".py",
   "mimetype": "text/x-python",
   "name": "python",
   "nbconvert_exporter": "python",
   "pygments_lexer": "ipython3",
   "version": "3.10.0"
  },
  "orig_nbformat": 4,
  "vscode": {
   "interpreter": {
    "hash": "1dd0381d1fc2fb15dda0c9601b2866ce5a466e54b3f253773e8ed097d13694fa"
   }
  }
 },
 "nbformat": 4,
 "nbformat_minor": 2
}
