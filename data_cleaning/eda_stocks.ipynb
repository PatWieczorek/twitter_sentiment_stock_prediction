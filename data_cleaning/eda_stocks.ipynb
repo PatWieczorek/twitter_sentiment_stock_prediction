{
 "cells": [
  {
   "cell_type": "code",
   "execution_count": 117,
   "metadata": {},
   "outputs": [],
   "source": [
    "import pandas as pd\n",
    "import seaborn as sns\n",
    "import matplotlib.pyplot as plt"
   ]
  },
  {
   "cell_type": "code",
   "execution_count": 118,
   "metadata": {},
   "outputs": [
    {
     "data": {
      "text/html": [
       "<div>\n",
       "<style scoped>\n",
       "    .dataframe tbody tr th:only-of-type {\n",
       "        vertical-align: middle;\n",
       "    }\n",
       "\n",
       "    .dataframe tbody tr th {\n",
       "        vertical-align: top;\n",
       "    }\n",
       "\n",
       "    .dataframe thead th {\n",
       "        text-align: right;\n",
       "    }\n",
       "</style>\n",
       "<table border=\"1\" class=\"dataframe\">\n",
       "  <thead>\n",
       "    <tr style=\"text-align: right;\">\n",
       "      <th></th>\n",
       "      <th>date_</th>\n",
       "      <th>ticker</th>\n",
       "      <th>open</th>\n",
       "      <th>high</th>\n",
       "      <th>low</th>\n",
       "      <th>close</th>\n",
       "      <th>vol</th>\n",
       "    </tr>\n",
       "  </thead>\n",
       "  <tbody>\n",
       "    <tr>\n",
       "      <th>0</th>\n",
       "      <td>2015-01-02 17:00:00</td>\n",
       "      <td>AMZN</td>\n",
       "      <td>312.58</td>\n",
       "      <td>314.75</td>\n",
       "      <td>312.1100</td>\n",
       "      <td>313.52</td>\n",
       "      <td>404201</td>\n",
       "    </tr>\n",
       "    <tr>\n",
       "      <th>1</th>\n",
       "      <td>2015-01-02 18:00:00</td>\n",
       "      <td>AMZN</td>\n",
       "      <td>313.25</td>\n",
       "      <td>313.59</td>\n",
       "      <td>308.6300</td>\n",
       "      <td>308.96</td>\n",
       "      <td>509208</td>\n",
       "    </tr>\n",
       "    <tr>\n",
       "      <th>2</th>\n",
       "      <td>2015-01-02 19:00:00</td>\n",
       "      <td>AMZN</td>\n",
       "      <td>308.84</td>\n",
       "      <td>310.12</td>\n",
       "      <td>306.9601</td>\n",
       "      <td>309.75</td>\n",
       "      <td>427854</td>\n",
       "    </tr>\n",
       "    <tr>\n",
       "      <th>3</th>\n",
       "      <td>2015-01-02 20:00:00</td>\n",
       "      <td>AMZN</td>\n",
       "      <td>309.77</td>\n",
       "      <td>309.93</td>\n",
       "      <td>308.0500</td>\n",
       "      <td>308.40</td>\n",
       "      <td>209933</td>\n",
       "    </tr>\n",
       "    <tr>\n",
       "      <th>4</th>\n",
       "      <td>2015-01-02 21:00:00</td>\n",
       "      <td>AMZN</td>\n",
       "      <td>308.41</td>\n",
       "      <td>308.48</td>\n",
       "      <td>307.2500</td>\n",
       "      <td>308.35</td>\n",
       "      <td>158209</td>\n",
       "    </tr>\n",
       "  </tbody>\n",
       "</table>\n",
       "</div>"
      ],
      "text/plain": [
       "                 date_ ticker    open    high       low   close     vol\n",
       "0  2015-01-02 17:00:00   AMZN  312.58  314.75  312.1100  313.52  404201\n",
       "1  2015-01-02 18:00:00   AMZN  313.25  313.59  308.6300  308.96  509208\n",
       "2  2015-01-02 19:00:00   AMZN  308.84  310.12  306.9601  309.75  427854\n",
       "3  2015-01-02 20:00:00   AMZN  309.77  309.93  308.0500  308.40  209933\n",
       "4  2015-01-02 21:00:00   AMZN  308.41  308.48  307.2500  308.35  158209"
      ]
     },
     "execution_count": 118,
     "metadata": {},
     "output_type": "execute_result"
    }
   ],
   "source": [
    "COMPANIES = [\"amzn\", \"aapl\", \"tsla\", \"msft\", \"goog\", \"googl\"]\n",
    "df = pd.DataFrame()\n",
    "for i in COMPANIES:\n",
    "    comp = pd.read_csv(f\"../datasets/stocks_clean/{i}.csv\")\n",
    "    df = pd.concat([df, comp])\n",
    "\n",
    "df.head()"
   ]
  },
  {
   "cell_type": "code",
   "execution_count": 119,
   "metadata": {},
   "outputs": [],
   "source": [
    "# adjust splits\n",
    "split_val = {\n",
    "    \"TSLA\": 5,\n",
    "    \"AAPL\": 4,\n",
    "    \"AMZN\": 20,\n",
    "}\n",
    "\n",
    "for c in [\"TSLA\", \"AAPL\", \"AMZN\"]:\n",
    "    df.loc[df[\"ticker\"] == c, ['open', 'high', 'low', 'close']] = df.loc[df[\"ticker\"] == c, ['open', 'high', 'low', 'close']]/split_val[c]\n"
   ]
  },
  {
   "cell_type": "code",
   "execution_count": 120,
   "metadata": {},
   "outputs": [
    {
     "name": "stdout",
     "output_type": "stream",
     "text": [
      "<class 'pandas.core.frame.DataFrame'>\n",
      "Int64Index: 63366 entries, 0 to 10558\n",
      "Data columns (total 7 columns):\n",
      " #   Column  Non-Null Count  Dtype  \n",
      "---  ------  --------------  -----  \n",
      " 0   date_   63366 non-null  object \n",
      " 1   ticker  63366 non-null  object \n",
      " 2   open    63366 non-null  float64\n",
      " 3   high    63366 non-null  float64\n",
      " 4   low     63366 non-null  float64\n",
      " 5   close   63366 non-null  float64\n",
      " 6   vol     63366 non-null  int64  \n",
      "dtypes: float64(4), int64(1), object(2)\n",
      "memory usage: 3.9+ MB\n"
     ]
    }
   ],
   "source": [
    "# check NULLS\n",
    "\n",
    "df.info()"
   ]
  },
  {
   "cell_type": "code",
   "execution_count": 121,
   "metadata": {},
   "outputs": [],
   "source": [
    "def cor_map():\n",
    "    pass"
   ]
  },
  {
   "cell_type": "code",
   "execution_count": 122,
   "metadata": {},
   "outputs": [],
   "source": [
    "amzn = df[df[\"ticker\"] == \"AMZN\"]\n",
    "tsla = df[df[\"ticker\"] == \"TSLA\"]\n",
    "goog = df[df[\"ticker\"] == \"GOOG\"] \n",
    "googl = df[df[\"ticker\"] == \"GOOGL\"] \n",
    "aapl = df[df[\"ticker\"] == \"AAPL\"] \n",
    "msft = df[df[\"ticker\"] == \"MSFT\"] "
   ]
  },
  {
   "cell_type": "code",
   "execution_count": 123,
   "metadata": {},
   "outputs": [],
   "source": [
    "def scatter(company):\n",
    "    sns.scatterplot(x=[i for i in range(len(company))], y=company.close, s=2)\n",
    "\n",
    "def line(company):\n",
    "    sns.lineplot(x=[i for i in range(len(company))], y=company.close)"
   ]
  },
  {
   "cell_type": "markdown",
   "metadata": {},
   "source": [
    "# Amazon"
   ]
  },
  {
   "cell_type": "code",
   "execution_count": 124,
   "metadata": {},
   "outputs": [
    {
     "data": {
      "image/png": "[encoded data removed]",
      "text/plain": [
       "<Figure size 432x288 with 1 Axes>"
      ]
     },
     "metadata": {
      "needs_background": "light"
     },
     "output_type": "display_data"
    }
   ],
   "source": [
    "scatter(amzn)\n",
    "plt.show()"
   ]
  },
  {
   "cell_type": "code",
   "execution_count": 125,
   "metadata": {},
   "outputs": [
    {
     "data": {
      "text/html": [
       "<div>\n",
       "<style scoped>\n",
       "    .dataframe tbody tr th:only-of-type {\n",
       "        vertical-align: middle;\n",
       "    }\n",
       "\n",
       "    .dataframe tbody tr th {\n",
       "        vertical-align: top;\n",
       "    }\n",
       "\n",
       "    .dataframe thead th {\n",
       "        text-align: right;\n",
       "    }\n",
       "</style>\n",
       "<table border=\"1\" class=\"dataframe\">\n",
       "  <thead>\n",
       "    <tr style=\"text-align: right;\">\n",
       "      <th></th>\n",
       "      <th>open</th>\n",
       "      <th>high</th>\n",
       "      <th>low</th>\n",
       "      <th>close</th>\n",
       "      <th>vol</th>\n",
       "    </tr>\n",
       "  </thead>\n",
       "  <tbody>\n",
       "    <tr>\n",
       "      <th>open</th>\n",
       "      <td>1.000000</td>\n",
       "      <td>0.999965</td>\n",
       "      <td>0.999950</td>\n",
       "      <td>0.999929</td>\n",
       "      <td>-0.397135</td>\n",
       "    </tr>\n",
       "    <tr>\n",
       "      <th>high</th>\n",
       "      <td>0.999965</td>\n",
       "      <td>1.000000</td>\n",
       "      <td>0.999930</td>\n",
       "      <td>0.999962</td>\n",
       "      <td>-0.395622</td>\n",
       "    </tr>\n",
       "    <tr>\n",
       "      <th>low</th>\n",
       "      <td>0.999950</td>\n",
       "      <td>0.999930</td>\n",
       "      <td>1.000000</td>\n",
       "      <td>0.999963</td>\n",
       "      <td>-0.399357</td>\n",
       "    </tr>\n",
       "    <tr>\n",
       "      <th>close</th>\n",
       "      <td>0.999929</td>\n",
       "      <td>0.999962</td>\n",
       "      <td>0.999963</td>\n",
       "      <td>1.000000</td>\n",
       "      <td>-0.397423</td>\n",
       "    </tr>\n",
       "    <tr>\n",
       "      <th>vol</th>\n",
       "      <td>-0.397135</td>\n",
       "      <td>-0.395622</td>\n",
       "      <td>-0.399357</td>\n",
       "      <td>-0.397423</td>\n",
       "      <td>1.000000</td>\n",
       "    </tr>\n",
       "  </tbody>\n",
       "</table>\n",
       "</div>"
      ],
      "text/plain": [
       "           open      high       low     close       vol\n",
       "open   1.000000  0.999965  0.999950  0.999929 -0.397135\n",
       "high   0.999965  1.000000  0.999930  0.999962 -0.395622\n",
       "low    0.999950  0.999930  1.000000  0.999963 -0.399357\n",
       "close  0.999929  0.999962  0.999963  1.000000 -0.397423\n",
       "vol   -0.397135 -0.395622 -0.399357 -0.397423  1.000000"
      ]
     },
     "execution_count": 125,
     "metadata": {},
     "output_type": "execute_result"
    }
   ],
   "source": [
    "amzn.corr()"
   ]
  },
  {
   "cell_type": "code",
   "execution_count": 126,
   "metadata": {},
   "outputs": [
    {
     "data": {
      "text/plain": [
       "<AxesSubplot:xlabel='close', ylabel='vol'>"
      ]
     },
     "execution_count": 126,
     "metadata": {},
     "output_type": "execute_result"
    },
    {
     "data": {
      "image/png": "[encoded data removed]",
      "text/plain": [
       "<Figure size 432x288 with 1 Axes>"
      ]
     },
     "metadata": {
      "needs_background": "light"
     },
     "output_type": "display_data"
    }
   ],
   "source": [
    "sns.scatterplot(x=\"close\", y=\"vol\", data=amzn, s=2)"
   ]
  },
  {
   "cell_type": "markdown",
   "metadata": {},
   "source": [
    "# Tesla\n"
   ]
  },
  {
   "cell_type": "code",
   "execution_count": 127,
   "metadata": {},
   "outputs": [
    {
     "data": {
      "image/png": "[encoded data removed]",
      "text/plain": [
       "<Figure size 432x288 with 1 Axes>"
      ]
     },
     "metadata": {
      "needs_background": "light"
     },
     "output_type": "display_data"
    }
   ],
   "source": [
    "scatter(tsla)\n",
    "plt.show()"
   ]
  },
  {
   "cell_type": "code",
   "execution_count": 128,
   "metadata": {},
   "outputs": [
    {
     "data": {
      "text/html": [
       "<div>\n",
       "<style scoped>\n",
       "    .dataframe tbody tr th:only-of-type {\n",
       "        vertical-align: middle;\n",
       "    }\n",
       "\n",
       "    .dataframe tbody tr th {\n",
       "        vertical-align: top;\n",
       "    }\n",
       "\n",
       "    .dataframe thead th {\n",
       "        text-align: right;\n",
       "    }\n",
       "</style>\n",
       "<table border=\"1\" class=\"dataframe\">\n",
       "  <thead>\n",
       "    <tr style=\"text-align: right;\">\n",
       "      <th></th>\n",
       "      <th>date_</th>\n",
       "      <th>ticker</th>\n",
       "      <th>open</th>\n",
       "      <th>high</th>\n",
       "      <th>low</th>\n",
       "      <th>close</th>\n",
       "      <th>vol</th>\n",
       "    </tr>\n",
       "  </thead>\n",
       "  <tbody>\n",
       "    <tr>\n",
       "      <th>9955</th>\n",
       "      <td>2020-08-27 19:00:00</td>\n",
       "      <td>TSLA</td>\n",
       "      <td>454.886</td>\n",
       "      <td>459.062</td>\n",
       "      <td>429.068</td>\n",
       "      <td>438.472</td>\n",
       "      <td>98970</td>\n",
       "    </tr>\n",
       "    <tr>\n",
       "      <th>9956</th>\n",
       "      <td>2020-08-27 20:00:00</td>\n",
       "      <td>TSLA</td>\n",
       "      <td>438.552</td>\n",
       "      <td>447.429</td>\n",
       "      <td>434.500</td>\n",
       "      <td>446.558</td>\n",
       "      <td>51491</td>\n",
       "    </tr>\n",
       "    <tr>\n",
       "      <th>9957</th>\n",
       "      <td>2020-08-27 21:00:00</td>\n",
       "      <td>TSLA</td>\n",
       "      <td>446.366</td>\n",
       "      <td>449.400</td>\n",
       "      <td>443.814</td>\n",
       "      <td>446.282</td>\n",
       "      <td>36819</td>\n",
       "    </tr>\n",
       "    <tr>\n",
       "      <th>9958</th>\n",
       "      <td>2020-08-27 22:00:00</td>\n",
       "      <td>TSLA</td>\n",
       "      <td>446.430</td>\n",
       "      <td>450.442</td>\n",
       "      <td>442.910</td>\n",
       "      <td>447.952</td>\n",
       "      <td>52352</td>\n",
       "    </tr>\n",
       "    <tr>\n",
       "      <th>9959</th>\n",
       "      <td>2020-08-28 16:00:00</td>\n",
       "      <td>TSLA</td>\n",
       "      <td>459.024</td>\n",
       "      <td>463.600</td>\n",
       "      <td>453.752</td>\n",
       "      <td>460.716</td>\n",
       "      <td>45697</td>\n",
       "    </tr>\n",
       "    <tr>\n",
       "      <th>9960</th>\n",
       "      <td>2020-08-28 17:00:00</td>\n",
       "      <td>TSLA</td>\n",
       "      <td>461.638</td>\n",
       "      <td>461.638</td>\n",
       "      <td>451.220</td>\n",
       "      <td>452.800</td>\n",
       "      <td>38253</td>\n",
       "    </tr>\n",
       "    <tr>\n",
       "      <th>9961</th>\n",
       "      <td>2020-08-28 18:00:00</td>\n",
       "      <td>TSLA</td>\n",
       "      <td>453.096</td>\n",
       "      <td>457.698</td>\n",
       "      <td>452.816</td>\n",
       "      <td>456.270</td>\n",
       "      <td>30209</td>\n",
       "    </tr>\n",
       "    <tr>\n",
       "      <th>9962</th>\n",
       "      <td>2020-08-28 19:00:00</td>\n",
       "      <td>TSLA</td>\n",
       "      <td>456.036</td>\n",
       "      <td>456.674</td>\n",
       "      <td>443.800</td>\n",
       "      <td>449.900</td>\n",
       "      <td>42455</td>\n",
       "    </tr>\n",
       "    <tr>\n",
       "      <th>9963</th>\n",
       "      <td>2020-08-28 20:00:00</td>\n",
       "      <td>TSLA</td>\n",
       "      <td>449.882</td>\n",
       "      <td>449.938</td>\n",
       "      <td>437.946</td>\n",
       "      <td>447.600</td>\n",
       "      <td>51857</td>\n",
       "    </tr>\n",
       "    <tr>\n",
       "      <th>9964</th>\n",
       "      <td>2020-08-28 21:00:00</td>\n",
       "      <td>TSLA</td>\n",
       "      <td>447.820</td>\n",
       "      <td>448.980</td>\n",
       "      <td>441.514</td>\n",
       "      <td>442.332</td>\n",
       "      <td>42133</td>\n",
       "    </tr>\n",
       "    <tr>\n",
       "      <th>9965</th>\n",
       "      <td>2020-08-28 22:00:00</td>\n",
       "      <td>TSLA</td>\n",
       "      <td>442.250</td>\n",
       "      <td>446.668</td>\n",
       "      <td>437.426</td>\n",
       "      <td>442.902</td>\n",
       "      <td>75084</td>\n",
       "    </tr>\n",
       "    <tr>\n",
       "      <th>9966</th>\n",
       "      <td>2020-08-31 16:00:00</td>\n",
       "      <td>TSLA</td>\n",
       "      <td>88.995</td>\n",
       "      <td>92.200</td>\n",
       "      <td>88.044</td>\n",
       "      <td>91.120</td>\n",
       "      <td>267604</td>\n",
       "    </tr>\n",
       "    <tr>\n",
       "      <th>9967</th>\n",
       "      <td>2020-08-31 17:00:00</td>\n",
       "      <td>TSLA</td>\n",
       "      <td>91.032</td>\n",
       "      <td>95.010</td>\n",
       "      <td>90.468</td>\n",
       "      <td>94.664</td>\n",
       "      <td>532927</td>\n",
       "    </tr>\n",
       "    <tr>\n",
       "      <th>9968</th>\n",
       "      <td>2020-08-31 18:00:00</td>\n",
       "      <td>TSLA</td>\n",
       "      <td>94.658</td>\n",
       "      <td>99.370</td>\n",
       "      <td>94.658</td>\n",
       "      <td>95.880</td>\n",
       "      <td>506486</td>\n",
       "    </tr>\n",
       "    <tr>\n",
       "      <th>9969</th>\n",
       "      <td>2020-08-31 19:00:00</td>\n",
       "      <td>TSLA</td>\n",
       "      <td>96.062</td>\n",
       "      <td>96.900</td>\n",
       "      <td>94.144</td>\n",
       "      <td>96.100</td>\n",
       "      <td>252543</td>\n",
       "    </tr>\n",
       "    <tr>\n",
       "      <th>9970</th>\n",
       "      <td>2020-08-31 20:00:00</td>\n",
       "      <td>TSLA</td>\n",
       "      <td>96.058</td>\n",
       "      <td>97.880</td>\n",
       "      <td>95.422</td>\n",
       "      <td>97.720</td>\n",
       "      <td>280590</td>\n",
       "    </tr>\n",
       "    <tr>\n",
       "      <th>9971</th>\n",
       "      <td>2020-08-31 21:00:00</td>\n",
       "      <td>TSLA</td>\n",
       "      <td>97.714</td>\n",
       "      <td>99.000</td>\n",
       "      <td>96.728</td>\n",
       "      <td>98.954</td>\n",
       "      <td>303548</td>\n",
       "    </tr>\n",
       "    <tr>\n",
       "      <th>9972</th>\n",
       "      <td>2020-08-31 22:00:00</td>\n",
       "      <td>TSLA</td>\n",
       "      <td>98.948</td>\n",
       "      <td>100.000</td>\n",
       "      <td>98.000</td>\n",
       "      <td>99.768</td>\n",
       "      <td>497478</td>\n",
       "    </tr>\n",
       "    <tr>\n",
       "      <th>9973</th>\n",
       "      <td>2020-08-31 23:00:00</td>\n",
       "      <td>TSLA</td>\n",
       "      <td>99.702</td>\n",
       "      <td>99.702</td>\n",
       "      <td>99.702</td>\n",
       "      <td>99.702</td>\n",
       "      <td>159</td>\n",
       "    </tr>\n",
       "    <tr>\n",
       "      <th>9974</th>\n",
       "      <td>2020-09-01 16:00:00</td>\n",
       "      <td>TSLA</td>\n",
       "      <td>100.453</td>\n",
       "      <td>100.482</td>\n",
       "      <td>94.300</td>\n",
       "      <td>94.510</td>\n",
       "      <td>478978</td>\n",
       "    </tr>\n",
       "  </tbody>\n",
       "</table>\n",
       "</div>"
      ],
      "text/plain": [
       "                    date_ ticker     open     high      low    close     vol\n",
       "9955  2020-08-27 19:00:00   TSLA  454.886  459.062  429.068  438.472   98970\n",
       "9956  2020-08-27 20:00:00   TSLA  438.552  447.429  434.500  446.558   51491\n",
       "9957  2020-08-27 21:00:00   TSLA  446.366  449.400  443.814  446.282   36819\n",
       "9958  2020-08-27 22:00:00   TSLA  446.430  450.442  442.910  447.952   52352\n",
       "9959  2020-08-28 16:00:00   TSLA  459.024  463.600  453.752  460.716   45697\n",
       "9960  2020-08-28 17:00:00   TSLA  461.638  461.638  451.220  452.800   38253\n",
       "9961  2020-08-28 18:00:00   TSLA  453.096  457.698  452.816  456.270   30209\n",
       "9962  2020-08-28 19:00:00   TSLA  456.036  456.674  443.800  449.900   42455\n",
       "9963  2020-08-28 20:00:00   TSLA  449.882  449.938  437.946  447.600   51857\n",
       "9964  2020-08-28 21:00:00   TSLA  447.820  448.980  441.514  442.332   42133\n",
       "9965  2020-08-28 22:00:00   TSLA  442.250  446.668  437.426  442.902   75084\n",
       "9966  2020-08-31 16:00:00   TSLA   88.995   92.200   88.044   91.120  267604\n",
       "9967  2020-08-31 17:00:00   TSLA   91.032   95.010   90.468   94.664  532927\n",
       "9968  2020-08-31 18:00:00   TSLA   94.658   99.370   94.658   95.880  506486\n",
       "9969  2020-08-31 19:00:00   TSLA   96.062   96.900   94.144   96.100  252543\n",
       "9970  2020-08-31 20:00:00   TSLA   96.058   97.880   95.422   97.720  280590\n",
       "9971  2020-08-31 21:00:00   TSLA   97.714   99.000   96.728   98.954  303548\n",
       "9972  2020-08-31 22:00:00   TSLA   98.948  100.000   98.000   99.768  497478\n",
       "9973  2020-08-31 23:00:00   TSLA   99.702   99.702   99.702   99.702     159\n",
       "9974  2020-09-01 16:00:00   TSLA  100.453  100.482   94.300   94.510  478978"
      ]
     },
     "execution_count": 128,
     "metadata": {},
     "output_type": "execute_result"
    }
   ],
   "source": [
    "i = 9965\n",
    "tsla[i-10:i+10]"
   ]
  },
  {
   "cell_type": "code",
   "execution_count": 129,
   "metadata": {},
   "outputs": [],
   "source": [
    "tsla.loc[9966:, ['open', 'high', 'low', 'close']] *= 5"
   ]
  },
  {
   "cell_type": "code",
   "execution_count": 130,
   "metadata": {},
   "outputs": [
    {
     "data": {
      "image/png": "[encoded data removed]",
      "text/plain": [
       "<Figure size 432x288 with 1 Axes>"
      ]
     },
     "metadata": {
      "needs_background": "light"
     },
     "output_type": "display_data"
    }
   ],
   "source": [
    "scatter(tsla)"
   ]
  },
  {
   "cell_type": "markdown",
   "metadata": {},
   "source": [
    "# AAPL"
   ]
  },
  {
   "cell_type": "code",
   "execution_count": 131,
   "metadata": {},
   "outputs": [
    {
     "data": {
      "image/png": "[encoded data removed]",
      "text/plain": [
       "<Figure size 432x288 with 1 Axes>"
      ]
     },
     "metadata": {
      "needs_background": "light"
     },
     "output_type": "display_data"
    }
   ],
   "source": [
    "scatter(aapl)"
   ]
  },
  {
   "cell_type": "code",
   "execution_count": 132,
   "metadata": {},
   "outputs": [
    {
     "data": {
      "text/html": [
       "<div>\n",
       "<style scoped>\n",
       "    .dataframe tbody tr th:only-of-type {\n",
       "        vertical-align: middle;\n",
       "    }\n",
       "\n",
       "    .dataframe tbody tr th {\n",
       "        vertical-align: top;\n",
       "    }\n",
       "\n",
       "    .dataframe thead th {\n",
       "        text-align: right;\n",
       "    }\n",
       "</style>\n",
       "<table border=\"1\" class=\"dataframe\">\n",
       "  <thead>\n",
       "    <tr style=\"text-align: right;\">\n",
       "      <th></th>\n",
       "      <th>date_</th>\n",
       "      <th>ticker</th>\n",
       "      <th>open</th>\n",
       "      <th>high</th>\n",
       "      <th>low</th>\n",
       "      <th>close</th>\n",
       "      <th>vol</th>\n",
       "    </tr>\n",
       "  </thead>\n",
       "  <tbody>\n",
       "    <tr>\n",
       "      <th>9955</th>\n",
       "      <td>2020-08-27 18:00:00</td>\n",
       "      <td>AAPL</td>\n",
       "      <td>126.1900</td>\n",
       "      <td>126.4375</td>\n",
       "      <td>125.90250</td>\n",
       "      <td>126.1750</td>\n",
       "      <td>142697</td>\n",
       "    </tr>\n",
       "    <tr>\n",
       "      <th>9956</th>\n",
       "      <td>2020-08-27 19:00:00</td>\n",
       "      <td>AAPL</td>\n",
       "      <td>126.2025</td>\n",
       "      <td>126.2025</td>\n",
       "      <td>123.84000</td>\n",
       "      <td>124.3575</td>\n",
       "      <td>330077</td>\n",
       "    </tr>\n",
       "    <tr>\n",
       "      <th>9957</th>\n",
       "      <td>2020-08-27 20:00:00</td>\n",
       "      <td>AAPL</td>\n",
       "      <td>124.3500</td>\n",
       "      <td>125.4250</td>\n",
       "      <td>124.04000</td>\n",
       "      <td>125.4000</td>\n",
       "      <td>170884</td>\n",
       "    </tr>\n",
       "    <tr>\n",
       "      <th>9958</th>\n",
       "      <td>2020-08-27 21:00:00</td>\n",
       "      <td>AAPL</td>\n",
       "      <td>125.3500</td>\n",
       "      <td>125.8600</td>\n",
       "      <td>125.28500</td>\n",
       "      <td>125.6575</td>\n",
       "      <td>138189</td>\n",
       "    </tr>\n",
       "    <tr>\n",
       "      <th>9959</th>\n",
       "      <td>2020-08-27 22:00:00</td>\n",
       "      <td>AAPL</td>\n",
       "      <td>125.6575</td>\n",
       "      <td>125.8000</td>\n",
       "      <td>124.99250</td>\n",
       "      <td>125.0425</td>\n",
       "      <td>311515</td>\n",
       "    </tr>\n",
       "    <tr>\n",
       "      <th>9960</th>\n",
       "      <td>2020-08-28 16:00:00</td>\n",
       "      <td>AAPL</td>\n",
       "      <td>126.0025</td>\n",
       "      <td>126.2500</td>\n",
       "      <td>124.86000</td>\n",
       "      <td>125.8750</td>\n",
       "      <td>250945</td>\n",
       "    </tr>\n",
       "    <tr>\n",
       "      <th>9961</th>\n",
       "      <td>2020-08-28 17:00:00</td>\n",
       "      <td>AAPL</td>\n",
       "      <td>125.8750</td>\n",
       "      <td>125.8800</td>\n",
       "      <td>125.06250</td>\n",
       "      <td>125.0875</td>\n",
       "      <td>221489</td>\n",
       "    </tr>\n",
       "    <tr>\n",
       "      <th>9962</th>\n",
       "      <td>2020-08-28 18:00:00</td>\n",
       "      <td>AAPL</td>\n",
       "      <td>125.1700</td>\n",
       "      <td>125.8950</td>\n",
       "      <td>125.00000</td>\n",
       "      <td>125.5775</td>\n",
       "      <td>162314</td>\n",
       "    </tr>\n",
       "    <tr>\n",
       "      <th>9963</th>\n",
       "      <td>2020-08-28 19:00:00</td>\n",
       "      <td>AAPL</td>\n",
       "      <td>125.5650</td>\n",
       "      <td>125.6750</td>\n",
       "      <td>125.12500</td>\n",
       "      <td>125.3575</td>\n",
       "      <td>111134</td>\n",
       "    </tr>\n",
       "    <tr>\n",
       "      <th>9964</th>\n",
       "      <td>2020-08-28 20:00:00</td>\n",
       "      <td>AAPL</td>\n",
       "      <td>125.3425</td>\n",
       "      <td>125.4000</td>\n",
       "      <td>124.58125</td>\n",
       "      <td>125.0150</td>\n",
       "      <td>243460</td>\n",
       "    </tr>\n",
       "    <tr>\n",
       "      <th>9965</th>\n",
       "      <td>2020-08-28 21:00:00</td>\n",
       "      <td>AAPL</td>\n",
       "      <td>125.0350</td>\n",
       "      <td>125.6675</td>\n",
       "      <td>124.92000</td>\n",
       "      <td>125.2275</td>\n",
       "      <td>209552</td>\n",
       "    </tr>\n",
       "    <tr>\n",
       "      <th>9966</th>\n",
       "      <td>2020-08-28 22:00:00</td>\n",
       "      <td>AAPL</td>\n",
       "      <td>125.2150</td>\n",
       "      <td>126.4425</td>\n",
       "      <td>124.72500</td>\n",
       "      <td>124.7950</td>\n",
       "      <td>643531</td>\n",
       "    </tr>\n",
       "    <tr>\n",
       "      <th>9967</th>\n",
       "      <td>2020-08-31 16:00:00</td>\n",
       "      <td>AAPL</td>\n",
       "      <td>31.8750</td>\n",
       "      <td>32.1250</td>\n",
       "      <td>31.58750</td>\n",
       "      <td>32.0075</td>\n",
       "      <td>1420559</td>\n",
       "    </tr>\n",
       "    <tr>\n",
       "      <th>9968</th>\n",
       "      <td>2020-08-31 17:00:00</td>\n",
       "      <td>AAPL</td>\n",
       "      <td>32.0075</td>\n",
       "      <td>32.3750</td>\n",
       "      <td>31.78500</td>\n",
       "      <td>32.2675</td>\n",
       "      <td>1803754</td>\n",
       "    </tr>\n",
       "    <tr>\n",
       "      <th>9969</th>\n",
       "      <td>2020-08-31 18:00:00</td>\n",
       "      <td>AAPL</td>\n",
       "      <td>32.2700</td>\n",
       "      <td>32.5125</td>\n",
       "      <td>31.92500</td>\n",
       "      <td>32.2275</td>\n",
       "      <td>1509235</td>\n",
       "    </tr>\n",
       "    <tr>\n",
       "      <th>9970</th>\n",
       "      <td>2020-08-31 19:00:00</td>\n",
       "      <td>AAPL</td>\n",
       "      <td>32.2375</td>\n",
       "      <td>32.4225</td>\n",
       "      <td>32.13250</td>\n",
       "      <td>32.3675</td>\n",
       "      <td>679876</td>\n",
       "    </tr>\n",
       "    <tr>\n",
       "      <th>9971</th>\n",
       "      <td>2020-08-31 20:00:00</td>\n",
       "      <td>AAPL</td>\n",
       "      <td>32.3675</td>\n",
       "      <td>32.7500</td>\n",
       "      <td>32.35000</td>\n",
       "      <td>32.6700</td>\n",
       "      <td>983721</td>\n",
       "    </tr>\n",
       "    <tr>\n",
       "      <th>9972</th>\n",
       "      <td>2020-08-31 21:00:00</td>\n",
       "      <td>AAPL</td>\n",
       "      <td>32.6675</td>\n",
       "      <td>32.7200</td>\n",
       "      <td>32.44250</td>\n",
       "      <td>32.6275</td>\n",
       "      <td>670343</td>\n",
       "    </tr>\n",
       "    <tr>\n",
       "      <th>9973</th>\n",
       "      <td>2020-08-31 22:00:00</td>\n",
       "      <td>AAPL</td>\n",
       "      <td>32.6275</td>\n",
       "      <td>32.6475</td>\n",
       "      <td>32.19000</td>\n",
       "      <td>32.1900</td>\n",
       "      <td>1462328</td>\n",
       "    </tr>\n",
       "    <tr>\n",
       "      <th>9974</th>\n",
       "      <td>2020-09-01 16:00:00</td>\n",
       "      <td>AAPL</td>\n",
       "      <td>33.1900</td>\n",
       "      <td>33.2250</td>\n",
       "      <td>32.63250</td>\n",
       "      <td>32.9025</td>\n",
       "      <td>951866</td>\n",
       "    </tr>\n",
       "  </tbody>\n",
       "</table>\n",
       "</div>"
      ],
      "text/plain": [
       "                    date_ ticker      open      high        low     close  \\\n",
       "9955  2020-08-27 18:00:00   AAPL  126.1900  126.4375  125.90250  126.1750   \n",
       "9956  2020-08-27 19:00:00   AAPL  126.2025  126.2025  123.84000  124.3575   \n",
       "9957  2020-08-27 20:00:00   AAPL  124.3500  125.4250  124.04000  125.4000   \n",
       "9958  2020-08-27 21:00:00   AAPL  125.3500  125.8600  125.28500  125.6575   \n",
       "9959  2020-08-27 22:00:00   AAPL  125.6575  125.8000  124.99250  125.0425   \n",
       "9960  2020-08-28 16:00:00   AAPL  126.0025  126.2500  124.86000  125.8750   \n",
       "9961  2020-08-28 17:00:00   AAPL  125.8750  125.8800  125.06250  125.0875   \n",
       "9962  2020-08-28 18:00:00   AAPL  125.1700  125.8950  125.00000  125.5775   \n",
       "9963  2020-08-28 19:00:00   AAPL  125.5650  125.6750  125.12500  125.3575   \n",
       "9964  2020-08-28 20:00:00   AAPL  125.3425  125.4000  124.58125  125.0150   \n",
       "9965  2020-08-28 21:00:00   AAPL  125.0350  125.6675  124.92000  125.2275   \n",
       "9966  2020-08-28 22:00:00   AAPL  125.2150  126.4425  124.72500  124.7950   \n",
       "9967  2020-08-31 16:00:00   AAPL   31.8750   32.1250   31.58750   32.0075   \n",
       "9968  2020-08-31 17:00:00   AAPL   32.0075   32.3750   31.78500   32.2675   \n",
       "9969  2020-08-31 18:00:00   AAPL   32.2700   32.5125   31.92500   32.2275   \n",
       "9970  2020-08-31 19:00:00   AAPL   32.2375   32.4225   32.13250   32.3675   \n",
       "9971  2020-08-31 20:00:00   AAPL   32.3675   32.7500   32.35000   32.6700   \n",
       "9972  2020-08-31 21:00:00   AAPL   32.6675   32.7200   32.44250   32.6275   \n",
       "9973  2020-08-31 22:00:00   AAPL   32.6275   32.6475   32.19000   32.1900   \n",
       "9974  2020-09-01 16:00:00   AAPL   33.1900   33.2250   32.63250   32.9025   \n",
       "\n",
       "          vol  \n",
       "9955   142697  \n",
       "9956   330077  \n",
       "9957   170884  \n",
       "9958   138189  \n",
       "9959   311515  \n",
       "9960   250945  \n",
       "9961   221489  \n",
       "9962   162314  \n",
       "9963   111134  \n",
       "9964   243460  \n",
       "9965   209552  \n",
       "9966   643531  \n",
       "9967  1420559  \n",
       "9968  1803754  \n",
       "9969  1509235  \n",
       "9970   679876  \n",
       "9971   983721  \n",
       "9972   670343  \n",
       "9973  1462328  \n",
       "9974   951866  "
      ]
     },
     "execution_count": 132,
     "metadata": {},
     "output_type": "execute_result"
    }
   ],
   "source": [
    "i = 9965\n",
    "aapl[i - 10 : i + 10]\n"
   ]
  },
  {
   "cell_type": "code",
   "execution_count": 137,
   "metadata": {},
   "outputs": [],
   "source": [
    "aapl.loc[9966:, ['open', 'high', 'low', 'close']] *= 4"
   ]
  },
  {
   "cell_type": "code",
   "execution_count": 138,
   "metadata": {},
   "outputs": [
    {
     "data": {
      "image/png": "[encoded data removed]",
      "text/plain": [
       "<Figure size 432x288 with 1 Axes>"
      ]
     },
     "metadata": {
      "needs_background": "light"
     },
     "output_type": "display_data"
    }
   ],
   "source": [
    "scatter(aapl)"
   ]
  },
  {
   "cell_type": "markdown",
   "metadata": {},
   "source": [
    "# MSFT"
   ]
  },
  {
   "cell_type": "code",
   "execution_count": 133,
   "metadata": {},
   "outputs": [
    {
     "data": {
      "image/png": "[encoded data removed]",
      "text/plain": [
       "<Figure size 432x288 with 1 Axes>"
      ]
     },
     "metadata": {
      "needs_background": "light"
     },
     "output_type": "display_data"
    }
   ],
   "source": [
    "scatter(msft)"
   ]
  },
  {
   "cell_type": "markdown",
   "metadata": {},
   "source": [
    "# GOOG"
   ]
  },
  {
   "cell_type": "code",
   "execution_count": 134,
   "metadata": {},
   "outputs": [
    {
     "data": {
      "image/png": "[encoded data removed]",
      "text/plain": [
       "<Figure size 432x288 with 1 Axes>"
      ]
     },
     "metadata": {
      "needs_background": "light"
     },
     "output_type": "display_data"
    }
   ],
   "source": [
    "scatter(goog)"
   ]
  },
  {
   "cell_type": "markdown",
   "metadata": {},
   "source": [
    "# GOOGL"
   ]
  },
  {
   "cell_type": "code",
   "execution_count": 135,
   "metadata": {},
   "outputs": [
    {
     "data": {
      "image/png": "[encoded data removed]",
      "text/plain": [
       "<Figure size 432x288 with 1 Axes>"
      ]
     },
     "metadata": {
      "needs_background": "light"
     },
     "output_type": "display_data"
    }
   ],
   "source": [
    "scatter(googl)"
   ]
  }
 ],
 "metadata": {
  "kernelspec": {
   "display_name": "Python 3.10.4 64-bit",
   "language": "python",
   "name": "python3"
  },
  "language_info": {
   "codemirror_mode": {
    "name": "ipython",
    "version": 3
   },
   "file_extension": ".py",
   "mimetype": "text/x-python",
   "name": "python",
   "nbconvert_exporter": "python",
   "pygments_lexer": "ipython3",
   "version": "3.10.4"
  },
  "orig_nbformat": 4,
  "vscode": {
   "interpreter": {
    "hash": "1dd0381d1fc2fb15dda0c9601b2866ce5a466e54b3f253773e8ed097d13694fa"
   }
  }
 },
 "nbformat": 4,
 "nbformat_minor": 2
}
