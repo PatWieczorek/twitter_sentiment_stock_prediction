{
 "cells": [
  {
   "cell_type": "code",
   "execution_count": 3,
   "metadata": {},
   "outputs": [],
   "source": [
    "import pandas as pd\n",
    "import numpy as np"
   ]
  },
  {
   "cell_type": "code",
   "execution_count": 2,
   "metadata": {},
   "outputs": [],
   "source": [
    "def get_high_corr(df, threshold=0.95):\n",
    "    corrs = {}\n",
    "    for i in range(len(df.columns)):\n",
    "        corrs[df.columns[i]] = {}\n",
    "        for j in range(len(df.columns[i:])):\n",
    "            a = df.columns[i]\n",
    "            b = df.columns[i+j]\n",
    "            try:\n",
    "                corrs[df.columns[i]][df.columns[i+j]] = df[a].corr(df[b])\n",
    "            except:\n",
    "                continue\n",
    "                #print(a, b, \"RIP\")\n",
    "    high_corr = []\n",
    "    for i in corrs.keys():\n",
    "        for j in corrs[i].keys():\n",
    "            if np.abs(corrs[i][j]) > threshold:\n",
    "                high_corr.append((i,j))\n",
    "                #print(i,j, corrs[i][j])\n",
    "    print(len(high_corr))\n",
    "    return [i for i in high_corr if i[0] != i[1]]"
   ]
  },
  {
   "cell_type": "code",
   "execution_count": 4,
   "metadata": {},
   "outputs": [
    {
     "name": "stdout",
     "output_type": "stream",
     "text": [
      "amzn\n",
      "39\n",
      "[('open', 'high'), ('open', 'low'), ('open', 'close'), ('high', 'low'), ('high', 'close'), ('low', 'close')]\n",
      "\n",
      "aapl\n",
      "37\n",
      "[('open', 'high'), ('open', 'low'), ('open', 'close'), ('high', 'low'), ('high', 'close'), ('low', 'close')]\n",
      "\n",
      "tsla\n",
      "39\n",
      "[('open', 'high'), ('open', 'low'), ('open', 'close'), ('high', 'low'), ('high', 'close'), ('low', 'close')]\n",
      "\n",
      "msft\n",
      "39\n",
      "[('open', 'high'), ('open', 'low'), ('open', 'close'), ('high', 'low'), ('high', 'close'), ('low', 'close')]\n",
      "\n",
      "goog\n",
      "39\n",
      "[('open', 'high'), ('open', 'low'), ('open', 'close'), ('high', 'low'), ('high', 'close'), ('low', 'close')]\n",
      "\n",
      "googl\n",
      "39\n",
      "[('open', 'high'), ('open', 'low'), ('open', 'close'), ('high', 'low'), ('high', 'close'), ('low', 'close')]\n",
      "\n"
     ]
    }
   ],
   "source": [
    "for i in [\"amzn\", \"aapl\", \"tsla\", \"msft\", \"goog\", \"googl\"]:\n",
    "    df = pd.read_csv(f'../datasets/v2.1/more_cols_binned/no_weight/{i}.csv')\n",
    "    print(i)\n",
    "    print(get_high_corr(df, 0.95))\n",
    "    print()"
   ]
  }
 ],
 "metadata": {
  "kernelspec": {
   "display_name": "Python 3.10.4 64-bit",
   "language": "python",
   "name": "python3"
  },
  "language_info": {
   "codemirror_mode": {
    "name": "ipython",
    "version": 3
   },
   "file_extension": ".py",
   "mimetype": "text/x-python",
   "name": "python",
   "nbconvert_exporter": "python",
   "pygments_lexer": "ipython3",
   "version": "3.10.4"
  },
  "orig_nbformat": 4,
  "vscode": {
   "interpreter": {
    "hash": "1dd0381d1fc2fb15dda0c9601b2866ce5a466e54b3f253773e8ed097d13694fa"
   }
  }
 },
 "nbformat": 4,
 "nbformat_minor": 2
}
