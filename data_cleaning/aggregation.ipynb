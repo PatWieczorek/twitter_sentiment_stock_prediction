{
 "cells": [
  {
   "cell_type": "code",
   "execution_count": 1,
   "metadata": {},
   "outputs": [],
   "source": [
    "import pandas as pd\n",
    "import numpy as np\n",
    "from vaderSentiment.vaderSentiment import SentimentIntensityAnalyzer"
   ]
  },
  {
   "cell_type": "code",
   "execution_count": 2,
   "metadata": {},
   "outputs": [],
   "source": [
    "tweets_main = pd.read_csv(f'../datasets/tweets_full.csv')\n",
    "analyzer = SentimentIntensityAnalyzer()"
   ]
  },
  {
   "cell_type": "code",
   "execution_count": 189,
   "metadata": {},
   "outputs": [],
   "source": [
    "company = \"TSLA\"\n",
    "tweets = tweets_main[tweets_main[\"ticker_symbol\"] == company].copy().reset_index(drop=True)"
   ]
  },
  {
   "cell_type": "code",
   "execution_count": 3,
   "metadata": {},
   "outputs": [],
   "source": [
    "def clean_body(col):\n",
    "    import re\n",
    "\n",
    "    # usun urle\n",
    "    # usun hashtagi\n",
    "    pattern_url = r\"https?://[a-z.]+/[?a-z0-9./]+\"\n",
    "    pattern_hash_dolla = r\"[\\$#][a-z.]+\"\n",
    "    col = re.sub(pattern_url, \"\", col, flags=re.I)\n",
    "    col = re.sub(pattern_hash_dolla, \"\", col, flags=re.I)\n",
    "\n",
    "    return col\n",
    "\n",
    "\n",
    "def convert_dict_keyval_to_col(dict, key):\n",
    "    new_col = []\n",
    "    for i in dict:\n",
    "        new_col.append(i[key])\n",
    "    return new_col\n",
    "\n",
    "\n",
    "def calc_weight(tweet):\n",
    "    retweets = tweet.retweet_num\n",
    "    likes = tweet.like_num\n",
    "    comms = tweet.comment_num\n",
    "    weight = 0\n",
    "    if tweet.retweet_num == 0:\n",
    "        weight = 1 + 0.05 * likes + 0.2 * comms\n",
    "    else:\n",
    "        weight = retweets * (1 + 0.05 * likes + 0.2 * comms)\n",
    "    return weight\n",
    "\n",
    "\n",
    "def calc_weight_2(tweet):\n",
    "    retweets = tweet.retweet_num\n",
    "    likes = tweet.like_num\n",
    "    comms = tweet.comment_num\n",
    "\n",
    "    weight = 1 + 0.5 * retweets + 0.05 * likes + 0.2 * comms\n",
    "    return weight\n",
    "\n",
    "\n",
    "def explore_weights(df, col):\n",
    "    print(df[df[col] == max(df[col])].body)\n",
    "    print(tweets[col].describe(percentiles=[0.05 * (i + 1) for i in range(19)]))\n",
    "\n",
    "\n",
    "def percentage_weights(df, col):\n",
    "    base = round(len(df.loc[df[col] == 1]) / len(df), 3) * 100\n",
    "    one_three = len(df.loc[(df[col] > 1) & (df[col] < 3)]) / len(tweets) * 100\n",
    "    three_five = len(df.loc[(df[col] > 3) & (df[col] < 10)]) / len(tweets) * 100\n",
    "\n",
    "    print(\"Worth 1 tweet:\", round(base, 3))\n",
    "    print(\"Worth 1 to 3 tweets:\", round(one_three, 3))\n",
    "    print(\"Worth 3 to 5 tweets:\", round(three_five, 3))\n",
    "    print(\"Total: \", round(base, 3) + round(one_three, 3) + round(three_five, 3))\n"
   ]
  },
  {
   "cell_type": "code",
   "execution_count": 14,
   "metadata": {},
   "outputs": [],
   "source": [
    "test = pd.DataFrame(\n",
    "    {\"body\": tweets_main.body.apply(clean_body)}\n",
    ")\n"
   ]
  },
  {
   "cell_type": "code",
   "execution_count": 15,
   "metadata": {},
   "outputs": [],
   "source": [
    "test[\"len\"] = test.body.str.len()"
   ]
  },
  {
   "cell_type": "code",
   "execution_count": 23,
   "metadata": {},
   "outputs": [],
   "source": [
    "too_long = test.loc[test[\"len\"] > 280, \"body\"].iloc[5]"
   ]
  },
  {
   "cell_type": "code",
   "execution_count": 24,
   "metadata": {},
   "outputs": [
    {
     "data": {
      "text/plain": [
       "'RT @businessEMA: U.S Patent: 8927176Current collector plates of bulk-solidifying amorphous alloys $AAPL $LQMT -Parser?Sect1=PTO2&Sect2=HITOFF&u=%2Fnetahtml%2FPTO%2Fsearch-adv.htm&r=1&f=G&l=50&d=PTXT&p=1&S1=%22Crucible+Intellectual+Property%22&OS=%22Crucible+Intellectual+Property%22&RS=%22Crucible+Intellectual+Property%22…'"
      ]
     },
     "execution_count": 24,
     "metadata": {},
     "output_type": "execute_result"
    }
   ],
   "source": [
    "too_long"
   ]
  },
  {
   "cell_type": "code",
   "execution_count": null,
   "metadata": {},
   "outputs": [],
   "source": [
    "to_clean = '''RT @fakeusemame1: @fakeusemame2 Just bought\n",
    "30.6 BTC from https://fakeexchange.com &amp; I am\n",
    "hating the crash 😟 :(\n",
    "Hope it recovers so...'''"
   ]
  },
  {
   "cell_type": "code",
   "execution_count": 191,
   "metadata": {},
   "outputs": [],
   "source": [
    "def calc_sentiment(df, to_preserve):\n",
    "    df = df.copy()\n",
    "    \n",
    "    sent = df[\"body\"].apply(analyzer.polarity_scores)\n",
    "\n",
    "    sentiment_val = pd.DataFrame()\n",
    "    sentiment_val[\"pos\"] = convert_dict_keyval_to_col(sent, \"pos\")\n",
    "    sentiment_val[\"neu\"] = convert_dict_keyval_to_col(sent, \"neu\")\n",
    "    sentiment_val[\"neg\"] = convert_dict_keyval_to_col(sent, \"neg\")\n",
    "    sentiment_val[\"comp\"] = convert_dict_keyval_to_col(sent, \"compound\")\n",
    "\n",
    "    for col in to_preserve:\n",
    "        sentiment_val[col] = df[col]\n",
    "\n",
    "    return sentiment_val"
   ]
  },
  {
   "cell_type": "code",
   "execution_count": 192,
   "metadata": {},
   "outputs": [],
   "source": [
    "tweets[\"weight\"] = tweets.apply(calc_weight, axis=1)\n",
    "#tweets[\"weight2\"] = tweets.apply(calc_weight_2, axis=1)"
   ]
  },
  {
   "cell_type": "code",
   "execution_count": 193,
   "metadata": {},
   "outputs": [
    {
     "data": {
      "text/plain": [
       "Index(['tweet_id', 'post_date', 'body', 'comment_num', 'retweet_num',\n",
       "       'like_num', 'ticker_symbol', 'weight'],\n",
       "      dtype='object')"
      ]
     },
     "execution_count": 193,
     "metadata": {},
     "output_type": "execute_result"
    }
   ],
   "source": [
    "tweets.columns"
   ]
  },
  {
   "cell_type": "code",
   "execution_count": 194,
   "metadata": {},
   "outputs": [],
   "source": [
    "sentiment = calc_sentiment(\n",
    "    tweets,\n",
    "    to_preserve=[\n",
    "        \"post_date\",\n",
    "        \"ticker_symbol\",\n",
    "        \"weight\",\n",
    "        # \"weight2\",\n",
    "        \"comment_num\",\n",
    "        \"retweet_num\",\n",
    "        \"like_num\",\n",
    "    ],\n",
    ")\n"
   ]
  },
  {
   "cell_type": "code",
   "execution_count": 195,
   "metadata": {},
   "outputs": [
    {
     "data": {
      "text/plain": [
       "Index(['pos', 'neu', 'neg', 'comp', 'post_date', 'ticker_symbol', 'weight',\n",
       "       'comment_num', 'retweet_num', 'like_num'],\n",
       "      dtype='object')"
      ]
     },
     "execution_count": 195,
     "metadata": {},
     "output_type": "execute_result"
    }
   ],
   "source": [
    "sentiment.columns"
   ]
  },
  {
   "cell_type": "code",
   "execution_count": 196,
   "metadata": {},
   "outputs": [],
   "source": [
    "# round down\n",
    "def round_down_hour(col):\n",
    "    try:\n",
    "        date, time = col.split(\" \")\n",
    "        time = f\"{time[0:2]}:00:00\"\n",
    "    except:\n",
    "        print(col)\n",
    "        raise Exception\n",
    "    return date + \" \" + time\n",
    "\n",
    "\n",
    "def aggregate_simple(df):\n",
    "    aggregated = pd.pivot_table(\n",
    "        df,\n",
    "        index=[\"post_date\"],\n",
    "        aggfunc={\n",
    "            \"pos\": [\"max\", \"min\", \"std\", \"mean\", \"median\", \"count\"],\n",
    "            \"neu\": [\"max\", \"min\", \"std\", \"mean\", \"median\"],\n",
    "            \"neg\": [\"max\", \"min\", \"std\", \"mean\", \"median\"],\n",
    "            \"comp\": [\"max\", \"min\", \"std\", \"mean\", \"median\"],\n",
    "            \"comment_num\": [\"sum\"],\n",
    "            \"retweet_num\": [\"sum\"],\n",
    "            \"like_num\": [\"sum\"],\n",
    "        },\n",
    "    ).reset_index()\n",
    "\n",
    "    aggregated.columns = [f\"{i}_{j}\" for i, j in aggregated.columns]\n",
    "    # clean columns\n",
    "    aggregated.rename(\n",
    "        columns={\n",
    "            f\"post_date_\": f\"post_date\",\n",
    "            f\"pos_count\": f\"count\",\n",
    "        },\n",
    "        inplace=True,\n",
    "    )\n",
    "\n",
    "    return aggregated\n",
    "\n",
    "\n",
    "def reweight(df, weight):\n",
    "    cols = [\"pos\", \"neu\", \"neg\", \"comp\"]\n",
    "    for col in cols:\n",
    "        df[col] *= df[weight]\n",
    "    return df\n",
    "\n",
    "\n",
    "def get_total_tweets(df):\n",
    "    df[\"post_date\"] = df[\"post_date\"].apply(round_down_hour)\n",
    "    grouped = pd.pivot_table(\n",
    "        df,\n",
    "        index=[\"post_date\"],\n",
    "        aggfunc=[\"count\"],\n",
    "    ).reset_index()\n",
    "    grouped.columns = [f\"{i}_{j}\" for i, j in grouped.columns]\n",
    "    grouped.rename(\n",
    "        columns={\n",
    "            f\"post_date_\": f\"post_date\",\n",
    "            f\"count_body\": f\"total_count\",\n",
    "        },\n",
    "        inplace=True,\n",
    "    )\n",
    "    return grouped[[\"post_date\", \"total_count\"]]\n",
    "\n",
    "\n",
    "def get_relative_count(df, df_total):\n",
    "\n",
    "    mrg = df.merge(df_total, how=\"left\", on=\"post_date\")\n",
    "    df[\"relative_count\"] = mrg[\"count\"] / mrg[\"total_count\"]\n",
    "    return df\n"
   ]
  },
  {
   "cell_type": "code",
   "execution_count": 197,
   "metadata": {},
   "outputs": [],
   "source": [
    "total_tweets = get_total_tweets(tweets_main)\n",
    "total_tweets.head()"
   ]
  },
  {
   "cell_type": "code",
   "execution_count": 198,
   "metadata": {},
   "outputs": [],
   "source": [
    "sentiment[\"post_date\"] = sentiment[\"post_date\"].apply(round_down_hour)"
   ]
  },
  {
   "cell_type": "code",
   "execution_count": 199,
   "metadata": {},
   "outputs": [
    {
     "data": {
      "text/html": [
       "<div>\n",
       "<style scoped>\n",
       "    .dataframe tbody tr th:only-of-type {\n",
       "        vertical-align: middle;\n",
       "    }\n",
       "\n",
       "    .dataframe tbody tr th {\n",
       "        vertical-align: top;\n",
       "    }\n",
       "\n",
       "    .dataframe thead th {\n",
       "        text-align: right;\n",
       "    }\n",
       "</style>\n",
       "<table border=\"1\" class=\"dataframe\">\n",
       "  <thead>\n",
       "    <tr style=\"text-align: right;\">\n",
       "      <th></th>\n",
       "      <th>pos</th>\n",
       "      <th>neu</th>\n",
       "      <th>neg</th>\n",
       "      <th>comp</th>\n",
       "      <th>post_date</th>\n",
       "      <th>ticker_symbol</th>\n",
       "      <th>comment_num</th>\n",
       "      <th>retweet_num</th>\n",
       "      <th>like_num</th>\n",
       "    </tr>\n",
       "  </thead>\n",
       "  <tbody>\n",
       "    <tr>\n",
       "      <th>0</th>\n",
       "      <td>0.0</td>\n",
       "      <td>1.05</td>\n",
       "      <td>0.0</td>\n",
       "      <td>0.0</td>\n",
       "      <td>2015-01-01 01:00:00</td>\n",
       "      <td>TSLA</td>\n",
       "      <td>0</td>\n",
       "      <td>0</td>\n",
       "      <td>1</td>\n",
       "    </tr>\n",
       "    <tr>\n",
       "      <th>1</th>\n",
       "      <td>0.0</td>\n",
       "      <td>1.05</td>\n",
       "      <td>0.0</td>\n",
       "      <td>0.0</td>\n",
       "      <td>2015-01-01 01:00:00</td>\n",
       "      <td>TSLA</td>\n",
       "      <td>0</td>\n",
       "      <td>0</td>\n",
       "      <td>1</td>\n",
       "    </tr>\n",
       "    <tr>\n",
       "      <th>2</th>\n",
       "      <td>0.0</td>\n",
       "      <td>1.05</td>\n",
       "      <td>0.0</td>\n",
       "      <td>0.0</td>\n",
       "      <td>2015-01-01 01:00:00</td>\n",
       "      <td>TSLA</td>\n",
       "      <td>0</td>\n",
       "      <td>0</td>\n",
       "      <td>1</td>\n",
       "    </tr>\n",
       "    <tr>\n",
       "      <th>3</th>\n",
       "      <td>0.0</td>\n",
       "      <td>1.05</td>\n",
       "      <td>0.0</td>\n",
       "      <td>0.0</td>\n",
       "      <td>2015-01-01 01:00:00</td>\n",
       "      <td>TSLA</td>\n",
       "      <td>0</td>\n",
       "      <td>0</td>\n",
       "      <td>1</td>\n",
       "    </tr>\n",
       "    <tr>\n",
       "      <th>4</th>\n",
       "      <td>0.0</td>\n",
       "      <td>1.05</td>\n",
       "      <td>0.0</td>\n",
       "      <td>0.0</td>\n",
       "      <td>2015-01-01 01:00:00</td>\n",
       "      <td>TSLA</td>\n",
       "      <td>0</td>\n",
       "      <td>0</td>\n",
       "      <td>1</td>\n",
       "    </tr>\n",
       "  </tbody>\n",
       "</table>\n",
       "</div>"
      ],
      "text/plain": [
       "   pos   neu  neg  comp            post_date ticker_symbol  comment_num  \\\n",
       "0  0.0  1.05  0.0   0.0  2015-01-01 01:00:00          TSLA            0   \n",
       "1  0.0  1.05  0.0   0.0  2015-01-01 01:00:00          TSLA            0   \n",
       "2  0.0  1.05  0.0   0.0  2015-01-01 01:00:00          TSLA            0   \n",
       "3  0.0  1.05  0.0   0.0  2015-01-01 01:00:00          TSLA            0   \n",
       "4  0.0  1.05  0.0   0.0  2015-01-01 01:00:00          TSLA            0   \n",
       "\n",
       "   retweet_num  like_num  \n",
       "0            0         1  \n",
       "1            0         1  \n",
       "2            0         1  \n",
       "3            0         1  \n",
       "4            0         1  "
      ]
     },
     "execution_count": 199,
     "metadata": {},
     "output_type": "execute_result"
    }
   ],
   "source": [
    "sentiment_w1 = reweight(sentiment.copy(), \"weight\")\n",
    "#sentiment_w1 = sentiment_w1.drop([\"weight\", \"weight2\"], axis=1)\n",
    "sentiment_w1 = sentiment_w1.drop([\"weight\"], axis=1)\n",
    "sentiment_w1.head()\n"
   ]
  },
  {
   "cell_type": "code",
   "execution_count": 200,
   "metadata": {},
   "outputs": [],
   "source": [
    "#sentiment_w2 = reweight(sentiment.copy(), \"weight2\")\n",
    "#sentiment_w2 = sentiment_w2.drop([\"weight\", \"weight2\"], axis=1)\n",
    "#sentiment_w2.head()"
   ]
  },
  {
   "cell_type": "code",
   "execution_count": 201,
   "metadata": {},
   "outputs": [],
   "source": [
    "sentiment_no_weight = sentiment.drop([\"weight\"], axis=1)"
   ]
  },
  {
   "cell_type": "code",
   "execution_count": 202,
   "metadata": {},
   "outputs": [],
   "source": [
    "agg_w1 = aggregate_simple(sentiment_w1)\n",
    "agg_w1 = get_relative_count(agg_w1, total_tweets)\n",
    "agg_w1 = agg_w1.fillna(0)"
   ]
  },
  {
   "cell_type": "code",
   "execution_count": 203,
   "metadata": {},
   "outputs": [
    {
     "data": {
      "text/html": [
       "<div>\n",
       "<style scoped>\n",
       "    .dataframe tbody tr th:only-of-type {\n",
       "        vertical-align: middle;\n",
       "    }\n",
       "\n",
       "    .dataframe tbody tr th {\n",
       "        vertical-align: top;\n",
       "    }\n",
       "\n",
       "    .dataframe thead th {\n",
       "        text-align: right;\n",
       "    }\n",
       "</style>\n",
       "<table border=\"1\" class=\"dataframe\">\n",
       "  <thead>\n",
       "    <tr style=\"text-align: right;\">\n",
       "      <th></th>\n",
       "      <th>post_date</th>\n",
       "      <th>comment_num_sum</th>\n",
       "      <th>comp_max</th>\n",
       "      <th>comp_mean</th>\n",
       "      <th>comp_median</th>\n",
       "      <th>comp_min</th>\n",
       "      <th>comp_std</th>\n",
       "      <th>like_num_sum</th>\n",
       "      <th>neg_max</th>\n",
       "      <th>neg_mean</th>\n",
       "      <th>...</th>\n",
       "      <th>neu_min</th>\n",
       "      <th>neu_std</th>\n",
       "      <th>count</th>\n",
       "      <th>pos_max</th>\n",
       "      <th>pos_mean</th>\n",
       "      <th>pos_median</th>\n",
       "      <th>pos_min</th>\n",
       "      <th>pos_std</th>\n",
       "      <th>retweet_num_sum</th>\n",
       "      <th>relative_count</th>\n",
       "    </tr>\n",
       "  </thead>\n",
       "  <tbody>\n",
       "    <tr>\n",
       "      <th>0</th>\n",
       "      <td>2015-01-01 01:00:00</td>\n",
       "      <td>0</td>\n",
       "      <td>0.22253</td>\n",
       "      <td>-0.000377</td>\n",
       "      <td>0.0000</td>\n",
       "      <td>-0.2263</td>\n",
       "      <td>0.105793</td>\n",
       "      <td>10</td>\n",
       "      <td>0.160</td>\n",
       "      <td>0.0160</td>\n",
       "      <td>...</td>\n",
       "      <td>0.840</td>\n",
       "      <td>0.066781</td>\n",
       "      <td>10</td>\n",
       "      <td>0.1056</td>\n",
       "      <td>0.010560</td>\n",
       "      <td>0.0000</td>\n",
       "      <td>0.0</td>\n",
       "      <td>0.033394</td>\n",
       "      <td>0</td>\n",
       "      <td>0.200000</td>\n",
       "    </tr>\n",
       "    <tr>\n",
       "      <th>1</th>\n",
       "      <td>2015-01-01 02:00:00</td>\n",
       "      <td>0</td>\n",
       "      <td>0.51060</td>\n",
       "      <td>0.026872</td>\n",
       "      <td>0.0000</td>\n",
       "      <td>-0.5719</td>\n",
       "      <td>0.355800</td>\n",
       "      <td>3</td>\n",
       "      <td>0.150</td>\n",
       "      <td>0.0250</td>\n",
       "      <td>...</td>\n",
       "      <td>0.708</td>\n",
       "      <td>0.127404</td>\n",
       "      <td>6</td>\n",
       "      <td>0.2920</td>\n",
       "      <td>0.071033</td>\n",
       "      <td>0.0000</td>\n",
       "      <td>0.0</td>\n",
       "      <td>0.120830</td>\n",
       "      <td>0</td>\n",
       "      <td>0.157895</td>\n",
       "    </tr>\n",
       "    <tr>\n",
       "      <th>2</th>\n",
       "      <td>2015-01-01 03:00:00</td>\n",
       "      <td>0</td>\n",
       "      <td>0.80650</td>\n",
       "      <td>0.397575</td>\n",
       "      <td>0.3919</td>\n",
       "      <td>0.0000</td>\n",
       "      <td>0.343283</td>\n",
       "      <td>0</td>\n",
       "      <td>0.000</td>\n",
       "      <td>0.0000</td>\n",
       "      <td>...</td>\n",
       "      <td>0.687</td>\n",
       "      <td>0.134869</td>\n",
       "      <td>4</td>\n",
       "      <td>0.3130</td>\n",
       "      <td>0.187500</td>\n",
       "      <td>0.2185</td>\n",
       "      <td>0.0</td>\n",
       "      <td>0.134869</td>\n",
       "      <td>0</td>\n",
       "      <td>0.137931</td>\n",
       "    </tr>\n",
       "    <tr>\n",
       "      <th>3</th>\n",
       "      <td>2015-01-01 04:00:00</td>\n",
       "      <td>0</td>\n",
       "      <td>0.44040</td>\n",
       "      <td>0.039600</td>\n",
       "      <td>0.0396</td>\n",
       "      <td>-0.3612</td>\n",
       "      <td>0.566817</td>\n",
       "      <td>0</td>\n",
       "      <td>0.185</td>\n",
       "      <td>0.0925</td>\n",
       "      <td>...</td>\n",
       "      <td>0.734</td>\n",
       "      <td>0.057276</td>\n",
       "      <td>2</td>\n",
       "      <td>0.2660</td>\n",
       "      <td>0.133000</td>\n",
       "      <td>0.1330</td>\n",
       "      <td>0.0</td>\n",
       "      <td>0.188090</td>\n",
       "      <td>0</td>\n",
       "      <td>0.066667</td>\n",
       "    </tr>\n",
       "    <tr>\n",
       "      <th>4</th>\n",
       "      <td>2015-01-01 05:00:00</td>\n",
       "      <td>0</td>\n",
       "      <td>0.00000</td>\n",
       "      <td>0.000000</td>\n",
       "      <td>0.0000</td>\n",
       "      <td>0.0000</td>\n",
       "      <td>0.000000</td>\n",
       "      <td>0</td>\n",
       "      <td>0.000</td>\n",
       "      <td>0.0000</td>\n",
       "      <td>...</td>\n",
       "      <td>1.000</td>\n",
       "      <td>0.000000</td>\n",
       "      <td>1</td>\n",
       "      <td>0.0000</td>\n",
       "      <td>0.000000</td>\n",
       "      <td>0.0000</td>\n",
       "      <td>0.0</td>\n",
       "      <td>0.000000</td>\n",
       "      <td>0</td>\n",
       "      <td>0.041667</td>\n",
       "    </tr>\n",
       "  </tbody>\n",
       "</table>\n",
       "<p>5 rows × 26 columns</p>\n",
       "</div>"
      ],
      "text/plain": [
       "             post_date  comment_num_sum  comp_max  comp_mean  comp_median  \\\n",
       "0  2015-01-01 01:00:00                0   0.22253  -0.000377       0.0000   \n",
       "1  2015-01-01 02:00:00                0   0.51060   0.026872       0.0000   \n",
       "2  2015-01-01 03:00:00                0   0.80650   0.397575       0.3919   \n",
       "3  2015-01-01 04:00:00                0   0.44040   0.039600       0.0396   \n",
       "4  2015-01-01 05:00:00                0   0.00000   0.000000       0.0000   \n",
       "\n",
       "   comp_min  comp_std  like_num_sum  neg_max  neg_mean  ...  neu_min  \\\n",
       "0   -0.2263  0.105793            10    0.160    0.0160  ...    0.840   \n",
       "1   -0.5719  0.355800             3    0.150    0.0250  ...    0.708   \n",
       "2    0.0000  0.343283             0    0.000    0.0000  ...    0.687   \n",
       "3   -0.3612  0.566817             0    0.185    0.0925  ...    0.734   \n",
       "4    0.0000  0.000000             0    0.000    0.0000  ...    1.000   \n",
       "\n",
       "    neu_std  count  pos_max  pos_mean  pos_median  pos_min   pos_std  \\\n",
       "0  0.066781     10   0.1056  0.010560      0.0000      0.0  0.033394   \n",
       "1  0.127404      6   0.2920  0.071033      0.0000      0.0  0.120830   \n",
       "2  0.134869      4   0.3130  0.187500      0.2185      0.0  0.134869   \n",
       "3  0.057276      2   0.2660  0.133000      0.1330      0.0  0.188090   \n",
       "4  0.000000      1   0.0000  0.000000      0.0000      0.0  0.000000   \n",
       "\n",
       "   retweet_num_sum  relative_count  \n",
       "0                0        0.200000  \n",
       "1                0        0.157895  \n",
       "2                0        0.137931  \n",
       "3                0        0.066667  \n",
       "4                0        0.041667  \n",
       "\n",
       "[5 rows x 26 columns]"
      ]
     },
     "execution_count": 203,
     "metadata": {},
     "output_type": "execute_result"
    }
   ],
   "source": [
    "agg_w1.head()"
   ]
  },
  {
   "cell_type": "code",
   "execution_count": 204,
   "metadata": {},
   "outputs": [
    {
     "data": {
      "text/html": [
       "<div>\n",
       "<style scoped>\n",
       "    .dataframe tbody tr th:only-of-type {\n",
       "        vertical-align: middle;\n",
       "    }\n",
       "\n",
       "    .dataframe tbody tr th {\n",
       "        vertical-align: top;\n",
       "    }\n",
       "\n",
       "    .dataframe thead th {\n",
       "        text-align: right;\n",
       "    }\n",
       "</style>\n",
       "<table border=\"1\" class=\"dataframe\">\n",
       "  <thead>\n",
       "    <tr style=\"text-align: right;\">\n",
       "      <th></th>\n",
       "      <th>pos</th>\n",
       "      <th>neu</th>\n",
       "      <th>neg</th>\n",
       "      <th>comp</th>\n",
       "      <th>post_date</th>\n",
       "      <th>ticker_symbol</th>\n",
       "      <th>weight</th>\n",
       "      <th>comment_num</th>\n",
       "      <th>retweet_num</th>\n",
       "      <th>like_num</th>\n",
       "    </tr>\n",
       "  </thead>\n",
       "  <tbody>\n",
       "    <tr>\n",
       "      <th>22</th>\n",
       "      <td>0.0</td>\n",
       "      <td>1.0</td>\n",
       "      <td>0.0</td>\n",
       "      <td>0.0</td>\n",
       "      <td>2015-01-01 05:00:00</td>\n",
       "      <td>TSLA</td>\n",
       "      <td>1.0</td>\n",
       "      <td>0</td>\n",
       "      <td>0</td>\n",
       "      <td>0</td>\n",
       "    </tr>\n",
       "  </tbody>\n",
       "</table>\n",
       "</div>"
      ],
      "text/plain": [
       "    pos  neu  neg  comp            post_date ticker_symbol  weight  \\\n",
       "22  0.0  1.0  0.0   0.0  2015-01-01 05:00:00          TSLA     1.0   \n",
       "\n",
       "    comment_num  retweet_num  like_num  \n",
       "22            0            0         0  "
      ]
     },
     "execution_count": 204,
     "metadata": {},
     "output_type": "execute_result"
    }
   ],
   "source": [
    "sentiment[sentiment[\"post_date\"] == \"2015-01-01 05:00:00\"].head()"
   ]
  },
  {
   "cell_type": "code",
   "execution_count": 205,
   "metadata": {},
   "outputs": [],
   "source": [
    "agg_no_w = aggregate_simple(sentiment_no_weight)\n",
    "agg_no_w = get_relative_count(agg_no_w, total_tweets)\n",
    "# std is NaN when count is 1\n",
    "agg_no_w = agg_no_w.fillna(0)"
   ]
  },
  {
   "cell_type": "code",
   "execution_count": 207,
   "metadata": {},
   "outputs": [],
   "source": [
    "#agg_w1.to_csv(f\"../datasets/v2/sentiment_weighted/w1/{company}.csv\", index=False)\n",
    "#agg_w2.to_csv(f\"../datasets/v2/sentiment_weighted/w2/{company}.csv\", index=False)"
   ]
  },
  {
   "cell_type": "code",
   "execution_count": 208,
   "metadata": {},
   "outputs": [],
   "source": [
    "agg_w1.to_csv(f\"../datasets/v3/more_cols/w1/{company}.csv\", index=False)\n",
    "agg_no_w.to_csv(f\"../datasets/v3/more_cols/no_weight/{company}.csv\", index=False)"
   ]
  }
 ],
 "metadata": {
  "kernelspec": {
   "display_name": "Python 3.10.0 64-bit",
   "language": "python",
   "name": "python3"
  },
  "language_info": {
   "codemirror_mode": {
    "name": "ipython",
    "version": 3
   },
   "file_extension": ".py",
   "mimetype": "text/x-python",
   "name": "python",
   "nbconvert_exporter": "python",
   "pygments_lexer": "ipython3",
   "version": "3.10.4"
  },
  "orig_nbformat": 4,
  "vscode": {
   "interpreter": {
    "hash": "1dd0381d1fc2fb15dda0c9601b2866ce5a466e54b3f253773e8ed097d13694fa"
   }
  }
 },
 "nbformat": 4,
 "nbformat_minor": 2
}
