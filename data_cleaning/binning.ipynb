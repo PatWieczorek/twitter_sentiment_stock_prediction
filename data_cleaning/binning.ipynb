{
 "cells": [
  {
   "cell_type": "code",
   "execution_count": 1,
   "metadata": {},
   "outputs": [],
   "source": [
    "import pandas as pd\n",
    "import seaborn as sns"
   ]
  },
  {
   "cell_type": "markdown",
   "metadata": {},
   "source": [
    "Plik w tworzym tworze zmienne dzielace dane na czesci wzgledem wzrostu tak aby dystrybucja wszystkich danych w kazdej kategorii byla rowna lub zblizona"
   ]
  },
  {
   "cell_type": "code",
   "execution_count": 2,
   "metadata": {},
   "outputs": [],
   "source": [
    "df = pd.read_csv('../datasets/full_clean.csv', parse_dates=['date_'])\n"
   ]
  },
  {
   "cell_type": "code",
   "execution_count": 3,
   "metadata": {},
   "outputs": [
    {
     "data": {
      "text/plain": [
       "array(['AMZN', 'GOOGL', 'GOOG', 'TSLA', 'AAPL', 'MSFT'], dtype=object)"
      ]
     },
     "execution_count": 3,
     "metadata": {},
     "output_type": "execute_result"
    }
   ],
   "source": [
    "df.ticker.unique()"
   ]
  },
  {
   "cell_type": "code",
   "execution_count": 4,
   "metadata": {},
   "outputs": [
    {
     "data": {
      "text/plain": [
       "Index(['date_', 'ticker', 'open', 'high', 'low', 'close', 'vol', 'max_comp',\n",
       "       'max_neg', 'max_neu', 'max_pos', 'min_comp', 'min_neg', 'min_neu',\n",
       "       'min_pos', 'std_comp', 'std_neg', 'std_neu', 'std_pos', 'mean_comp',\n",
       "       'mean_neg', 'mean_neu', 'mean_pos', 'median_comp', 'median_neg',\n",
       "       'median_neu', 'median_pos', 'count'],\n",
       "      dtype='object')"
      ]
     },
     "execution_count": 4,
     "metadata": {},
     "output_type": "execute_result"
    }
   ],
   "source": [
    "df.columns"
   ]
  },
  {
   "cell_type": "code",
   "execution_count": 5,
   "metadata": {},
   "outputs": [],
   "source": [
    "bins_5_vals = [-100, -0.75, -0.25, 0.25, 0.75, 100]"
   ]
  },
  {
   "cell_type": "markdown",
   "metadata": {},
   "source": [
    "# AMZN\n",
    "\n",
    "1. Adjust prices to a split by dividing them by 20"
   ]
  },
  {
   "cell_type": "code",
   "execution_count": 6,
   "metadata": {},
   "outputs": [],
   "source": [
    "amzn = df[df['ticker'] == 'AMZN'].copy()\n",
    "amzn[['open', 'high', 'low', 'close']] = amzn[['open', 'high', 'low', 'close']]/20\n",
    "amzn['diffs'] = amzn.close.pct_change() * 100\n",
    "# drop 1 NaN value\n",
    "amzn = amzn.dropna()"
   ]
  },
  {
   "cell_type": "code",
   "execution_count": 7,
   "metadata": {},
   "outputs": [
    {
     "data": {
      "text/plain": [
       "<AxesSubplot:xlabel='diffs', ylabel='Count'>"
      ]
     },
     "execution_count": 7,
     "metadata": {},
     "output_type": "execute_result"
    },
    {
     "data": {
      "image/png": "[encoded data removed]",
      "text/plain": [
       "<Figure size 432x288 with 1 Axes>"
      ]
     },
     "metadata": {
      "needs_background": "light"
     },
     "output_type": "display_data"
    }
   ],
   "source": [
    "sns.histplot(amzn, x='diffs')"
   ]
  },
  {
   "cell_type": "code",
   "execution_count": 8,
   "metadata": {},
   "outputs": [
    {
     "data": {
      "text/plain": [
       "count    8613.000000\n",
       "mean        0.022990\n",
       "std         0.697298\n",
       "min        -9.063159\n",
       "2.5%       -1.189902\n",
       "50%         0.013113\n",
       "97.5%       1.245116\n",
       "max        16.392219\n",
       "Name: diffs, dtype: float64"
      ]
     },
     "execution_count": 8,
     "metadata": {},
     "output_type": "execute_result"
    }
   ],
   "source": [
    "amzn.diffs.describe(percentiles=[0.025, 0.975])"
   ]
  },
  {
   "cell_type": "markdown",
   "metadata": {},
   "source": [
    "We can see that 95% of the values lie in range -1.19% to 1.25%"
   ]
  },
  {
   "cell_type": "code",
   "execution_count": 9,
   "metadata": {},
   "outputs": [
    {
     "data": {
      "text/plain": [
       "<AxesSubplot:xlabel='diffs', ylabel='Count'>"
      ]
     },
     "execution_count": 9,
     "metadata": {},
     "output_type": "execute_result"
    },
    {
     "data": {
      "image/png": "[encoded data removed]",
      "text/plain": [
       "<Figure size 432x288 with 1 Axes>"
      ]
     },
     "metadata": {
      "needs_background": "light"
     },
     "output_type": "display_data"
    }
   ],
   "source": [
    "diffs_no_outliers = amzn[(amzn['diffs']>-1.20) & (amzn['diffs']<1.26)].copy()\n",
    "\n",
    "sns.histplot(diffs_no_outliers, x='diffs')"
   ]
  },
  {
   "cell_type": "code",
   "execution_count": 10,
   "metadata": {},
   "outputs": [
    {
     "data": {
      "text/plain": [
       "<AxesSubplot:xlabel='diffs', ylabel='Count'>"
      ]
     },
     "execution_count": 10,
     "metadata": {},
     "output_type": "execute_result"
    },
    {
     "data": {
      "image/png": "[encoded data removed]",
      "text/plain": [
       "<Figure size 432x288 with 1 Axes>"
      ]
     },
     "metadata": {
      "needs_background": "light"
     },
     "output_type": "display_data"
    }
   ],
   "source": [
    "# amzn distribution for 3 bins without outliers\n",
    "x = pd.cut(diffs_no_outliers.diffs, bins=[-100, -0.25, 0.25, 100], labels=['decrease', 'neutral', 'increase'])\n",
    "sns.histplot(x)"
   ]
  },
  {
   "cell_type": "code",
   "execution_count": 11,
   "metadata": {},
   "outputs": [
    {
     "data": {
      "text/plain": [
       "<AxesSubplot:xlabel='diffs', ylabel='Count'>"
      ]
     },
     "execution_count": 11,
     "metadata": {},
     "output_type": "execute_result"
    },
    {
     "data": {
      "image/png": "[encoded data removed]",
      "text/plain": [
       "<Figure size 432x288 with 1 Axes>"
      ]
     },
     "metadata": {
      "needs_background": "light"
     },
     "output_type": "display_data"
    }
   ],
   "source": [
    "# amzn distribution for 5 bins without outliers\n",
    "x, bins_5 = pd.cut(diffs_no_outliers.diffs, bins=bins_5_vals, labels=['big_decrease','decrease', 'neutral', 'increase', 'big_increase'] ,retbins=True)\n",
    "sns.histplot(x)"
   ]
  },
  {
   "cell_type": "code",
   "execution_count": 12,
   "metadata": {},
   "outputs": [
    {
     "name": "stdout",
     "output_type": "stream",
     "text": [
      "[-100.     -1.     -0.25    0.25    1.    100.  ]\n"
     ]
    }
   ],
   "source": [
    "print(bins_5)"
   ]
  },
  {
   "cell_type": "code",
   "execution_count": 13,
   "metadata": {},
   "outputs": [
    {
     "name": "stdout",
     "output_type": "stream",
     "text": [
      "425 4.93\n"
     ]
    }
   ],
   "source": [
    "# how many outliers, what % of the data they are\n",
    "diff_in_len = len(amzn)-len(diffs_no_outliers)\n",
    "print(diff_in_len, round(diff_in_len/len(amzn)*100, 2))"
   ]
  },
  {
   "cell_type": "code",
   "execution_count": 14,
   "metadata": {},
   "outputs": [],
   "source": [
    "amzn['bin_2'] = pd.cut(amzn.diffs, bins=[-100, 0, 100], labels=[-1, 1])\n",
    "amzn['bin_3'] = pd.cut(amzn.diffs, bins=[-100, -0.25, 0.25, 100], labels=[-1, 0, 1])\n",
    "amzn['bin_5'] = pd.cut(amzn.diffs, bins=bins_5_vals, labels=[-2, -1, 0, 1, 2])"
   ]
  },
  {
   "cell_type": "code",
   "execution_count": 15,
   "metadata": {},
   "outputs": [],
   "source": [
    "amzn.to_csv('../datasets/binned/amzn_binned.csv', index=False)"
   ]
  },
  {
   "cell_type": "markdown",
   "metadata": {},
   "source": [
    "# Tesla\n",
    "\n",
    "Adjust for a split by divinding by 5"
   ]
  },
  {
   "cell_type": "code",
   "execution_count": 16,
   "metadata": {},
   "outputs": [],
   "source": [
    "tsla = df[df['ticker'] == 'TSLA'].copy()"
   ]
  },
  {
   "cell_type": "code",
   "execution_count": 17,
   "metadata": {},
   "outputs": [],
   "source": [
    "tsla[['open', 'high', 'low', 'close']] = tsla[['open', 'high', 'low', 'close']]/5\n",
    "tsla['diffs'] = tsla.close.pct_change() * 100\n",
    "# drop 1 NaN value\n",
    "tsla = tsla.dropna()"
   ]
  },
  {
   "cell_type": "code",
   "execution_count": 18,
   "metadata": {},
   "outputs": [
    {
     "data": {
      "text/plain": [
       "count    8687.000000\n",
       "mean        0.012902\n",
       "std         1.044761\n",
       "min       -13.684852\n",
       "2.5%       -1.891711\n",
       "50%         0.013187\n",
       "97.5%       1.976242\n",
       "max        17.482623\n",
       "Name: diffs, dtype: float64"
      ]
     },
     "execution_count": 18,
     "metadata": {},
     "output_type": "execute_result"
    }
   ],
   "source": [
    "tsla.diffs.describe(percentiles=[0.025, 0.975])"
   ]
  },
  {
   "cell_type": "markdown",
   "metadata": {},
   "source": [
    "We can see that 95% of the values lie in range -1.9% to 1.98%"
   ]
  },
  {
   "cell_type": "code",
   "execution_count": 19,
   "metadata": {},
   "outputs": [
    {
     "data": {
      "text/plain": [
       "<AxesSubplot:xlabel='diffs', ylabel='Count'>"
      ]
     },
     "execution_count": 19,
     "metadata": {},
     "output_type": "execute_result"
    },
    {
     "data": {
      "image/png": "[encoded data removed]",
      "text/plain": [
       "<Figure size 432x288 with 1 Axes>"
      ]
     },
     "metadata": {
      "needs_background": "light"
     },
     "output_type": "display_data"
    }
   ],
   "source": [
    "diffs_no_outliers = tsla[(tsla['diffs']>-1.9) & (tsla['diffs']<1.98)].copy()\n",
    "\n",
    "sns.histplot(diffs_no_outliers, x='diffs')"
   ]
  },
  {
   "cell_type": "code",
   "execution_count": 20,
   "metadata": {},
   "outputs": [
    {
     "data": {
      "text/plain": [
       "<AxesSubplot:xlabel='diffs', ylabel='Count'>"
      ]
     },
     "execution_count": 20,
     "metadata": {},
     "output_type": "execute_result"
    },
    {
     "data": {
      "image/png": "[encoded data removed]",
      "text/plain": [
       "<Figure size 432x288 with 1 Axes>"
      ]
     },
     "metadata": {
      "needs_background": "light"
     },
     "output_type": "display_data"
    }
   ],
   "source": [
    "# amzn distribution for 3 bins without outliers\n",
    "x, bins_3 = pd.cut(diffs_no_outliers.diffs, bins=[-100, -0.25, 0.25, 100], labels=['decrease', 'neutral', 'increase'], retbins=True)\n",
    "sns.histplot(x)"
   ]
  },
  {
   "cell_type": "code",
   "execution_count": 21,
   "metadata": {},
   "outputs": [
    {
     "data": {
      "text/plain": [
       "neutral     0.341895\n",
       "increase    0.336322\n",
       "decrease    0.321783\n",
       "Name: diffs, dtype: float64"
      ]
     },
     "execution_count": 21,
     "metadata": {},
     "output_type": "execute_result"
    }
   ],
   "source": [
    "x.value_counts(normalize=True)"
   ]
  },
  {
   "cell_type": "code",
   "execution_count": 22,
   "metadata": {},
   "outputs": [
    {
     "data": {
      "text/plain": [
       "<AxesSubplot:xlabel='diffs', ylabel='Count'>"
      ]
     },
     "execution_count": 22,
     "metadata": {},
     "output_type": "execute_result"
    },
    {
     "data": {
      "image/png": "[encoded data removed]",
      "text/plain": [
       "<Figure size 432x288 with 1 Axes>"
      ]
     },
     "metadata": {
      "needs_background": "light"
     },
     "output_type": "display_data"
    }
   ],
   "source": [
    "# amzn distribution for 5 bins without outliers\n",
    "x, bins_5 = pd.cut(diffs_no_outliers.diffs, bins=bins_5_vals, labels=['big_decrease','decrease', 'neutral', 'increase', 'big_increase'] ,retbins=True)\n",
    "sns.histplot(x)"
   ]
  },
  {
   "cell_type": "code",
   "execution_count": 23,
   "metadata": {},
   "outputs": [
    {
     "data": {
      "text/plain": [
       "neutral         0.341895\n",
       "increase        0.263751\n",
       "decrease        0.253695\n",
       "big_increase    0.072571\n",
       "big_decrease    0.068088\n",
       "Name: diffs, dtype: float64"
      ]
     },
     "execution_count": 23,
     "metadata": {},
     "output_type": "execute_result"
    }
   ],
   "source": [
    "x.value_counts(normalize=True)"
   ]
  },
  {
   "cell_type": "code",
   "execution_count": 24,
   "metadata": {},
   "outputs": [
    {
     "name": "stdout",
     "output_type": "stream",
     "text": [
      "433 4.98\n"
     ]
    }
   ],
   "source": [
    "# how many outliers, what % of the data they are\n",
    "diff_in_len = len(tsla)-len(diffs_no_outliers)\n",
    "print(diff_in_len, round(diff_in_len/len(tsla)*100, 2))"
   ]
  },
  {
   "cell_type": "code",
   "execution_count": 25,
   "metadata": {},
   "outputs": [],
   "source": [
    "tsla['bin_2'] = pd.cut(tsla.diffs, bins=[-100, 0, 100], labels=[-1, 1])\n",
    "tsla['bin_3'] = pd.cut(tsla.diffs, bins=[-100, -0.25, 0.25, 100], labels=[-1, 0, 1])\n",
    "tsla['bin_5'] = pd.cut(tsla.diffs, bins=bins_5_vals, labels=[-2, -1, 0, 1, 2])"
   ]
  },
  {
   "cell_type": "code",
   "execution_count": 26,
   "metadata": {},
   "outputs": [],
   "source": [
    "tsla.to_csv('../datasets/binned/tsla_binned.csv', index=False)"
   ]
  },
  {
   "cell_type": "markdown",
   "metadata": {},
   "source": [
    "# Apple\n",
    "\n",
    "Adjust for two stock splits by diving by 4, each split was by 2"
   ]
  },
  {
   "cell_type": "code",
   "execution_count": 27,
   "metadata": {},
   "outputs": [],
   "source": [
    "aapl = df[df['ticker'] == 'AAPL'].copy()"
   ]
  },
  {
   "cell_type": "code",
   "execution_count": 28,
   "metadata": {},
   "outputs": [],
   "source": [
    "aapl[['open', 'high', 'low', 'close']] = aapl[['open', 'high', 'low', 'close']]/4\n",
    "aapl['diffs'] = aapl.close.pct_change() * 100\n",
    "# drop 1 NaN value\n",
    "aapl = aapl.dropna()"
   ]
  },
  {
   "cell_type": "code",
   "execution_count": 29,
   "metadata": {},
   "outputs": [
    {
     "data": {
      "text/plain": [
       "count    8562.000000\n",
       "mean        0.013259\n",
       "std         0.591188\n",
       "min        -8.554965\n",
       "2.5%       -1.124361\n",
       "50%         0.011340\n",
       "97.5%       1.116002\n",
       "max         7.554077\n",
       "Name: diffs, dtype: float64"
      ]
     },
     "execution_count": 29,
     "metadata": {},
     "output_type": "execute_result"
    }
   ],
   "source": [
    "aapl.diffs.describe(percentiles=[0.025, 0.975])"
   ]
  },
  {
   "cell_type": "markdown",
   "metadata": {},
   "source": [
    "We can see that 95% of the values lie in range -1.12% to 1.11%"
   ]
  },
  {
   "cell_type": "code",
   "execution_count": 30,
   "metadata": {},
   "outputs": [
    {
     "data": {
      "text/plain": [
       "<AxesSubplot:xlabel='diffs', ylabel='Count'>"
      ]
     },
     "execution_count": 30,
     "metadata": {},
     "output_type": "execute_result"
    },
    {
     "data": {
      "image/png": "[encoded data removed]",
      "text/plain": [
       "<Figure size 432x288 with 1 Axes>"
      ]
     },
     "metadata": {
      "needs_background": "light"
     },
     "output_type": "display_data"
    }
   ],
   "source": [
    "diffs_no_outliers = aapl[(aapl['diffs']>-1.12) & (aapl['diffs']<1.12)].copy()\n",
    "\n",
    "sns.histplot(diffs_no_outliers, x='diffs')"
   ]
  },
  {
   "cell_type": "code",
   "execution_count": 31,
   "metadata": {},
   "outputs": [
    {
     "data": {
      "text/plain": [
       "<AxesSubplot:xlabel='diffs', ylabel='Count'>"
      ]
     },
     "execution_count": 31,
     "metadata": {},
     "output_type": "execute_result"
    },
    {
     "data": {
      "image/png": "[encoded data removed]",
      "text/plain": [
       "<Figure size 432x288 with 1 Axes>"
      ]
     },
     "metadata": {
      "needs_background": "light"
     },
     "output_type": "display_data"
    }
   ],
   "source": [
    "# amzn distribution for 3 bins without outliers\n",
    "x, bins_3 = pd.cut(diffs_no_outliers.diffs, bins=[-100, -0.25, 0.25, 100], labels=['decrease', 'neutral', 'increase'], retbins=True)\n",
    "sns.histplot(x)"
   ]
  },
  {
   "cell_type": "code",
   "execution_count": 32,
   "metadata": {},
   "outputs": [
    {
     "data": {
      "text/plain": [
       "neutral     0.589472\n",
       "increase    0.215103\n",
       "decrease    0.195425\n",
       "Name: diffs, dtype: float64"
      ]
     },
     "execution_count": 32,
     "metadata": {},
     "output_type": "execute_result"
    }
   ],
   "source": [
    "x.value_counts(normalize=True)"
   ]
  },
  {
   "cell_type": "code",
   "execution_count": 33,
   "metadata": {},
   "outputs": [
    {
     "data": {
      "text/plain": [
       "<AxesSubplot:xlabel='diffs', ylabel='Count'>"
      ]
     },
     "execution_count": 33,
     "metadata": {},
     "output_type": "execute_result"
    },
    {
     "data": {
      "image/png": "[encoded data removed]",
      "text/plain": [
       "<Figure size 432x288 with 1 Axes>"
      ]
     },
     "metadata": {
      "needs_background": "light"
     },
     "output_type": "display_data"
    }
   ],
   "source": [
    "# amzn distribution for 5 bins without outliers\n",
    "x, bins_5 = pd.cut(diffs_no_outliers.diffs, bins=bins_5_vals, labels=['big_decrease','decrease', 'neutral', 'increase', 'big_increase'] ,retbins=True)\n",
    "sns.histplot(x)"
   ]
  },
  {
   "cell_type": "code",
   "execution_count": 34,
   "metadata": {},
   "outputs": [
    {
     "data": {
      "text/plain": [
       "neutral         0.589472\n",
       "increase        0.206371\n",
       "decrease        0.189030\n",
       "big_increase    0.008732\n",
       "big_decrease    0.006395\n",
       "Name: diffs, dtype: float64"
      ]
     },
     "execution_count": 34,
     "metadata": {},
     "output_type": "execute_result"
    }
   ],
   "source": [
    "x.value_counts(normalize=True)"
   ]
  },
  {
   "cell_type": "code",
   "execution_count": 35,
   "metadata": {},
   "outputs": [
    {
     "name": "stdout",
     "output_type": "stream",
     "text": [
      "[-100.     -1.     -0.25    0.25    1.    100.  ]\n"
     ]
    }
   ],
   "source": [
    "print(bins_5)"
   ]
  },
  {
   "cell_type": "code",
   "execution_count": 36,
   "metadata": {},
   "outputs": [
    {
     "name": "stdout",
     "output_type": "stream",
     "text": [
      "431 5.03\n"
     ]
    }
   ],
   "source": [
    "# how many outliers, what % of the data they are\n",
    "diff_in_len = len(aapl)-len(diffs_no_outliers)\n",
    "print(diff_in_len, round(diff_in_len/len(aapl)*100, 2))"
   ]
  },
  {
   "cell_type": "code",
   "execution_count": 37,
   "metadata": {},
   "outputs": [],
   "source": [
    "aapl['bin_2'] = pd.cut(aapl.diffs, bins=[-100, 0, 100], labels=[-1, 1])\n",
    "aapl['bin_3'] = pd.cut(aapl.diffs, bins=bins_3, labels=[-1, 0, 1])\n",
    "aapl['bin_5'] = pd.cut(aapl.diffs, bins=bins_5_vals, labels=[-2, -1, 0, 1, 2])"
   ]
  },
  {
   "cell_type": "code",
   "execution_count": 38,
   "metadata": {},
   "outputs": [],
   "source": [
    "aapl.to_csv('../datasets/binned/aapl_binned.csv', index=False)"
   ]
  },
  {
   "cell_type": "markdown",
   "metadata": {},
   "source": [
    "# Microsoft"
   ]
  },
  {
   "cell_type": "code",
   "execution_count": 39,
   "metadata": {},
   "outputs": [],
   "source": [
    "msft = df[df['ticker'] == 'MSFT'].copy()"
   ]
  },
  {
   "cell_type": "code",
   "execution_count": 40,
   "metadata": {},
   "outputs": [],
   "source": [
    "msft['diffs'] = msft.close.pct_change() * 100\n",
    "# drop 1 NaN value\n",
    "msft = msft.dropna()"
   ]
  },
  {
   "cell_type": "code",
   "execution_count": 41,
   "metadata": {},
   "outputs": [
    {
     "data": {
      "text/plain": [
       "count    8611.000000\n",
       "mean        0.015546\n",
       "std         0.561287\n",
       "min        -9.670563\n",
       "2.5%       -1.066537\n",
       "50%         0.014783\n",
       "97.5%       1.056144\n",
       "max        10.993129\n",
       "Name: diffs, dtype: float64"
      ]
     },
     "execution_count": 41,
     "metadata": {},
     "output_type": "execute_result"
    }
   ],
   "source": [
    "msft.diffs.describe(percentiles=[0.025, 0.975])"
   ]
  },
  {
   "cell_type": "markdown",
   "metadata": {},
   "source": [
    "We can see that 95% of the values lie in range -1.07% to 1.06%"
   ]
  },
  {
   "cell_type": "code",
   "execution_count": 42,
   "metadata": {},
   "outputs": [
    {
     "data": {
      "text/plain": [
       "<AxesSubplot:xlabel='diffs', ylabel='Count'>"
      ]
     },
     "execution_count": 42,
     "metadata": {},
     "output_type": "execute_result"
    },
    {
     "data": {
      "image/png": "[encoded data removed]",
      "text/plain": [
       "<Figure size 432x288 with 1 Axes>"
      ]
     },
     "metadata": {
      "needs_background": "light"
     },
     "output_type": "display_data"
    }
   ],
   "source": [
    "diffs_no_outliers = msft[(msft['diffs']>-1.07) & (msft['diffs']<1.06)].copy()\n",
    "\n",
    "sns.histplot(diffs_no_outliers, x='diffs')"
   ]
  },
  {
   "cell_type": "code",
   "execution_count": 43,
   "metadata": {},
   "outputs": [
    {
     "data": {
      "text/plain": [
       "<AxesSubplot:xlabel='diffs', ylabel='Count'>"
      ]
     },
     "execution_count": 43,
     "metadata": {},
     "output_type": "execute_result"
    },
    {
     "data": {
      "image/png": "[encoded data removed]",
      "text/plain": [
       "<Figure size 432x288 with 1 Axes>"
      ]
     },
     "metadata": {
      "needs_background": "light"
     },
     "output_type": "display_data"
    }
   ],
   "source": [
    "# amzn distribution for 3 bins without outliers\n",
    "x, bins_3 = pd.cut(diffs_no_outliers.diffs, bins=[-100, -0.25, 0.25, 100], labels=['decrease', 'neutral', 'increase'], retbins=True)\n",
    "sns.histplot(x)"
   ]
  },
  {
   "cell_type": "code",
   "execution_count": 44,
   "metadata": {},
   "outputs": [
    {
     "data": {
      "text/plain": [
       "neutral     0.579738\n",
       "increase    0.224734\n",
       "decrease    0.195527\n",
       "Name: diffs, dtype: float64"
      ]
     },
     "execution_count": 44,
     "metadata": {},
     "output_type": "execute_result"
    }
   ],
   "source": [
    "x.value_counts(normalize=True)"
   ]
  },
  {
   "cell_type": "code",
   "execution_count": 45,
   "metadata": {},
   "outputs": [
    {
     "data": {
      "text/plain": [
       "<AxesSubplot:xlabel='diffs', ylabel='Count'>"
      ]
     },
     "execution_count": 45,
     "metadata": {},
     "output_type": "execute_result"
    },
    {
     "data": {
      "image/png": "[encoded data removed]",
      "text/plain": [
       "<Figure size 432x288 with 1 Axes>"
      ]
     },
     "metadata": {
      "needs_background": "light"
     },
     "output_type": "display_data"
    }
   ],
   "source": [
    "# amzn distribution for 5 bins without outliers\n",
    "x, bins_5 = pd.cut(diffs_no_outliers.diffs, bins=bins_5_vals, labels=['big_decrease','decrease', 'neutral', 'increase', 'big_increase'], retbins=True)\n",
    "sns.histplot(x)"
   ]
  },
  {
   "cell_type": "code",
   "execution_count": 46,
   "metadata": {},
   "outputs": [],
   "source": [
    "bins_5[0] = -100\n",
    "bins_5[-1] = 100"
   ]
  },
  {
   "cell_type": "code",
   "execution_count": 47,
   "metadata": {},
   "outputs": [
    {
     "data": {
      "text/plain": [
       "neutral         0.579738\n",
       "increase        0.220701\n",
       "decrease        0.190761\n",
       "big_decrease    0.004766\n",
       "big_increase    0.004033\n",
       "Name: diffs, dtype: float64"
      ]
     },
     "execution_count": 47,
     "metadata": {},
     "output_type": "execute_result"
    }
   ],
   "source": [
    "x.value_counts(normalize=True)"
   ]
  },
  {
   "cell_type": "code",
   "execution_count": 48,
   "metadata": {},
   "outputs": [
    {
     "name": "stdout",
     "output_type": "stream",
     "text": [
      "428 4.97\n"
     ]
    }
   ],
   "source": [
    "# how many outliers, what % of the data they are\n",
    "diff_in_len = len(msft)-len(diffs_no_outliers)\n",
    "print(diff_in_len, round(diff_in_len/len(msft)*100, 2))"
   ]
  },
  {
   "cell_type": "code",
   "execution_count": 49,
   "metadata": {},
   "outputs": [],
   "source": [
    "msft['bin_2'] = pd.cut(msft.diffs, bins=[-100, 0, 100], labels=[-1, 1])\n",
    "msft['bin_3'] = pd.cut(msft.diffs, bins=bins_3, labels=[-1, 0, 1])\n",
    "msft['bin_5'] = pd.cut(msft.diffs, bins=bins_5, labels=[-2, -1, 0, 1, 2])"
   ]
  },
  {
   "cell_type": "code",
   "execution_count": 50,
   "metadata": {},
   "outputs": [],
   "source": [
    "msft.to_csv('../datasets/binned/msft_binned.csv', index=False)"
   ]
  },
  {
   "cell_type": "markdown",
   "metadata": {},
   "source": [
    "# Goog"
   ]
  },
  {
   "cell_type": "code",
   "execution_count": 51,
   "metadata": {},
   "outputs": [],
   "source": [
    "goog = df[df['ticker'] == 'GOOG'].copy()"
   ]
  },
  {
   "cell_type": "code",
   "execution_count": 52,
   "metadata": {},
   "outputs": [],
   "source": [
    "goog['diffs'] = goog.close.pct_change() * 100\n",
    "# drop 1 NaN value\n",
    "goog = goog.dropna()"
   ]
  },
  {
   "cell_type": "code",
   "execution_count": 53,
   "metadata": {},
   "outputs": [
    {
     "data": {
      "text/plain": [
       "count    8780.000000\n",
       "mean        0.012145\n",
       "std         0.570715\n",
       "min        -7.609911\n",
       "2.5%       -1.039768\n",
       "50%         0.009183\n",
       "97.5%       1.049737\n",
       "max        12.614165\n",
       "Name: diffs, dtype: float64"
      ]
     },
     "execution_count": 53,
     "metadata": {},
     "output_type": "execute_result"
    }
   ],
   "source": [
    "goog.diffs.describe(percentiles=[0.025, 0.975])"
   ]
  },
  {
   "cell_type": "markdown",
   "metadata": {},
   "source": [
    "We can see that 95% of the values lie in range -1.04% to 1.05%"
   ]
  },
  {
   "cell_type": "code",
   "execution_count": 54,
   "metadata": {},
   "outputs": [
    {
     "data": {
      "text/plain": [
       "<AxesSubplot:xlabel='diffs', ylabel='Count'>"
      ]
     },
     "execution_count": 54,
     "metadata": {},
     "output_type": "execute_result"
    },
    {
     "data": {
      "image/png": "[encoded data removed]",
      "text/plain": [
       "<Figure size 432x288 with 1 Axes>"
      ]
     },
     "metadata": {
      "needs_background": "light"
     },
     "output_type": "display_data"
    }
   ],
   "source": [
    "diffs_no_outliers = goog[(goog['diffs']>-1.04) & (goog['diffs']<1.05)].copy()\n",
    "\n",
    "sns.histplot(diffs_no_outliers, x='diffs')"
   ]
  },
  {
   "cell_type": "code",
   "execution_count": 55,
   "metadata": {},
   "outputs": [
    {
     "data": {
      "text/plain": [
       "<AxesSubplot:xlabel='diffs', ylabel='Count'>"
      ]
     },
     "execution_count": 55,
     "metadata": {},
     "output_type": "execute_result"
    },
    {
     "data": {
      "image/png": "[encoded data removed]",
      "text/plain": [
       "<Figure size 432x288 with 1 Axes>"
      ]
     },
     "metadata": {
      "needs_background": "light"
     },
     "output_type": "display_data"
    }
   ],
   "source": [
    "# amzn distribution for 3 bins without outliers\n",
    "x, bins_3 = pd.cut(diffs_no_outliers.diffs, bins=[-100, -0.25, 0.25, 100], labels=['decrease', 'neutral', 'increase'], retbins=True)\n",
    "sns.histplot(x)"
   ]
  },
  {
   "cell_type": "code",
   "execution_count": 56,
   "metadata": {},
   "outputs": [
    {
     "data": {
      "text/plain": [
       "neutral     0.574101\n",
       "increase    0.221463\n",
       "decrease    0.204436\n",
       "Name: diffs, dtype: float64"
      ]
     },
     "execution_count": 56,
     "metadata": {},
     "output_type": "execute_result"
    }
   ],
   "source": [
    "x.value_counts(normalize=True)"
   ]
  },
  {
   "cell_type": "code",
   "execution_count": 57,
   "metadata": {},
   "outputs": [
    {
     "data": {
      "text/plain": [
       "<AxesSubplot:xlabel='diffs', ylabel='Count'>"
      ]
     },
     "execution_count": 57,
     "metadata": {},
     "output_type": "execute_result"
    },
    {
     "data": {
      "image/png": "[encoded data removed]",
      "text/plain": [
       "<Figure size 432x288 with 1 Axes>"
      ]
     },
     "metadata": {
      "needs_background": "light"
     },
     "output_type": "display_data"
    }
   ],
   "source": [
    "# amzn distribution for 5 bins without outliers\n",
    "x, bins_5 = pd.cut(diffs_no_outliers.diffs, bins=bins_5_vals, labels=['big_decrease','decrease', 'neutral', 'increase', 'big_increase'], retbins=True)\n",
    "sns.histplot(x)"
   ]
  },
  {
   "cell_type": "code",
   "execution_count": 58,
   "metadata": {},
   "outputs": [
    {
     "data": {
      "text/plain": [
       "neutral         0.574101\n",
       "increase        0.218585\n",
       "decrease        0.201559\n",
       "big_decrease    0.002878\n",
       "big_increase    0.002878\n",
       "Name: diffs, dtype: float64"
      ]
     },
     "execution_count": 58,
     "metadata": {},
     "output_type": "execute_result"
    }
   ],
   "source": [
    "x.value_counts(normalize=True)"
   ]
  },
  {
   "cell_type": "code",
   "execution_count": 59,
   "metadata": {},
   "outputs": [
    {
     "name": "stdout",
     "output_type": "stream",
     "text": [
      "[-100.     -1.     -0.25    0.25    1.    100.  ]\n"
     ]
    }
   ],
   "source": [
    "print(bins_5)\n"
   ]
  },
  {
   "cell_type": "code",
   "execution_count": 60,
   "metadata": {},
   "outputs": [],
   "source": [
    "bins_5[0] = -100\n",
    "bins_5[-1] = 100"
   ]
  },
  {
   "cell_type": "code",
   "execution_count": 61,
   "metadata": {},
   "outputs": [
    {
     "name": "stdout",
     "output_type": "stream",
     "text": [
      "440 5.01\n"
     ]
    }
   ],
   "source": [
    "# how many outliers, what % of the data they are\n",
    "diff_in_len = len(goog)-len(diffs_no_outliers)\n",
    "print(diff_in_len, round(diff_in_len/len(goog)*100, 2))"
   ]
  },
  {
   "cell_type": "code",
   "execution_count": 62,
   "metadata": {},
   "outputs": [],
   "source": [
    "goog['bin_2'] = pd.cut(goog.diffs, bins=[-100, 0, 100], labels=[-1, 1])\n",
    "goog['bin_3'] = pd.cut(goog.diffs, bins=bins_3, labels=[-1, 0, 1])\n",
    "goog['bin_5'] = pd.cut(goog.diffs, bins=bins_5, labels=[-2, -1, 0, 1, 2])"
   ]
  },
  {
   "cell_type": "code",
   "execution_count": 63,
   "metadata": {},
   "outputs": [],
   "source": [
    "goog.to_csv('../datasets/binned/goog_binned.csv', index=False)"
   ]
  },
  {
   "cell_type": "markdown",
   "metadata": {},
   "source": [
    "# GOOGL"
   ]
  },
  {
   "cell_type": "code",
   "execution_count": 64,
   "metadata": {},
   "outputs": [],
   "source": [
    "googl = df[df['ticker'] == 'GOOGL'].copy()"
   ]
  },
  {
   "cell_type": "code",
   "execution_count": 65,
   "metadata": {},
   "outputs": [],
   "source": [
    "googl[['open', 'high', 'low', 'close']] = googl[['open', 'high', 'low', 'close']]/5\n",
    "googl['diffs'] = googl.close.pct_change() * 100\n",
    "# drop 1 NaN value\n",
    "googl = googl.dropna()"
   ]
  },
  {
   "cell_type": "code",
   "execution_count": 66,
   "metadata": {},
   "outputs": [
    {
     "data": {
      "text/plain": [
       "count    8778.000000\n",
       "mean        0.012113\n",
       "std         0.577882\n",
       "min        -7.501543\n",
       "2.5%       -1.059171\n",
       "50%         0.008335\n",
       "97.5%       1.090677\n",
       "max        13.801642\n",
       "Name: diffs, dtype: float64"
      ]
     },
     "execution_count": 66,
     "metadata": {},
     "output_type": "execute_result"
    }
   ],
   "source": [
    "googl.diffs.describe(percentiles=[0.025, 0.975])"
   ]
  },
  {
   "cell_type": "markdown",
   "metadata": {},
   "source": [
    "We can see that 95% of the values lie in range -1.06% to 1.09%"
   ]
  },
  {
   "cell_type": "code",
   "execution_count": 67,
   "metadata": {},
   "outputs": [
    {
     "data": {
      "text/plain": [
       "<AxesSubplot:xlabel='diffs', ylabel='Count'>"
      ]
     },
     "execution_count": 67,
     "metadata": {},
     "output_type": "execute_result"
    },
    {
     "data": {
      "image/png": "[encoded data removed]",
      "text/plain": [
       "<Figure size 432x288 with 1 Axes>"
      ]
     },
     "metadata": {
      "needs_background": "light"
     },
     "output_type": "display_data"
    }
   ],
   "source": [
    "diffs_no_outliers = googl[(googl['diffs']>-1.06) & (googl['diffs']<1.09)].copy()\n",
    "\n",
    "sns.histplot(diffs_no_outliers, x='diffs')"
   ]
  },
  {
   "cell_type": "code",
   "execution_count": 68,
   "metadata": {},
   "outputs": [
    {
     "data": {
      "text/plain": [
       "<AxesSubplot:xlabel='diffs', ylabel='Count'>"
      ]
     },
     "execution_count": 68,
     "metadata": {},
     "output_type": "execute_result"
    },
    {
     "data": {
      "image/png": "[encoded data removed]",
      "text/plain": [
       "<Figure size 432x288 with 1 Axes>"
      ]
     },
     "metadata": {
      "needs_background": "light"
     },
     "output_type": "display_data"
    }
   ],
   "source": [
    "# amzn distribution for 3 bins without outliers\n",
    "x, bins_3 = pd.cut(diffs_no_outliers.diffs, bins=[-100, -0.25, 0.25, 100], labels=['decrease', 'neutral', 'increase'], retbins=True)\n",
    "sns.histplot(x)"
   ]
  },
  {
   "cell_type": "code",
   "execution_count": 69,
   "metadata": {},
   "outputs": [
    {
     "data": {
      "text/plain": [
       "neutral     0.564232\n",
       "increase    0.226460\n",
       "decrease    0.209308\n",
       "Name: diffs, dtype: float64"
      ]
     },
     "execution_count": 69,
     "metadata": {},
     "output_type": "execute_result"
    }
   ],
   "source": [
    "x.value_counts(normalize=True)"
   ]
  },
  {
   "cell_type": "code",
   "execution_count": 70,
   "metadata": {},
   "outputs": [
    {
     "data": {
      "text/plain": [
       "<AxesSubplot:xlabel='diffs', ylabel='Count'>"
      ]
     },
     "execution_count": 70,
     "metadata": {},
     "output_type": "execute_result"
    },
    {
     "data": {
      "image/png": "[encoded data removed]",
      "text/plain": [
       "<Figure size 432x288 with 1 Axes>"
      ]
     },
     "metadata": {
      "needs_background": "light"
     },
     "output_type": "display_data"
    }
   ],
   "source": [
    "# amzn distribution for 5 bins without outliers\n",
    "x, bins_5 = pd.cut(diffs_no_outliers.diffs, bins=bins_5_vals, labels=['big_decrease','decrease', 'neutral', 'increase', 'big_increase'], retbins=True)\n",
    "sns.histplot(x)"
   ]
  },
  {
   "cell_type": "code",
   "execution_count": 71,
   "metadata": {},
   "outputs": [],
   "source": [
    "bins_5[0] = -100\n",
    "bins_5[-1] = 100"
   ]
  },
  {
   "cell_type": "code",
   "execution_count": 72,
   "metadata": {},
   "outputs": [
    {
     "data": {
      "text/plain": [
       "neutral         0.564232\n",
       "increase        0.221303\n",
       "decrease        0.205590\n",
       "big_increase    0.005158\n",
       "big_decrease    0.003718\n",
       "Name: diffs, dtype: float64"
      ]
     },
     "execution_count": 72,
     "metadata": {},
     "output_type": "execute_result"
    }
   ],
   "source": [
    "x.value_counts(normalize=True)"
   ]
  },
  {
   "cell_type": "code",
   "execution_count": 73,
   "metadata": {},
   "outputs": [
    {
     "name": "stdout",
     "output_type": "stream",
     "text": [
      "441 5.02\n"
     ]
    }
   ],
   "source": [
    "# how many outliers, what % of the data they are\n",
    "diff_in_len = len(googl)-len(diffs_no_outliers)\n",
    "print(diff_in_len, round(diff_in_len/len(googl)*100, 2))"
   ]
  },
  {
   "cell_type": "code",
   "execution_count": 74,
   "metadata": {},
   "outputs": [],
   "source": [
    "googl['bin_2'] = pd.cut(googl.diffs, bins=[-100, 0, 100], labels=[-1, 1])\n",
    "googl['bin_3'] = pd.cut(googl.diffs, bins=bins_3, labels=[-1, 0, 1])\n",
    "googl['bin_5'] = pd.cut(googl.diffs, bins=bins_5, labels=[-2, -1, 0, 1, 2])"
   ]
  },
  {
   "cell_type": "code",
   "execution_count": 75,
   "metadata": {},
   "outputs": [],
   "source": [
    "googl.to_csv('../datasets/binned/googl_binned.csv', index=False)"
   ]
  }
 ],
 "metadata": {
  "interpreter": {
   "hash": "1dd0381d1fc2fb15dda0c9601b2866ce5a466e54b3f253773e8ed097d13694fa"
  },
  "kernelspec": {
   "display_name": "Python 3.10.4 64-bit",
   "language": "python",
   "name": "python3"
  },
  "language_info": {
   "codemirror_mode": {
    "name": "ipython",
    "version": 3
   },
   "file_extension": ".py",
   "mimetype": "text/x-python",
   "name": "python",
   "nbconvert_exporter": "python",
   "pygments_lexer": "ipython3",
   "version": "3.10.0"
  },
  "orig_nbformat": 4
 },
 "nbformat": 4,
 "nbformat_minor": 2
}
