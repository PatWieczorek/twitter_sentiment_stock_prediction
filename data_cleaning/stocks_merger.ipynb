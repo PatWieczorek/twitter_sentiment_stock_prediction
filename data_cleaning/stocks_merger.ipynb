{
 "cells": [
  {
   "cell_type": "code",
   "execution_count": 5,
   "metadata": {},
   "outputs": [],
   "source": [
    "import numpy as np\n",
    "import pandas as pd\n",
    "from datetime import datetime, timedelta"
   ]
  },
  {
   "cell_type": "code",
   "execution_count": 6,
   "metadata": {},
   "outputs": [],
   "source": [
    "def clean_cols(columns):\n",
    "    columns = columns.str.replace('<', '').str.replace('>', '')\n",
    "    columns = columns.str.lower()\n",
    "    return columns"
   ]
  },
  {
   "cell_type": "code",
   "execution_count": 7,
   "metadata": {},
   "outputs": [
    {
     "name": "stdout",
     "output_type": "stream",
     "text": [
      "<class 'pandas.core.frame.DataFrame'>\n",
      "Int64Index: 63373 entries, 0 to 10563\n",
      "Data columns (total 9 columns):\n",
      " #   Column  Non-Null Count  Dtype  \n",
      "---  ------  --------------  -----  \n",
      " 0   ticker  63373 non-null  object \n",
      " 1   per     63373 non-null  int64  \n",
      " 2   date    63373 non-null  object \n",
      " 3   time    63373 non-null  object \n",
      " 4   open    63373 non-null  float64\n",
      " 5   high    63373 non-null  float64\n",
      " 6   low     63373 non-null  float64\n",
      " 7   close   63373 non-null  float64\n",
      " 8   vol     63373 non-null  int64  \n",
      "dtypes: float64(4), int64(2), object(3)\n",
      "memory usage: 4.8+ MB\n"
     ]
    }
   ],
   "source": [
    "company_names = ['amazon', 'apple', 'goog', 'googl', 'microsoft', 'tesla']\n",
    "stocks = pd.DataFrame()\n",
    "\n",
    "for company in company_names:\n",
    "    stocks_company = pd.read_csv(f'../datasets/stocks/{company}_stocks.csv')\n",
    "    stocks_company.columns = clean_cols(stocks_company.columns)\n",
    "    stocks = pd.concat([stocks, stocks_company])\n",
    "stocks['date'] = stocks['date'].astype(str)\n",
    "stocks['time'] = stocks['time'].astype(str)\n",
    "stocks.info()"
   ]
  },
  {
   "cell_type": "code",
   "execution_count": 8,
   "metadata": {},
   "outputs": [],
   "source": [
    "stocks['ticker'] = stocks['ticker'].apply(lambda x: x.split('.')[1])\n",
    "stocks.loc[stocks['time'] == '0', ['time']] = '000000'\n",
    "stocks = stocks[stocks['time'] != '10000']\n",
    "stocks.drop(['per'], axis=1, inplace=True)"
   ]
  },
  {
   "cell_type": "code",
   "execution_count": 9,
   "metadata": {},
   "outputs": [
    {
     "data": {
      "text/plain": [
       "000000    3096\n",
       "170000    5965\n",
       "180000    9055\n",
       "190000    9058\n",
       "200000    9058\n",
       "210000    9058\n",
       "220000    9045\n",
       "230000    9031\n",
       "Name: time, dtype: int64"
      ]
     },
     "execution_count": 9,
     "metadata": {},
     "output_type": "execute_result"
    }
   ],
   "source": [
    "stocks['time'].value_counts().sort_index()"
   ]
  },
  {
   "cell_type": "code",
   "execution_count": 10,
   "metadata": {},
   "outputs": [
    {
     "data": {
      "text/html": [
       "<div>\n",
       "<style scoped>\n",
       "    .dataframe tbody tr th:only-of-type {\n",
       "        vertical-align: middle;\n",
       "    }\n",
       "\n",
       "    .dataframe tbody tr th {\n",
       "        vertical-align: top;\n",
       "    }\n",
       "\n",
       "    .dataframe thead th {\n",
       "        text-align: right;\n",
       "    }\n",
       "</style>\n",
       "<table border=\"1\" class=\"dataframe\">\n",
       "  <thead>\n",
       "    <tr style=\"text-align: right;\">\n",
       "      <th></th>\n",
       "      <th>ticker</th>\n",
       "      <th>date</th>\n",
       "      <th>time</th>\n",
       "      <th>open</th>\n",
       "      <th>high</th>\n",
       "      <th>low</th>\n",
       "      <th>close</th>\n",
       "      <th>vol</th>\n",
       "    </tr>\n",
       "  </thead>\n",
       "  <tbody>\n",
       "    <tr>\n",
       "      <th>0</th>\n",
       "      <td>AMZN</td>\n",
       "      <td>20150102</td>\n",
       "      <td>180000</td>\n",
       "      <td>312.58</td>\n",
       "      <td>314.75</td>\n",
       "      <td>312.1100</td>\n",
       "      <td>313.52</td>\n",
       "      <td>404201</td>\n",
       "    </tr>\n",
       "    <tr>\n",
       "      <th>1</th>\n",
       "      <td>AMZN</td>\n",
       "      <td>20150102</td>\n",
       "      <td>190000</td>\n",
       "      <td>313.25</td>\n",
       "      <td>313.59</td>\n",
       "      <td>308.6300</td>\n",
       "      <td>308.96</td>\n",
       "      <td>509208</td>\n",
       "    </tr>\n",
       "    <tr>\n",
       "      <th>2</th>\n",
       "      <td>AMZN</td>\n",
       "      <td>20150102</td>\n",
       "      <td>200000</td>\n",
       "      <td>308.84</td>\n",
       "      <td>310.12</td>\n",
       "      <td>306.9601</td>\n",
       "      <td>309.75</td>\n",
       "      <td>427854</td>\n",
       "    </tr>\n",
       "    <tr>\n",
       "      <th>3</th>\n",
       "      <td>AMZN</td>\n",
       "      <td>20150102</td>\n",
       "      <td>210000</td>\n",
       "      <td>309.77</td>\n",
       "      <td>309.93</td>\n",
       "      <td>308.0500</td>\n",
       "      <td>308.40</td>\n",
       "      <td>209933</td>\n",
       "    </tr>\n",
       "    <tr>\n",
       "      <th>4</th>\n",
       "      <td>AMZN</td>\n",
       "      <td>20150102</td>\n",
       "      <td>220000</td>\n",
       "      <td>308.41</td>\n",
       "      <td>308.48</td>\n",
       "      <td>307.2500</td>\n",
       "      <td>308.35</td>\n",
       "      <td>158209</td>\n",
       "    </tr>\n",
       "  </tbody>\n",
       "</table>\n",
       "</div>"
      ],
      "text/plain": [
       "  ticker      date    time    open    high       low   close     vol\n",
       "0   AMZN  20150102  180000  312.58  314.75  312.1100  313.52  404201\n",
       "1   AMZN  20150102  190000  313.25  313.59  308.6300  308.96  509208\n",
       "2   AMZN  20150102  200000  308.84  310.12  306.9601  309.75  427854\n",
       "3   AMZN  20150102  210000  309.77  309.93  308.0500  308.40  209933\n",
       "4   AMZN  20150102  220000  308.41  308.48  307.2500  308.35  158209"
      ]
     },
     "execution_count": 10,
     "metadata": {},
     "output_type": "execute_result"
    }
   ],
   "source": [
    "stocks.head()"
   ]
  },
  {
   "cell_type": "code",
   "execution_count": 11,
   "metadata": {},
   "outputs": [],
   "source": [
    "stocks['date_'] = stocks['date'] + stocks['time']\n",
    "stocks['date_'] = pd.to_datetime(stocks['date_'], format='%Y%m%d%H%M%S')\n",
    "\n",
    "stocks.drop(['date', 'time'], axis=1, inplace=True)"
   ]
  },
  {
   "cell_type": "code",
   "execution_count": 12,
   "metadata": {},
   "outputs": [],
   "source": [
    "#match tweets timezone\n",
    "stocks['date_'] = stocks['date_'] - timedelta(hours=1)"
   ]
  },
  {
   "cell_type": "code",
   "execution_count": 13,
   "metadata": {},
   "outputs": [],
   "source": [
    "def get_hours(col):\n",
    "    return col['date_'].hour"
   ]
  },
  {
   "cell_type": "code",
   "execution_count": 14,
   "metadata": {},
   "outputs": [
    {
     "data": {
      "text/plain": [
       "16    5965\n",
       "17    9055\n",
       "18    9058\n",
       "19    9058\n",
       "20    9058\n",
       "21    9045\n",
       "22    9031\n",
       "23    3096\n",
       "Name: time, dtype: int64"
      ]
     },
     "execution_count": 14,
     "metadata": {},
     "output_type": "execute_result"
    }
   ],
   "source": [
    "stocks['time'] = stocks.apply(get_hours, axis=1)\n",
    "stocks.time.value_counts().sort_index()"
   ]
  },
  {
   "cell_type": "code",
   "execution_count": 15,
   "metadata": {},
   "outputs": [],
   "source": [
    "stocks.drop(['time'], axis=1, inplace=True)"
   ]
  },
  {
   "cell_type": "code",
   "execution_count": 16,
   "metadata": {},
   "outputs": [],
   "source": [
    "cols = list(stocks.columns[:-1])\n",
    "cols.insert(0, 'date_')\n",
    "stocks = stocks[cols]"
   ]
  },
  {
   "cell_type": "code",
   "execution_count": 17,
   "metadata": {},
   "outputs": [
    {
     "data": {
      "text/html": [
       "<div>\n",
       "<style scoped>\n",
       "    .dataframe tbody tr th:only-of-type {\n",
       "        vertical-align: middle;\n",
       "    }\n",
       "\n",
       "    .dataframe tbody tr th {\n",
       "        vertical-align: top;\n",
       "    }\n",
       "\n",
       "    .dataframe thead th {\n",
       "        text-align: right;\n",
       "    }\n",
       "</style>\n",
       "<table border=\"1\" class=\"dataframe\">\n",
       "  <thead>\n",
       "    <tr style=\"text-align: right;\">\n",
       "      <th></th>\n",
       "      <th>date_</th>\n",
       "      <th>ticker</th>\n",
       "      <th>open</th>\n",
       "      <th>high</th>\n",
       "      <th>low</th>\n",
       "      <th>close</th>\n",
       "      <th>vol</th>\n",
       "    </tr>\n",
       "  </thead>\n",
       "  <tbody>\n",
       "    <tr>\n",
       "      <th>0</th>\n",
       "      <td>2015-01-02 17:00:00</td>\n",
       "      <td>AMZN</td>\n",
       "      <td>312.58</td>\n",
       "      <td>314.75</td>\n",
       "      <td>312.1100</td>\n",
       "      <td>313.52</td>\n",
       "      <td>404201</td>\n",
       "    </tr>\n",
       "    <tr>\n",
       "      <th>1</th>\n",
       "      <td>2015-01-02 18:00:00</td>\n",
       "      <td>AMZN</td>\n",
       "      <td>313.25</td>\n",
       "      <td>313.59</td>\n",
       "      <td>308.6300</td>\n",
       "      <td>308.96</td>\n",
       "      <td>509208</td>\n",
       "    </tr>\n",
       "    <tr>\n",
       "      <th>2</th>\n",
       "      <td>2015-01-02 19:00:00</td>\n",
       "      <td>AMZN</td>\n",
       "      <td>308.84</td>\n",
       "      <td>310.12</td>\n",
       "      <td>306.9601</td>\n",
       "      <td>309.75</td>\n",
       "      <td>427854</td>\n",
       "    </tr>\n",
       "    <tr>\n",
       "      <th>3</th>\n",
       "      <td>2015-01-02 20:00:00</td>\n",
       "      <td>AMZN</td>\n",
       "      <td>309.77</td>\n",
       "      <td>309.93</td>\n",
       "      <td>308.0500</td>\n",
       "      <td>308.40</td>\n",
       "      <td>209933</td>\n",
       "    </tr>\n",
       "    <tr>\n",
       "      <th>4</th>\n",
       "      <td>2015-01-02 21:00:00</td>\n",
       "      <td>AMZN</td>\n",
       "      <td>308.41</td>\n",
       "      <td>308.48</td>\n",
       "      <td>307.2500</td>\n",
       "      <td>308.35</td>\n",
       "      <td>158209</td>\n",
       "    </tr>\n",
       "  </tbody>\n",
       "</table>\n",
       "</div>"
      ],
      "text/plain": [
       "                date_ ticker    open    high       low   close     vol\n",
       "0 2015-01-02 17:00:00   AMZN  312.58  314.75  312.1100  313.52  404201\n",
       "1 2015-01-02 18:00:00   AMZN  313.25  313.59  308.6300  308.96  509208\n",
       "2 2015-01-02 19:00:00   AMZN  308.84  310.12  306.9601  309.75  427854\n",
       "3 2015-01-02 20:00:00   AMZN  309.77  309.93  308.0500  308.40  209933\n",
       "4 2015-01-02 21:00:00   AMZN  308.41  308.48  307.2500  308.35  158209"
      ]
     },
     "execution_count": 17,
     "metadata": {},
     "output_type": "execute_result"
    }
   ],
   "source": [
    "stocks.head()"
   ]
  },
  {
   "cell_type": "code",
   "execution_count": 19,
   "metadata": {},
   "outputs": [],
   "source": [
    "for i in stocks['ticker'].unique():\n",
    "    stocks[stocks['ticker'] == i].to_csv(f'../datasets/stocks_clean/{i}.csv', index=None)"
   ]
  }
 ],
 "metadata": {
  "kernelspec": {
   "display_name": "Python 3.10.4 64-bit",
   "language": "python",
   "name": "python3"
  },
  "language_info": {
   "codemirror_mode": {
    "name": "ipython",
    "version": 3
   },
   "file_extension": ".py",
   "mimetype": "text/x-python",
   "name": "python",
   "nbconvert_exporter": "python",
   "pygments_lexer": "ipython3",
   "version": "3.10.0"
  },
  "orig_nbformat": 4,
  "vscode": {
   "interpreter": {
    "hash": "1dd0381d1fc2fb15dda0c9601b2866ce5a466e54b3f253773e8ed097d13694fa"
   }
  }
 },
 "nbformat": 4,
 "nbformat_minor": 2
}
