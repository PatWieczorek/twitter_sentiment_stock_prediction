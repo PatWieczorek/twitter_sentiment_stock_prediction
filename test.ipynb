{
 "cells": [
  {
   "cell_type": "code",
   "execution_count": 1,
   "metadata": {},
   "outputs": [],
   "source": [
    "import pandas as pd"
   ]
  },
  {
   "cell_type": "code",
   "execution_count": null,
   "metadata": {},
   "outputs": [],
   "source": [
    "googl = df[df['ticker'] == 'googl'].copy()"
   ]
  },
  {
   "cell_type": "code",
   "execution_count": null,
   "metadata": {},
   "outputs": [],
   "source": [
    "googl[['open', 'high', 'low', 'close']] = googl[['open', 'high', 'low', 'close']]/5\n",
    "googl['diffs'] = googl.close.pct_change() * 100\n",
    "# drop 1 NaN value\n",
    "googl = googl.dropna()"
   ]
  },
  {
   "cell_type": "code",
   "execution_count": null,
   "metadata": {},
   "outputs": [
    {
     "data": {
      "text/plain": [
       "count    8687.000000\n",
       "mean        0.012902\n",
       "std         1.044761\n",
       "min       -13.684852\n",
       "2.5%       -1.891711\n",
       "50%         0.013187\n",
       "97.5%       1.976242\n",
       "max        17.482623\n",
       "Name: diffs, dtype: float64"
      ]
     },
     "metadata": {},
     "output_type": "display_data"
    }
   ],
   "source": [
    "googl.diffs.describe(percentiles=[0.025, 0.975])"
   ]
  },
  {
   "cell_type": "markdown",
   "metadata": {},
   "source": [
    "We can see that 95% of the values lie in range -1.9% to 1.98%"
   ]
  },
  {
   "cell_type": "code",
   "execution_count": null,
   "metadata": {},
   "outputs": [
    {
     "data": {
      "text/plain": [
       "<AxesSubplot:xlabel='diffs', ylabel='Count'>"
      ]
     },
     "metadata": {},
     "output_type": "display_data"
    },
    {
     "data": {
      "image/png": "[encoded data removed]",
      "text/plain": [
       "<Figure size 432x288 with 1 Axes>"
      ]
     },
     "metadata": {},
     "output_type": "display_data"
    }
   ],
   "source": [
    "diffs_no_outliers = googl[(googl['diffs']>-1.9) & (googl['diffs']<1.98)].copy()\n",
    "\n",
    "sns.histplot(diffs_no_outliers, x='diffs')"
   ]
  },
  {
   "cell_type": "code",
   "execution_count": null,
   "metadata": {},
   "outputs": [
    {
     "data": {
      "text/plain": [
       "<AxesSubplot:xlabel='diffs', ylabel='Count'>"
      ]
     },
     "metadata": {},
     "output_type": "display_data"
    },
    {
     "data": {
      "image/png": "[encoded data removed]",
      "text/plain": [
       "<Figure size 432x288 with 1 Axes>"
      ]
     },
     "metadata": {},
     "output_type": "display_data"
    }
   ],
   "source": [
    "# amzn distribution for 3 bins without outliers\n",
    "x, bins_3 = pd.cut(diffs_no_outliers.diffs, bins=[-100, -0.40, 0.40, 100], labels=['decrease', 'neutral', 'increase'], retbins=True)\n",
    "sns.histplot(x)"
   ]
  },
  {
   "cell_type": "code",
   "execution_count": null,
   "metadata": {},
   "outputs": [
    {
     "data": {
      "text/plain": [
       "neutral     0.500242\n",
       "increase    0.258541\n",
       "decrease    0.241216\n",
       "Name: diffs, dtype: float64"
      ]
     },
     "metadata": {},
     "output_type": "display_data"
    }
   ],
   "source": [
    "x.value_counts(normalize=True)"
   ]
  },
  {
   "cell_type": "code",
   "execution_count": null,
   "metadata": {},
   "outputs": [
    {
     "data": {
      "text/plain": [
       "<AxesSubplot:xlabel='diffs', ylabel='Count'>"
      ]
     },
     "metadata": {},
     "output_type": "display_data"
    },
    {
     "data": {
      "image/png": "[encoded data removed]",
      "text/plain": [
       "<Figure size 432x288 with 1 Axes>"
      ]
     },
     "metadata": {},
     "output_type": "display_data"
    }
   ],
   "source": [
    "# amzn distribution for 5 bins without outliers\n",
    "x, bins_5 = pd.cut(diffs_no_outliers.diffs, bins=5, labels=['big_decrease','decrease', 'neutral', 'increase', 'big_increase'], retbins=True)\n",
    "sns.histplot(x)"
   ]
  },
  {
   "cell_type": "code",
   "execution_count": null,
   "metadata": {},
   "outputs": [
    {
     "data": {
      "text/plain": [
       "neutral         0.485462\n",
       "decrease        0.216138\n",
       "increase        0.202205\n",
       "big_decrease    0.050521\n",
       "big_increase    0.045675\n",
       "Name: diffs, dtype: float64"
      ]
     },
     "metadata": {},
     "output_type": "display_data"
    }
   ],
   "source": [
    "x.value_counts(normalize=True)"
   ]
  },
  {
   "cell_type": "code",
   "execution_count": null,
   "metadata": {},
   "outputs": [
    {
     "name": "stdout",
     "output_type": "stream",
     "text": [
      "[-1.19725684 -0.70411374 -0.21342409  0.27726556  0.76795521  1.25864486]\n"
     ]
    }
   ],
   "source": [
    "print(bins_5)"
   ]
  },
  {
   "cell_type": "code",
   "execution_count": null,
   "metadata": {},
   "outputs": [
    {
     "name": "stdout",
     "output_type": "stream",
     "text": [
      "425 4.93\n"
     ]
    }
   ],
   "source": [
    "# how many outliers, what % of the data they are\n",
    "diff_in_len = len(googl)-len(diffs_no_outliers)\n",
    "print(diff_in_len, round(diff_in_len/len(googl)*100, 2))"
   ]
  },
  {
   "cell_type": "code",
   "execution_count": null,
   "metadata": {},
   "outputs": [],
   "source": [
    "googl['bin_2'] = pd.cut(googl.diffs, bins=[-100, 0, 100], labels=[-1, 1])\n",
    "googl['bin_3'] = pd.cut(googl.diffs, bins=bins_3, labels=[-1, 0, 1])\n",
    "googl['bin_5'] = pd.cut(googl.diffs, bins=bins_5, labels=[-2, -1, 0, 1, 2])"
   ]
  },
  {
   "cell_type": "code",
   "execution_count": null,
   "metadata": {},
   "outputs": [],
   "source": [
    "googl.to_csv('../datasets/binned/googl_binned.csv', index=False)"
   ]
  },
  {
   "cell_type": "code",
   "execution_count": 1,
   "metadata": {},
   "outputs": [
    {
     "data": {
      "text/plain": [
       "False"
      ]
     },
     "execution_count": 1,
     "metadata": {},
     "output_type": "execute_result"
    }
   ],
   "source": [
    "1 == 2"
   ]
  },
  {
   "cell_type": "code",
   "execution_count": 4,
   "metadata": {},
   "outputs": [
    {
     "name": "stderr",
     "output_type": "stream",
     "text": [
      "<>:1: SyntaxWarning: assertion is always true, perhaps remove parentheses?\n",
      "<>:1: SyntaxWarning: assertion is always true, perhaps remove parentheses?\n",
      "C:\\Users\\Patryk\\AppData\\Local\\Temp\\ipykernel_17712\\2576167553.py:1: SyntaxWarning: assertion is always true, perhaps remove parentheses?\n",
      "  assert(1 == 2, \"This should fail\")\n"
     ]
    }
   ],
   "source": [
    "assert(1 == 2, \"This should fail\")"
   ]
  }
 ],
 "metadata": {
  "kernelspec": {
   "display_name": "Python 3.10.4 64-bit",
   "language": "python",
   "name": "python3"
  },
  "language_info": {
   "codemirror_mode": {
    "name": "ipython",
    "version": 3
   },
   "file_extension": ".py",
   "mimetype": "text/x-python",
   "name": "python",
   "nbconvert_exporter": "python",
   "pygments_lexer": "ipython3",
   "version": "3.10.4"
  },
  "orig_nbformat": 4,
  "vscode": {
   "interpreter": {
    "hash": "1dd0381d1fc2fb15dda0c9601b2866ce5a466e54b3f253773e8ed097d13694fa"
   }
  }
 },
 "nbformat": 4,
 "nbformat_minor": 2
}
